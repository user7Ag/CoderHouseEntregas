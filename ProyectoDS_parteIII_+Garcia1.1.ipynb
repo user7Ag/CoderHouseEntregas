{
 "cells": [
  {
   "cell_type": "markdown",
   "id": "4f48e674-82f3-4f24-b9c4-d08fd912b637",
   "metadata": {},
   "source": [
    "# En los ultimos 30 años han disminuido las emisiones de Co2 mundialmente ?"
   ]
  },
  {
   "cell_type": "code",
   "execution_count": 1,
   "id": "ea9f64e2-81f5-4073-8ec5-b55507d0dee5",
   "metadata": {},
   "outputs": [
    {
     "data": {
      "text/plain": [
       "'1.0.2'"
      ]
     },
     "execution_count": 1,
     "metadata": {},
     "output_type": "execute_result"
    }
   ],
   "source": [
    "import numpy as np\n",
    "import pandas as pd\n",
    "import matplotlib.pyplot as plt\n",
    "import seaborn as sns\n",
    "import statsmodels.api as sm\n",
    "import sklearn\n",
    "sklearn.__version__"
   ]
  },
  {
   "cell_type": "markdown",
   "id": "8b5c73d4-a323-4d54-b558-37459f2d6dee",
   "metadata": {},
   "source": [
    "# Introducción"
   ]
  },
  {
   "cell_type": "markdown",
   "id": "b7c8dda0-4b19-4e73-b9e9-930b2327f13e",
   "metadata": {},
   "source": [
    "# Contexto \n",
    "\n",
    "Durante los últimos 30 años, las emisiones de dióxido de carbono (CO2) a nivel mundial han seguido aumentando de manera constante. Según el Informe de Evaluación Global del Cambio Climático de 2021, elaborado por el Grupo Intergubernamental de Expertos sobre el Cambio Climático (IPCC), las emisiones globales de CO2 aumentaron en un promedio anual del 1.5% entre 2010 y 2019.\n",
    "\n",
    "El informe también señala que las emisiones de gases de efecto invernadero (GEI) de origen humano son la principal causa del calentamiento global observado en las últimas décadas. Desde la Revolución Industrial, las emisiones de GEI se han incrementado significativamente debido al uso de combustibles fósiles como el petróleo, el gas y el carbón, así como a la deforestación y la agricultura intensiva.\n",
    "\n",
    "El aumento en las emisiones de CO2 ha llevado a un aumento en la temperatura global promedio, lo que ha provocado una serie de impactos en el clima, como el aumento del nivel del mar, la acidificación de los océanos y el aumento de eventos climáticos extremos como huracanes, sequías e inundaciones.\n",
    "\n",
    "Para combatir este problema, muchos países han implementado medidas para reducir las emisiones de GEI, como la promoción de fuentes de energía renovable, la mejora de la eficiencia energética y la adopción de prácticas agrícolas más sostenibles. Sin embargo, a pesar de estos esfuerzos, la reducción de las emisiones globales de GEI sigue siendo un desafío importante.\n",
    "\n",
    "# Contexto analítico\n",
    "\n",
    "Se proporciona un archivo CSV (almacenado en GitHub) que contiene detalles sobre cada emision de Co2 a nivel de cada pais en el mundo\n",
    "\n",
    "1) Se extraen los datos a partir de un archivo CSV\n",
    "2) Se leen y transforman los mimsos y se preparan los datos para su visualización\n",
    "3) Se procede a realizar un análisis y a construir visualizaciones de los datos para identificar patrones en el conjunto de datos\n",
    "\n",
    "Para el presente trabajo se extrajo información de emisiones de Co2 a nivel mundial.\n",
    "\n",
    "Estos datos fueron extraídos de Kaggle. El Dataset presente consiste en emisiones de Co2 en medida (metricon) per cápita por caída país alrededor del mundo. Estos datos fueron recolectados a través desde World Data Bank.\n",
    "\n",
    "***Links:***\n",
    "\n",
    "https://data.worldbank.org/indicator/EN.ATM.CO2E.PC\n",
    "\n",
    "https://www.kaggle.com/datasets/koustavghosh149/co2-emission-around-the-world\n",
    "\n",
    "# Hipótesis\n",
    "\n",
    "Se analizaran y se realizaran graficas a fin de que nos briden información fidedigna y valiosa, para de esta manera poder respondernos; si las emisiones de Co2 han disminuido con el paso del tiempo hasta nuestros días, y cuáles son los piases donde hay una mayor tendencia a lo largo del tiempo a tener mayores niveles de contaminación."
   ]
  },
  {
   "cell_type": "markdown",
   "id": "207c8805-16b1-474d-8847-c348b4a10849",
   "metadata": {},
   "source": [
    "***Obtencion de datos relevantes***"
   ]
  },
  {
   "cell_type": "markdown",
   "id": "593a3bb0-3f51-4167-9f21-e4053176e40c",
   "metadata": {},
   "source": [
    "Los datos se almacenan en un archivo CSV, en el cual mediante librerias en cojunto con Python nos seran de grana ayuda para otener los mismos\n",
    "\n"
   ]
  },
  {
   "cell_type": "markdown",
   "id": "8c269800-0cef-4221-9f5f-b73af2d4f442",
   "metadata": {},
   "source": [
    "***De que manera se obtienen los datos ?***"
   ]
  },
  {
   "cell_type": "code",
   "execution_count": 2,
   "id": "5ea62274-9e8c-4638-99f9-222e7bf4dacd",
   "metadata": {},
   "outputs": [],
   "source": [
    "url='/Users/user/Downloads/SegundaEntregaCoder/GCB2022v27_MtCO2_flat.csv'\n",
    "df=pd.read_csv('/Users/user/Downloads/SegundaEntregaCoder/GCB2022v27_MtCO2_flat.csv')"
   ]
  },
  {
   "cell_type": "markdown",
   "id": "cc059250-f7cc-433c-9d24-4496c1d9ee97",
   "metadata": {},
   "source": [
    "Se obtienen los datos mediante la funcion df=pd.read_csv llamando a la URL que es la ruta donde se encuentra alojado nuestro CSV"
   ]
  },
  {
   "cell_type": "markdown",
   "id": "27a3f9bd-b3b9-48e4-a41f-14d55f4bc165",
   "metadata": {},
   "source": [
    "***OVERVIEW de la data*** :\n",
    "\n",
    "Analizamos lo que nos devuelve el dataFrame con las funcion df.head y analizamos las columnas con la funcion df.columns"
   ]
  },
  {
   "cell_type": "markdown",
   "id": "e13b526e-52b0-4d6b-9b0e-9d8e196e4e84",
   "metadata": {},
   "source": [
    "Utilizamos la funcion drpona() para eliminar los datos nulos"
   ]
  },
  {
   "cell_type": "code",
   "execution_count": 3,
   "id": "2c546b32-e0c5-4d88-8407-ccd42797a128",
   "metadata": {},
   "outputs": [],
   "source": [
    "df=df.dropna()\n"
   ]
  },
  {
   "cell_type": "markdown",
   "id": "be086236-572f-444e-af69-8bb59e70d104",
   "metadata": {},
   "source": [
    "Con la funcion isna().sum() nos cersioramos de que se haya cumplido con la eliminacion de datos nulos"
   ]
  },
  {
   "cell_type": "code",
   "execution_count": 4,
   "id": "0bad9d0b-7e81-488b-a45e-6e41d2c88c17",
   "metadata": {},
   "outputs": [
    {
     "data": {
      "text/plain": [
       "Country               0\n",
       "ISO 3166-1 alpha-3    0\n",
       "Year                  0\n",
       "Total                 0\n",
       "Coal                  0\n",
       "Oil                   0\n",
       "Gas                   0\n",
       "Cement                0\n",
       "Flaring               0\n",
       "Other                 0\n",
       "Per Capita            0\n",
       "dtype: int64"
      ]
     },
     "execution_count": 4,
     "metadata": {},
     "output_type": "execute_result"
    }
   ],
   "source": [
    "df.isna().sum()"
   ]
  },
  {
   "cell_type": "code",
   "execution_count": 5,
   "id": "3420e58b-2de8-4b91-bfdb-87d950a6310d",
   "metadata": {},
   "outputs": [
    {
     "data": {
      "text/html": [
       "<div>\n",
       "<style scoped>\n",
       "    .dataframe tbody tr th:only-of-type {\n",
       "        vertical-align: middle;\n",
       "    }\n",
       "\n",
       "    .dataframe tbody tr th {\n",
       "        vertical-align: top;\n",
       "    }\n",
       "\n",
       "    .dataframe thead th {\n",
       "        text-align: right;\n",
       "    }\n",
       "</style>\n",
       "<table border=\"1\" class=\"dataframe\">\n",
       "  <thead>\n",
       "    <tr style=\"text-align: right;\">\n",
       "      <th></th>\n",
       "      <th>Country</th>\n",
       "      <th>ISO 3166-1 alpha-3</th>\n",
       "      <th>Year</th>\n",
       "      <th>Total</th>\n",
       "      <th>Coal</th>\n",
       "      <th>Oil</th>\n",
       "      <th>Gas</th>\n",
       "      <th>Cement</th>\n",
       "      <th>Flaring</th>\n",
       "      <th>Other</th>\n",
       "      <th>Per Capita</th>\n",
       "    </tr>\n",
       "  </thead>\n",
       "  <tbody>\n",
       "    <tr>\n",
       "      <th>3232</th>\n",
       "      <td>Australia</td>\n",
       "      <td>AUS</td>\n",
       "      <td>1990</td>\n",
       "      <td>278.154156</td>\n",
       "      <td>141.879819</td>\n",
       "      <td>88.842090</td>\n",
       "      <td>34.454816</td>\n",
       "      <td>3.462872</td>\n",
       "      <td>7.272496</td>\n",
       "      <td>2.242063</td>\n",
       "      <td>16.315938</td>\n",
       "    </tr>\n",
       "    <tr>\n",
       "      <th>3233</th>\n",
       "      <td>Australia</td>\n",
       "      <td>AUS</td>\n",
       "      <td>1991</td>\n",
       "      <td>279.528510</td>\n",
       "      <td>146.082840</td>\n",
       "      <td>88.245572</td>\n",
       "      <td>32.786243</td>\n",
       "      <td>3.183033</td>\n",
       "      <td>7.001201</td>\n",
       "      <td>2.229622</td>\n",
       "      <td>16.184767</td>\n",
       "    </tr>\n",
       "    <tr>\n",
       "      <th>3234</th>\n",
       "      <td>Australia</td>\n",
       "      <td>AUS</td>\n",
       "      <td>1992</td>\n",
       "      <td>284.525345</td>\n",
       "      <td>150.051381</td>\n",
       "      <td>87.916828</td>\n",
       "      <td>33.970472</td>\n",
       "      <td>2.923411</td>\n",
       "      <td>7.303701</td>\n",
       "      <td>2.359551</td>\n",
       "      <td>16.293502</td>\n",
       "    </tr>\n",
       "  </tbody>\n",
       "</table>\n",
       "</div>"
      ],
      "text/plain": [
       "        Country ISO 3166-1 alpha-3  Year       Total        Coal        Oil  \\\n",
       "3232  Australia                AUS  1990  278.154156  141.879819  88.842090   \n",
       "3233  Australia                AUS  1991  279.528510  146.082840  88.245572   \n",
       "3234  Australia                AUS  1992  284.525345  150.051381  87.916828   \n",
       "\n",
       "            Gas    Cement   Flaring     Other  Per Capita  \n",
       "3232  34.454816  3.462872  7.272496  2.242063   16.315938  \n",
       "3233  32.786243  3.183033  7.001201  2.229622   16.184767  \n",
       "3234  33.970472  2.923411  7.303701  2.359551   16.293502  "
      ]
     },
     "execution_count": 5,
     "metadata": {},
     "output_type": "execute_result"
    }
   ],
   "source": [
    "df.head(3)"
   ]
  },
  {
   "cell_type": "code",
   "execution_count": 6,
   "id": "8c8c0d60-8c5d-4ecb-9c11-d3e2585d5084",
   "metadata": {},
   "outputs": [
    {
     "data": {
      "text/plain": [
       "Index(['Country', 'ISO 3166-1 alpha-3', 'Year', 'Total', 'Coal', 'Oil', 'Gas',\n",
       "       'Cement', 'Flaring', 'Other', 'Per Capita'],\n",
       "      dtype='object')"
      ]
     },
     "execution_count": 6,
     "metadata": {},
     "output_type": "execute_result"
    }
   ],
   "source": [
    "df.columns"
   ]
  },
  {
   "cell_type": "markdown",
   "id": "00991a20-1e97-441c-913a-ac9e23befed3",
   "metadata": {},
   "source": [
    "***Tenemos las siguientes columnas***\n",
    "\n",
    "Country: El nombre del pais. (String)\n",
    "\n",
    "ISO 3166-1 alpha-3: El codigo de tres letras para el pais. (String)\n",
    "\n",
    "Year: El año del dato. (Integer)\n",
    "\n",
    "Total: El total de emisiones de Co2 para dicho pais en el el año dado. (Float)\n",
    "\n",
    "Coal: El monto total de emisiones de Co2 de carbon para el pais en el año dado. (Float)\n",
    "\n",
    "Oil: El monto total de emisiones de Co2 de petroleo para el pais en el año dado. (Float)\n",
    "\n",
    "Gas: El monto total de emisiones de Co2 de gas para el pais en el año dado. (Float)\n",
    "\n",
    "Cement: El monto total de emisiones de Co2 de cemento para el pais en el año dado. (Float)\n",
    "\n",
    "Flaring: El monto total de emisiones de Co2 de antorcha para el pais en el año dado. (Float)\n",
    "\n",
    "Other: El monto total de emisiones de Co2 de otras elementos para el pais en el año dado. (Float)\n",
    "\n",
    "Per Capita: El monto total de emisiones de Co2 de Per Capita para el pais en el año dado. (Float)"
   ]
  },
  {
   "cell_type": "markdown",
   "id": "bf03898e-337d-4511-8c75-abfb80965a23",
   "metadata": {},
   "source": [
    "# Analisis EDA"
   ]
  },
  {
   "cell_type": "markdown",
   "id": "55eb684e-7744-4717-87f5-4ec3dda6c215",
   "metadata": {},
   "source": [
    "***PREGUNTAS A ANALIZAR***\n",
    "\n",
    "Que paises son los mayores emisores de Co2 ?\n",
    "\n",
    "Cuáles son los cinco países con mayores emisiones de CO2 en los últimos 35 años ?\n",
    "\n",
    "Cuáles son las principales fuentes de emisiones de CO2 en cada uno de estos países ?\n",
    "\n",
    "Cuál es la tendencia de las emisiones de CO2 en estos países en los últimos años ?\n",
    "\n",
    "Cuál es la cantidad de CO2 emitido por sector (transporte, energía, industria, etc) ?\n"
   ]
  },
  {
   "cell_type": "markdown",
   "id": "befa2cf4-279e-4c2a-9b33-03337455e17a",
   "metadata": {},
   "source": [
    "***GRAFICA TOP 5 PAISES DE MAYORES EMISIONES DE Co2***"
   ]
  },
  {
   "cell_type": "markdown",
   "id": "c0ccd4da-7d35-4e32-a919-c39b0f17a3bb",
   "metadata": {},
   "source": [
    "# Analisis univariado\n",
    "\n",
    "Realizamos un analisis univariado en el cual graficamos los 5 principales paises emisores de Co2 y un dato global del total de contaminacion de los anteriormente mencionados paises "
   ]
  },
  {
   "cell_type": "code",
   "execution_count": 7,
   "id": "fda97842-6078-4648-9cff-d287fc5b411a",
   "metadata": {},
   "outputs": [
    {
     "data": {
      "text/plain": [
       "<AxesSubplot:>"
      ]
     },
     "execution_count": 7,
     "metadata": {},
     "output_type": "execute_result"
    },
    {
     "data": {
      "image/png": "[encoded data removed]",
      "text/plain": [
       "<Figure size 1000x1000 with 1 Axes>"
      ]
     },
     "metadata": {},
     "output_type": "display_data"
    }
   ],
   "source": [
    "paises=list(df.groupby('Country').sum().sort_values(by='Total', ascending=False).index) \n",
    "valores=list(df.groupby('Country').sum().sort_values(by='Total', ascending=False)['Total']) \n",
    "plt.figure(figsize=(10,10)) \n",
    "sns.set_style('ticks')\n",
    "sns.barplot(x=paises[:6],y= valores[:6])"
   ]
  },
  {
   "cell_type": "markdown",
   "id": "d03fb9aa-740e-4512-b1c5-b4ce1eb0b0dd",
   "metadata": {},
   "source": [
    "# Analisis Vibariado\n",
    "\n",
    "***Procederemos a graficar las emisiones de los TOP 5 paises del dataframe a lo largo de 35 años de manera individual, al finalizar con un grafico de lineas graficaremos a los 5 paises para esta manera poder visualizar de mejor manera de que manera se diferencian entre si en sus emisiones***"
   ]
  },
  {
   "cell_type": "markdown",
   "id": "b87acfa9-c8ec-4398-8dbc-7260e7c577ff",
   "metadata": {},
   "source": [
    "***GRAFICOS DE BARRAS***"
   ]
  },
  {
   "cell_type": "code",
   "execution_count": 8,
   "id": "839203da-6585-4af5-abd0-d82a067041f3",
   "metadata": {},
   "outputs": [
    {
     "data": {
      "text/plain": [
       "<AxesSubplot:xlabel='Year', ylabel='Total'>"
      ]
     },
     "execution_count": 8,
     "metadata": {},
     "output_type": "execute_result"
    },
    {
     "data": {
      "image/png": "[encoded data removed]",
      "text/plain": [
       "<Figure size 1500x500 with 1 Axes>"
      ]
     },
     "metadata": {},
     "output_type": "display_data"
    }
   ],
   "source": [
    "usa = df[df['Country']=='USA']\n",
    "USA_data = usa[-35:]\n",
    "plt.figure(figsize=(15,5))\n",
    "sns.barplot(x='Year',y='Total',data=USA_data)\n"
   ]
  },
  {
   "cell_type": "markdown",
   "id": "ef85843b-8d46-4085-ae8b-1807f5dc8b28",
   "metadata": {},
   "source": [
    "RESUMEN NUMERICO\n",
    "\n",
    "En la siguiente grafica podemos apreciar en el eje (Y) los valores de contaminacion (metricon) per capita y en el eje (X) podemos observar un grafico de barras el cual nos expone la suba o baja de contaminacion en el periodo de años (1987-2021) para el pais de Estados Unidos¶"
   ]
  },
  {
   "cell_type": "code",
   "execution_count": 9,
   "id": "86439a02-43ca-4a7c-9b29-2890c41bc12a",
   "metadata": {},
   "outputs": [
    {
     "data": {
      "text/plain": [
       "<AxesSubplot:xlabel='Year', ylabel='Total'>"
      ]
     },
     "execution_count": 9,
     "metadata": {},
     "output_type": "execute_result"
    },
    {
     "data": {
      "image/png": "[encoded data removed]",
      "text/plain": [
       "<Figure size 1500x500 with 1 Axes>"
      ]
     },
     "metadata": {},
     "output_type": "display_data"
    }
   ],
   "source": [
    "china = df[df['Country']=='China']\n",
    "China_data = china[-35:]\n",
    "plt.figure(figsize=(15,5))\n",
    "sns.barplot(x='Year',y='Total',data=China_data)"
   ]
  },
  {
   "cell_type": "markdown",
   "id": "8bcf2e79-264a-40ef-ac25-feea5ffe6f27",
   "metadata": {},
   "source": [
    "RESUMEN NUMERICO\n",
    "\n",
    "En la siguiente grafica podemos apreciar en el eje (Y) los valores de contaminacion (metricon) per capita y en el eje (X) podemos observar un grafico de barras el cual nos expone la suba o baja de contaminacion en el periodo de años (1987-2021) para el pais de China"
   ]
  },
  {
   "cell_type": "code",
   "execution_count": 10,
   "id": "be3e6d16-b04c-4156-aa36-3ec1c14145f1",
   "metadata": {},
   "outputs": [
    {
     "data": {
      "text/plain": [
       "<AxesSubplot:xlabel='Year', ylabel='Total'>"
      ]
     },
     "execution_count": 10,
     "metadata": {},
     "output_type": "execute_result"
    },
    {
     "data": {
      "image/png": "[encoded data removed]",
      "text/plain": [
       "<Figure size 1500x500 with 1 Axes>"
      ]
     },
     "metadata": {},
     "output_type": "display_data"
    }
   ],
   "source": [
    "russia = df[df['Country']=='Russia']\n",
    "Russia_data = russia[-35:]\n",
    "plt.figure(figsize=(15,5))\n",
    "sns.barplot(x='Year',y='Total',data=Russia_data)"
   ]
  },
  {
   "cell_type": "markdown",
   "id": "5a533fa5-eff2-4ccc-9795-68d656f80580",
   "metadata": {},
   "source": [
    "RESUMEN NUMERICO\n",
    "\n",
    "En la siguiente grafica podemos apreciar en el eje (Y) los valores de contaminacion (metricon) per capita y en el eje (X) podemos observar un grafico de barras el cual nos expone la suba o baja de contaminacion en el periodo de años (1987-2021) para el pais de Russia¶"
   ]
  },
  {
   "cell_type": "code",
   "execution_count": 11,
   "id": "8fe82368-fcc1-4ca8-a826-ce7206bbd699",
   "metadata": {},
   "outputs": [
    {
     "data": {
      "text/plain": [
       "<AxesSubplot:xlabel='Year', ylabel='Total'>"
      ]
     },
     "execution_count": 11,
     "metadata": {},
     "output_type": "execute_result"
    },
    {
     "data": {
      "image/png": "[encoded data removed]",
      "text/plain": [
       "<Figure size 1500x500 with 1 Axes>"
      ]
     },
     "metadata": {},
     "output_type": "display_data"
    }
   ],
   "source": [
    "germany = df[df['Country']=='Germany']\n",
    "Germany_data = germany[-35:]\n",
    "plt.figure(figsize=(15,5))\n",
    "sns.barplot(x='Year',y='Total',data=Germany_data)"
   ]
  },
  {
   "cell_type": "markdown",
   "id": "aa24f021-e210-4bb0-a5d4-181ae04767c1",
   "metadata": {},
   "source": [
    "RESUMEN NUMERICO\n",
    "\n",
    "En la siguiente grafica podemos apreciar en el eje (Y) los valores de contaminacion (metricon) per capita y en el eje (X) podemos observar un grafico de barras el cual nos expone la suba o baja de contaminacion en el periodo de años (1987-2021) para el pais de Alemania¶"
   ]
  },
  {
   "cell_type": "code",
   "execution_count": 12,
   "id": "26d6ebfd-62b9-4c8d-8d43-5aed9a87caeb",
   "metadata": {},
   "outputs": [
    {
     "data": {
      "text/plain": [
       "<AxesSubplot:xlabel='Year', ylabel='Total'>"
      ]
     },
     "execution_count": 12,
     "metadata": {},
     "output_type": "execute_result"
    },
    {
     "data": {
      "image/png": "[encoded data removed]",
      "text/plain": [
       "<Figure size 1500x500 with 1 Axes>"
      ]
     },
     "metadata": {},
     "output_type": "display_data"
    }
   ],
   "source": [
    "unitedKingdom = df[df['Country']=='United Kingdom']\n",
    "unitedKingdom_data = unitedKingdom[-35:]\n",
    "plt.figure(figsize=(15,5))\n",
    "sns.barplot(x='Year', y='Total', data=unitedKingdom_data)"
   ]
  },
  {
   "cell_type": "markdown",
   "id": "06e9c4ee-6895-4949-a3fe-bf8274c5119e",
   "metadata": {},
   "source": [
    "En la siguiente grafica podemos apreciar en el eje (Y) los valores de contaminacion (metricon) per capita y en el eje (X) podemos observar un grafico de barras el cual nos expone la suba o baja de contaminacion en el periodo de años (1987-2021) para los paises de Reino Unido"
   ]
  },
  {
   "cell_type": "markdown",
   "id": "b20696b6-912a-43fd-93b3-70efe58a9a7e",
   "metadata": {},
   "source": [
    "***GRAFICAS LINEALES***"
   ]
  },
  {
   "cell_type": "markdown",
   "id": "2a07307e-c7f1-42a8-a201-c8148b03af9c",
   "metadata": {},
   "source": [
    "***Guia de colores***\n",
    "\n",
    "Naranja: Estados Unidos\n",
    "\n",
    "Azul: China\n",
    "\n",
    "Russia: Verde \n",
    "\n",
    "Alemania: Rojo\n",
    "\n",
    "Reino Unido: Violeta"
   ]
  },
  {
   "cell_type": "code",
   "execution_count": 13,
   "id": "a1add07e-0f71-465e-a352-9a1a18d6ae49",
   "metadata": {},
   "outputs": [
    {
     "data": {
      "text/plain": [
       "<AxesSubplot:xlabel='Year', ylabel='Total'>"
      ]
     },
     "execution_count": 13,
     "metadata": {},
     "output_type": "execute_result"
    },
    {
     "data": {
      "image/png": "[encoded data removed]",
      "text/plain": [
       "<Figure size 640x480 with 1 Axes>"
      ]
     },
     "metadata": {},
     "output_type": "display_data"
    }
   ],
   "source": [
    "sns.lineplot(x='Year',y='Total',data=China_data)\n",
    "sns.lineplot(x='Year',y='Total',data=USA_data)\n",
    "sns.lineplot(x='Year',y='Total',data=Russia_data)\n",
    "sns.lineplot(x='Year',y='Total',data=Germany_data)\n",
    "sns.lineplot(x='Year',y='Total',data=unitedKingdom_data)\n",
    "\n",
    "\n"
   ]
  },
  {
   "cell_type": "markdown",
   "id": "f07d7165-f6cb-4169-8656-b2a97485c243",
   "metadata": {},
   "source": [
    "# Conclusion\n",
    "\n",
    "En el siguiente grafico podemos observar detalladamente la comparativa entre paises en un mismo grafico en base a sus emisiones de Co2.\n",
    "Podemos observar que China presenta una tendecia en la suba de sus emisiones, tambien podemos observar que Estados Unidos presenta una tendencia a mantenerse sobre un mismo margen presentando una leve bajada pero es el pais que mas contaminacion presenta.\n",
    "Russia es uno de los paises tambien emisores de Co2 donde se puede apreciar una tendencia a bajar y un leve pico hacia el año 2020.\n",
    "Alemania al igual que Reino Unido Presentan de similar manera sus emisiones, siendo menores las emsiones en Reino Unido.\n",
    "\n",
    "En 2019 en millones de toneladas métricas (Mt) para los países mencionados fue:\n",
    "\n",
    "China: 10,175.38 Mt\n",
    "Estados Unidos: 5,416.01 Mt\n",
    "Alemania: 729.41 Mt\n",
    "Reino Unido: 354.45 Mt\n",
    "Rusia: 1,668.77 Mt\n",
    "Por lo tanto, en términos de emisiones absolutas de CO2, China y Estados Unidos son los mayores emisores, seguidos por Rusia, Alemania y el Reino Unido.\n",
    "\n",
    "Sin embargo, cuando se consideran las emisiones per cápita, es decir, las emisiones por persona, la clasificación es diferente. Según datos del Banco Mundial para 2019, la emisión de CO2 per cápita en toneladas métricas (t) para los países mencionados fue:\n",
    "\n",
    "China: 7.08 t\n",
    "Estados Unidos: 16.24 t\n",
    "Alemania: 8.69 t\n",
    "Reino Unido: 5.25 t\n",
    "Rusia: 11.54 t\n",
    "En términos de emisiones per cápita, Estados Unidos es el mayor emisor, seguido por Rusia, Alemania, China y el Reino Unido. Cabe señalar que, en general, los países con mayor desarrollo económico tienden a tener mayores emisiones per cápita.\n",
    "\n",
    "Es importante recordar que la emisión de CO2 no es el único factor relevante para evaluar la huella de carbono de un país o región, ya que hay otros gases de efecto invernadero y otros factores ambientales a considerar. Además, es importante tener en cuenta el tamaño de la población y la economía de cada país.\n"
   ]
  },
  {
   "cell_type": "markdown",
   "id": "60081041-e5dc-42df-94b8-ee9c0fe6b813",
   "metadata": {},
   "source": [
    "# Comenzamos a aplicar IA"
   ]
  },
  {
   "cell_type": "markdown",
   "id": "bc67c0a1-d055-426a-906d-1e87fd8c82ad",
   "metadata": {},
   "source": [
    "Primeramente nos encargamos que los datos que posean valores numericos, en este caso binarios con la funcion get_dummies"
   ]
  },
  {
   "cell_type": "code",
   "execution_count": 14,
   "id": "52bdf2cb-6a54-4ebc-aefa-ccc039c286ee",
   "metadata": {},
   "outputs": [],
   "source": [
    "df=pd.get_dummies(df, columns=['ISO 3166-1 alpha-3'], drop_first=True)\n",
    "df=pd.get_dummies(df, columns=['Country'], drop_first=True)"
   ]
  },
  {
   "cell_type": "markdown",
   "id": "bc098940-8668-438e-92a3-74d9d1dd26de",
   "metadata": {},
   "source": [
    "Separamos los datos de entrenamientos que en este caso es el Total"
   ]
  },
  {
   "cell_type": "code",
   "execution_count": 15,
   "id": "852d9da5-cdff-42fd-960d-3e4f86b8a1b6",
   "metadata": {},
   "outputs": [
    {
     "data": {
      "text/html": [
       "<div>\n",
       "<style scoped>\n",
       "    .dataframe tbody tr th:only-of-type {\n",
       "        vertical-align: middle;\n",
       "    }\n",
       "\n",
       "    .dataframe tbody tr th {\n",
       "        vertical-align: top;\n",
       "    }\n",
       "\n",
       "    .dataframe thead th {\n",
       "        text-align: right;\n",
       "    }\n",
       "</style>\n",
       "<table border=\"1\" class=\"dataframe\">\n",
       "  <thead>\n",
       "    <tr style=\"text-align: right;\">\n",
       "      <th></th>\n",
       "      <th>Year</th>\n",
       "      <th>Total</th>\n",
       "      <th>Coal</th>\n",
       "      <th>Oil</th>\n",
       "      <th>Gas</th>\n",
       "      <th>Cement</th>\n",
       "      <th>Flaring</th>\n",
       "      <th>Other</th>\n",
       "      <th>Per Capita</th>\n",
       "      <th>ISO 3166-1 alpha-3_AUT</th>\n",
       "      <th>...</th>\n",
       "      <th>Country_Slovenia</th>\n",
       "      <th>Country_South Korea</th>\n",
       "      <th>Country_Spain</th>\n",
       "      <th>Country_Sweden</th>\n",
       "      <th>Country_Switzerland</th>\n",
       "      <th>Country_Taiwan</th>\n",
       "      <th>Country_Turkey</th>\n",
       "      <th>Country_USA</th>\n",
       "      <th>Country_Ukraine</th>\n",
       "      <th>Country_United Kingdom</th>\n",
       "    </tr>\n",
       "  </thead>\n",
       "  <tbody>\n",
       "    <tr>\n",
       "      <th>3232</th>\n",
       "      <td>1990</td>\n",
       "      <td>278.154156</td>\n",
       "      <td>141.879819</td>\n",
       "      <td>88.842090</td>\n",
       "      <td>34.454816</td>\n",
       "      <td>3.462872</td>\n",
       "      <td>7.272496</td>\n",
       "      <td>2.242063</td>\n",
       "      <td>16.315938</td>\n",
       "      <td>0</td>\n",
       "      <td>...</td>\n",
       "      <td>0</td>\n",
       "      <td>0</td>\n",
       "      <td>0</td>\n",
       "      <td>0</td>\n",
       "      <td>0</td>\n",
       "      <td>0</td>\n",
       "      <td>0</td>\n",
       "      <td>0</td>\n",
       "      <td>0</td>\n",
       "      <td>0</td>\n",
       "    </tr>\n",
       "    <tr>\n",
       "      <th>3233</th>\n",
       "      <td>1991</td>\n",
       "      <td>279.528510</td>\n",
       "      <td>146.082840</td>\n",
       "      <td>88.245572</td>\n",
       "      <td>32.786243</td>\n",
       "      <td>3.183033</td>\n",
       "      <td>7.001201</td>\n",
       "      <td>2.229622</td>\n",
       "      <td>16.184767</td>\n",
       "      <td>0</td>\n",
       "      <td>...</td>\n",
       "      <td>0</td>\n",
       "      <td>0</td>\n",
       "      <td>0</td>\n",
       "      <td>0</td>\n",
       "      <td>0</td>\n",
       "      <td>0</td>\n",
       "      <td>0</td>\n",
       "      <td>0</td>\n",
       "      <td>0</td>\n",
       "      <td>0</td>\n",
       "    </tr>\n",
       "    <tr>\n",
       "      <th>3234</th>\n",
       "      <td>1992</td>\n",
       "      <td>284.525345</td>\n",
       "      <td>150.051381</td>\n",
       "      <td>87.916828</td>\n",
       "      <td>33.970472</td>\n",
       "      <td>2.923411</td>\n",
       "      <td>7.303701</td>\n",
       "      <td>2.359551</td>\n",
       "      <td>16.293502</td>\n",
       "      <td>0</td>\n",
       "      <td>...</td>\n",
       "      <td>0</td>\n",
       "      <td>0</td>\n",
       "      <td>0</td>\n",
       "      <td>0</td>\n",
       "      <td>0</td>\n",
       "      <td>0</td>\n",
       "      <td>0</td>\n",
       "      <td>0</td>\n",
       "      <td>0</td>\n",
       "      <td>0</td>\n",
       "    </tr>\n",
       "    <tr>\n",
       "      <th>3235</th>\n",
       "      <td>1993</td>\n",
       "      <td>288.870537</td>\n",
       "      <td>150.098575</td>\n",
       "      <td>90.386578</td>\n",
       "      <td>35.670002</td>\n",
       "      <td>3.004698</td>\n",
       "      <td>7.136743</td>\n",
       "      <td>2.573941</td>\n",
       "      <td>16.383765</td>\n",
       "      <td>0</td>\n",
       "      <td>...</td>\n",
       "      <td>0</td>\n",
       "      <td>0</td>\n",
       "      <td>0</td>\n",
       "      <td>0</td>\n",
       "      <td>0</td>\n",
       "      <td>0</td>\n",
       "      <td>0</td>\n",
       "      <td>0</td>\n",
       "      <td>0</td>\n",
       "      <td>0</td>\n",
       "    </tr>\n",
       "    <tr>\n",
       "      <th>3236</th>\n",
       "      <td>1994</td>\n",
       "      <td>293.696553</td>\n",
       "      <td>151.376241</td>\n",
       "      <td>91.924087</td>\n",
       "      <td>37.032005</td>\n",
       "      <td>3.484276</td>\n",
       "      <td>6.880148</td>\n",
       "      <td>2.999795</td>\n",
       "      <td>16.494706</td>\n",
       "      <td>0</td>\n",
       "      <td>...</td>\n",
       "      <td>0</td>\n",
       "      <td>0</td>\n",
       "      <td>0</td>\n",
       "      <td>0</td>\n",
       "      <td>0</td>\n",
       "      <td>0</td>\n",
       "      <td>0</td>\n",
       "      <td>0</td>\n",
       "      <td>0</td>\n",
       "      <td>0</td>\n",
       "    </tr>\n",
       "  </tbody>\n",
       "</table>\n",
       "<p>5 rows × 101 columns</p>\n",
       "</div>"
      ],
      "text/plain": [
       "      Year       Total        Coal        Oil        Gas    Cement   Flaring  \\\n",
       "3232  1990  278.154156  141.879819  88.842090  34.454816  3.462872  7.272496   \n",
       "3233  1991  279.528510  146.082840  88.245572  32.786243  3.183033  7.001201   \n",
       "3234  1992  284.525345  150.051381  87.916828  33.970472  2.923411  7.303701   \n",
       "3235  1993  288.870537  150.098575  90.386578  35.670002  3.004698  7.136743   \n",
       "3236  1994  293.696553  151.376241  91.924087  37.032005  3.484276  6.880148   \n",
       "\n",
       "         Other  Per Capita  ISO 3166-1 alpha-3_AUT  ...  Country_Slovenia  \\\n",
       "3232  2.242063   16.315938                       0  ...                 0   \n",
       "3233  2.229622   16.184767                       0  ...                 0   \n",
       "3234  2.359551   16.293502                       0  ...                 0   \n",
       "3235  2.573941   16.383765                       0  ...                 0   \n",
       "3236  2.999795   16.494706                       0  ...                 0   \n",
       "\n",
       "      Country_South Korea  Country_Spain  Country_Sweden  Country_Switzerland  \\\n",
       "3232                    0              0               0                    0   \n",
       "3233                    0              0               0                    0   \n",
       "3234                    0              0               0                    0   \n",
       "3235                    0              0               0                    0   \n",
       "3236                    0              0               0                    0   \n",
       "\n",
       "      Country_Taiwan  Country_Turkey  Country_USA  Country_Ukraine  \\\n",
       "3232               0               0            0                0   \n",
       "3233               0               0            0                0   \n",
       "3234               0               0            0                0   \n",
       "3235               0               0            0                0   \n",
       "3236               0               0            0                0   \n",
       "\n",
       "      Country_United Kingdom  \n",
       "3232                       0  \n",
       "3233                       0  \n",
       "3234                       0  \n",
       "3235                       0  \n",
       "3236                       0  \n",
       "\n",
       "[5 rows x 101 columns]"
      ]
     },
     "execution_count": 15,
     "metadata": {},
     "output_type": "execute_result"
    }
   ],
   "source": [
    "X = df.drop('Total', axis=1)       # feature matrix\n",
    "y = df['Total']               # target feature\n",
    "df.head()"
   ]
  },
  {
   "cell_type": "markdown",
   "id": "9e61fe7a-587d-474b-beab-c69b92368499",
   "metadata": {},
   "source": [
    "Procedemos a analizar el eje X e y para ver que nos devuelven y cumplimos con nuestro objetivo de apartar en el eje y a \"Total\""
   ]
  },
  {
   "cell_type": "code",
   "execution_count": 16,
   "id": "891b742c-7c6a-4970-af27-0f8ec05488ef",
   "metadata": {},
   "outputs": [
    {
     "data": {
      "text/html": [
       "<div>\n",
       "<style scoped>\n",
       "    .dataframe tbody tr th:only-of-type {\n",
       "        vertical-align: middle;\n",
       "    }\n",
       "\n",
       "    .dataframe tbody tr th {\n",
       "        vertical-align: top;\n",
       "    }\n",
       "\n",
       "    .dataframe thead th {\n",
       "        text-align: right;\n",
       "    }\n",
       "</style>\n",
       "<table border=\"1\" class=\"dataframe\">\n",
       "  <thead>\n",
       "    <tr style=\"text-align: right;\">\n",
       "      <th></th>\n",
       "      <th>Year</th>\n",
       "      <th>Coal</th>\n",
       "      <th>Oil</th>\n",
       "      <th>Gas</th>\n",
       "      <th>Cement</th>\n",
       "      <th>Flaring</th>\n",
       "      <th>Other</th>\n",
       "      <th>Per Capita</th>\n",
       "      <th>ISO 3166-1 alpha-3_AUT</th>\n",
       "      <th>ISO 3166-1 alpha-3_BEL</th>\n",
       "      <th>...</th>\n",
       "      <th>Country_Slovenia</th>\n",
       "      <th>Country_South Korea</th>\n",
       "      <th>Country_Spain</th>\n",
       "      <th>Country_Sweden</th>\n",
       "      <th>Country_Switzerland</th>\n",
       "      <th>Country_Taiwan</th>\n",
       "      <th>Country_Turkey</th>\n",
       "      <th>Country_USA</th>\n",
       "      <th>Country_Ukraine</th>\n",
       "      <th>Country_United Kingdom</th>\n",
       "    </tr>\n",
       "  </thead>\n",
       "  <tbody>\n",
       "    <tr>\n",
       "      <th>3232</th>\n",
       "      <td>1990</td>\n",
       "      <td>141.879819</td>\n",
       "      <td>88.842090</td>\n",
       "      <td>34.454816</td>\n",
       "      <td>3.462872</td>\n",
       "      <td>7.272496</td>\n",
       "      <td>2.242063</td>\n",
       "      <td>16.315938</td>\n",
       "      <td>0</td>\n",
       "      <td>0</td>\n",
       "      <td>...</td>\n",
       "      <td>0</td>\n",
       "      <td>0</td>\n",
       "      <td>0</td>\n",
       "      <td>0</td>\n",
       "      <td>0</td>\n",
       "      <td>0</td>\n",
       "      <td>0</td>\n",
       "      <td>0</td>\n",
       "      <td>0</td>\n",
       "      <td>0</td>\n",
       "    </tr>\n",
       "    <tr>\n",
       "      <th>3233</th>\n",
       "      <td>1991</td>\n",
       "      <td>146.082840</td>\n",
       "      <td>88.245572</td>\n",
       "      <td>32.786243</td>\n",
       "      <td>3.183033</td>\n",
       "      <td>7.001201</td>\n",
       "      <td>2.229622</td>\n",
       "      <td>16.184767</td>\n",
       "      <td>0</td>\n",
       "      <td>0</td>\n",
       "      <td>...</td>\n",
       "      <td>0</td>\n",
       "      <td>0</td>\n",
       "      <td>0</td>\n",
       "      <td>0</td>\n",
       "      <td>0</td>\n",
       "      <td>0</td>\n",
       "      <td>0</td>\n",
       "      <td>0</td>\n",
       "      <td>0</td>\n",
       "      <td>0</td>\n",
       "    </tr>\n",
       "    <tr>\n",
       "      <th>3234</th>\n",
       "      <td>1992</td>\n",
       "      <td>150.051381</td>\n",
       "      <td>87.916828</td>\n",
       "      <td>33.970472</td>\n",
       "      <td>2.923411</td>\n",
       "      <td>7.303701</td>\n",
       "      <td>2.359551</td>\n",
       "      <td>16.293502</td>\n",
       "      <td>0</td>\n",
       "      <td>0</td>\n",
       "      <td>...</td>\n",
       "      <td>0</td>\n",
       "      <td>0</td>\n",
       "      <td>0</td>\n",
       "      <td>0</td>\n",
       "      <td>0</td>\n",
       "      <td>0</td>\n",
       "      <td>0</td>\n",
       "      <td>0</td>\n",
       "      <td>0</td>\n",
       "      <td>0</td>\n",
       "    </tr>\n",
       "    <tr>\n",
       "      <th>3235</th>\n",
       "      <td>1993</td>\n",
       "      <td>150.098575</td>\n",
       "      <td>90.386578</td>\n",
       "      <td>35.670002</td>\n",
       "      <td>3.004698</td>\n",
       "      <td>7.136743</td>\n",
       "      <td>2.573941</td>\n",
       "      <td>16.383765</td>\n",
       "      <td>0</td>\n",
       "      <td>0</td>\n",
       "      <td>...</td>\n",
       "      <td>0</td>\n",
       "      <td>0</td>\n",
       "      <td>0</td>\n",
       "      <td>0</td>\n",
       "      <td>0</td>\n",
       "      <td>0</td>\n",
       "      <td>0</td>\n",
       "      <td>0</td>\n",
       "      <td>0</td>\n",
       "      <td>0</td>\n",
       "    </tr>\n",
       "    <tr>\n",
       "      <th>3236</th>\n",
       "      <td>1994</td>\n",
       "      <td>151.376241</td>\n",
       "      <td>91.924087</td>\n",
       "      <td>37.032005</td>\n",
       "      <td>3.484276</td>\n",
       "      <td>6.880148</td>\n",
       "      <td>2.999795</td>\n",
       "      <td>16.494706</td>\n",
       "      <td>0</td>\n",
       "      <td>0</td>\n",
       "      <td>...</td>\n",
       "      <td>0</td>\n",
       "      <td>0</td>\n",
       "      <td>0</td>\n",
       "      <td>0</td>\n",
       "      <td>0</td>\n",
       "      <td>0</td>\n",
       "      <td>0</td>\n",
       "      <td>0</td>\n",
       "      <td>0</td>\n",
       "      <td>0</td>\n",
       "    </tr>\n",
       "    <tr>\n",
       "      <th>...</th>\n",
       "      <td>...</td>\n",
       "      <td>...</td>\n",
       "      <td>...</td>\n",
       "      <td>...</td>\n",
       "      <td>...</td>\n",
       "      <td>...</td>\n",
       "      <td>...</td>\n",
       "      <td>...</td>\n",
       "      <td>...</td>\n",
       "      <td>...</td>\n",
       "      <td>...</td>\n",
       "      <td>...</td>\n",
       "      <td>...</td>\n",
       "      <td>...</td>\n",
       "      <td>...</td>\n",
       "      <td>...</td>\n",
       "      <td>...</td>\n",
       "      <td>...</td>\n",
       "      <td>...</td>\n",
       "      <td>...</td>\n",
       "      <td>...</td>\n",
       "    </tr>\n",
       "    <tr>\n",
       "      <th>63099</th>\n",
       "      <td>2017</td>\n",
       "      <td>14506.973805</td>\n",
       "      <td>12242.627935</td>\n",
       "      <td>7144.928128</td>\n",
       "      <td>1507.923185</td>\n",
       "      <td>391.992176</td>\n",
       "      <td>302.294047</td>\n",
       "      <td>4.749682</td>\n",
       "      <td>0</td>\n",
       "      <td>0</td>\n",
       "      <td>...</td>\n",
       "      <td>0</td>\n",
       "      <td>0</td>\n",
       "      <td>0</td>\n",
       "      <td>0</td>\n",
       "      <td>0</td>\n",
       "      <td>0</td>\n",
       "      <td>0</td>\n",
       "      <td>0</td>\n",
       "      <td>0</td>\n",
       "      <td>0</td>\n",
       "    </tr>\n",
       "    <tr>\n",
       "      <th>63100</th>\n",
       "      <td>2018</td>\n",
       "      <td>14746.830688</td>\n",
       "      <td>12266.016285</td>\n",
       "      <td>7529.846784</td>\n",
       "      <td>1569.218392</td>\n",
       "      <td>412.115746</td>\n",
       "      <td>302.478706</td>\n",
       "      <td>4.792753</td>\n",
       "      <td>0</td>\n",
       "      <td>0</td>\n",
       "      <td>...</td>\n",
       "      <td>0</td>\n",
       "      <td>0</td>\n",
       "      <td>0</td>\n",
       "      <td>0</td>\n",
       "      <td>0</td>\n",
       "      <td>0</td>\n",
       "      <td>0</td>\n",
       "      <td>0</td>\n",
       "      <td>0</td>\n",
       "      <td>0</td>\n",
       "    </tr>\n",
       "    <tr>\n",
       "      <th>63101</th>\n",
       "      <td>2019</td>\n",
       "      <td>14725.978025</td>\n",
       "      <td>12345.653374</td>\n",
       "      <td>7647.528220</td>\n",
       "      <td>1617.506786</td>\n",
       "      <td>439.253991</td>\n",
       "      <td>306.638573</td>\n",
       "      <td>4.775633</td>\n",
       "      <td>0</td>\n",
       "      <td>0</td>\n",
       "      <td>...</td>\n",
       "      <td>0</td>\n",
       "      <td>0</td>\n",
       "      <td>0</td>\n",
       "      <td>0</td>\n",
       "      <td>0</td>\n",
       "      <td>0</td>\n",
       "      <td>0</td>\n",
       "      <td>0</td>\n",
       "      <td>0</td>\n",
       "      <td>0</td>\n",
       "    </tr>\n",
       "    <tr>\n",
       "      <th>63102</th>\n",
       "      <td>2020</td>\n",
       "      <td>14174.564010</td>\n",
       "      <td>11191.808551</td>\n",
       "      <td>7556.290283</td>\n",
       "      <td>1637.537532</td>\n",
       "      <td>407.583673</td>\n",
       "      <td>296.301685</td>\n",
       "      <td>4.497423</td>\n",
       "      <td>0</td>\n",
       "      <td>0</td>\n",
       "      <td>...</td>\n",
       "      <td>0</td>\n",
       "      <td>0</td>\n",
       "      <td>0</td>\n",
       "      <td>0</td>\n",
       "      <td>0</td>\n",
       "      <td>0</td>\n",
       "      <td>0</td>\n",
       "      <td>0</td>\n",
       "      <td>0</td>\n",
       "      <td>0</td>\n",
       "    </tr>\n",
       "    <tr>\n",
       "      <th>63103</th>\n",
       "      <td>2021</td>\n",
       "      <td>14979.598083</td>\n",
       "      <td>11837.159116</td>\n",
       "      <td>7921.829472</td>\n",
       "      <td>1672.592372</td>\n",
       "      <td>416.525563</td>\n",
       "      <td>296.145746</td>\n",
       "      <td>4.693699</td>\n",
       "      <td>0</td>\n",
       "      <td>0</td>\n",
       "      <td>...</td>\n",
       "      <td>0</td>\n",
       "      <td>0</td>\n",
       "      <td>0</td>\n",
       "      <td>0</td>\n",
       "      <td>0</td>\n",
       "      <td>0</td>\n",
       "      <td>0</td>\n",
       "      <td>0</td>\n",
       "      <td>0</td>\n",
       "      <td>0</td>\n",
       "    </tr>\n",
       "  </tbody>\n",
       "</table>\n",
       "<p>1619 rows × 100 columns</p>\n",
       "</div>"
      ],
      "text/plain": [
       "       Year          Coal           Oil          Gas       Cement     Flaring  \\\n",
       "3232   1990    141.879819     88.842090    34.454816     3.462872    7.272496   \n",
       "3233   1991    146.082840     88.245572    32.786243     3.183033    7.001201   \n",
       "3234   1992    150.051381     87.916828    33.970472     2.923411    7.303701   \n",
       "3235   1993    150.098575     90.386578    35.670002     3.004698    7.136743   \n",
       "3236   1994    151.376241     91.924087    37.032005     3.484276    6.880148   \n",
       "...     ...           ...           ...          ...          ...         ...   \n",
       "63099  2017  14506.973805  12242.627935  7144.928128  1507.923185  391.992176   \n",
       "63100  2018  14746.830688  12266.016285  7529.846784  1569.218392  412.115746   \n",
       "63101  2019  14725.978025  12345.653374  7647.528220  1617.506786  439.253991   \n",
       "63102  2020  14174.564010  11191.808551  7556.290283  1637.537532  407.583673   \n",
       "63103  2021  14979.598083  11837.159116  7921.829472  1672.592372  416.525563   \n",
       "\n",
       "            Other  Per Capita  ISO 3166-1 alpha-3_AUT  ISO 3166-1 alpha-3_BEL  \\\n",
       "3232     2.242063   16.315938                       0                       0   \n",
       "3233     2.229622   16.184767                       0                       0   \n",
       "3234     2.359551   16.293502                       0                       0   \n",
       "3235     2.573941   16.383765                       0                       0   \n",
       "3236     2.999795   16.494706                       0                       0   \n",
       "...           ...         ...                     ...                     ...   \n",
       "63099  302.294047    4.749682                       0                       0   \n",
       "63100  302.478706    4.792753                       0                       0   \n",
       "63101  306.638573    4.775633                       0                       0   \n",
       "63102  296.301685    4.497423                       0                       0   \n",
       "63103  296.145746    4.693699                       0                       0   \n",
       "\n",
       "       ...  Country_Slovenia  Country_South Korea  Country_Spain  \\\n",
       "3232   ...                 0                    0              0   \n",
       "3233   ...                 0                    0              0   \n",
       "3234   ...                 0                    0              0   \n",
       "3235   ...                 0                    0              0   \n",
       "3236   ...                 0                    0              0   \n",
       "...    ...               ...                  ...            ...   \n",
       "63099  ...                 0                    0              0   \n",
       "63100  ...                 0                    0              0   \n",
       "63101  ...                 0                    0              0   \n",
       "63102  ...                 0                    0              0   \n",
       "63103  ...                 0                    0              0   \n",
       "\n",
       "       Country_Sweden  Country_Switzerland  Country_Taiwan  Country_Turkey  \\\n",
       "3232                0                    0               0               0   \n",
       "3233                0                    0               0               0   \n",
       "3234                0                    0               0               0   \n",
       "3235                0                    0               0               0   \n",
       "3236                0                    0               0               0   \n",
       "...               ...                  ...             ...             ...   \n",
       "63099               0                    0               0               0   \n",
       "63100               0                    0               0               0   \n",
       "63101               0                    0               0               0   \n",
       "63102               0                    0               0               0   \n",
       "63103               0                    0               0               0   \n",
       "\n",
       "       Country_USA  Country_Ukraine  Country_United Kingdom  \n",
       "3232             0                0                       0  \n",
       "3233             0                0                       0  \n",
       "3234             0                0                       0  \n",
       "3235             0                0                       0  \n",
       "3236             0                0                       0  \n",
       "...            ...              ...                     ...  \n",
       "63099            0                0                       0  \n",
       "63100            0                0                       0  \n",
       "63101            0                0                       0  \n",
       "63102            0                0                       0  \n",
       "63103            0                0                       0  \n",
       "\n",
       "[1619 rows x 100 columns]"
      ]
     },
     "execution_count": 16,
     "metadata": {},
     "output_type": "execute_result"
    }
   ],
   "source": [
    "X"
   ]
  },
  {
   "cell_type": "code",
   "execution_count": 17,
   "id": "ccc3515b-def1-48af-ace5-036e6f3452ba",
   "metadata": {},
   "outputs": [
    {
     "data": {
      "text/plain": [
       "3232       278.154156\n",
       "3233       279.528510\n",
       "3234       284.525345\n",
       "3235       288.870537\n",
       "3236       293.696553\n",
       "             ...     \n",
       "63099    36096.739276\n",
       "63100    36826.506600\n",
       "63101    37082.558969\n",
       "63102    35264.085734\n",
       "63103    37123.850352\n",
       "Name: Total, Length: 1619, dtype: float64"
      ]
     },
     "execution_count": 17,
     "metadata": {},
     "output_type": "execute_result"
    }
   ],
   "source": [
    "y"
   ]
  },
  {
   "cell_type": "markdown",
   "id": "f741a6b9-429a-47a7-b4d9-868fd418b023",
   "metadata": {},
   "source": [
    "# Metodos\n",
    "\n",
    "***Elegimos un metodo de regresion y un future selection, para este caso utilizamos los 3 metodos (forward_selection, backward_elimination y stepwise_selection)***"
   ]
  },
  {
   "cell_type": "markdown",
   "id": "68848bd5-ee5d-4af6-913e-ea1bea4a7543",
   "metadata": {},
   "source": [
    "***Forward Selecton***"
   ]
  },
  {
   "cell_type": "code",
   "execution_count": 18,
   "id": "f4a6c0f8-b657-44e0-8acc-c32df0352ad5",
   "metadata": {},
   "outputs": [],
   "source": [
    "def forward_selection(data, target, significance_level=0.01):\n",
    "    initial_features = data.columns.tolist()\n",
    "    best_features = []\n",
    "    while (len(initial_features)>0):\n",
    "        remaining_features = list(set(initial_features)-set(best_features))\n",
    "        new_pval = pd.Series(dtype='float64', index=remaining_features)\n",
    "        for new_column in remaining_features:\n",
    "            model = sm.OLS(target, sm.add_constant(data[best_features+[new_column]])).fit()\n",
    "            new_pval[new_column] = model.pvalues[new_column]\n",
    "        min_p_value = new_pval.min()\n",
    "        if(min_p_value<significance_level):\n",
    "            best_features.append(new_pval.idxmin())\n",
    "        else:\n",
    "            break\n",
    "    return best_features"
   ]
  },
  {
   "cell_type": "code",
   "execution_count": 19,
   "id": "16dd004c-a505-496d-8f0d-7b1694e643e0",
   "metadata": {},
   "outputs": [
    {
     "data": {
      "text/plain": [
       "['Country_Global',\n",
       " 'Coal',\n",
       " 'ISO 3166-1 alpha-3_WLD',\n",
       " 'Gas',\n",
       " 'Oil',\n",
       " 'Cement',\n",
       " 'Other',\n",
       " 'Flaring']"
      ]
     },
     "execution_count": 19,
     "metadata": {},
     "output_type": "execute_result"
    }
   ],
   "source": [
    "forward_selection(X,y)"
   ]
  },
  {
   "cell_type": "markdown",
   "id": "38667283-4457-4a9d-8f61-791b40b603c8",
   "metadata": {},
   "source": [
    "***Backward Elimination***"
   ]
  },
  {
   "cell_type": "code",
   "execution_count": 20,
   "id": "36ebbc29-8886-4403-a271-454f0b6167de",
   "metadata": {},
   "outputs": [],
   "source": [
    "def backward_elimination(data, target,significance_level = 0.05):\n",
    "    features = data.columns.tolist()\n",
    "    while(len(features)>0):\n",
    "        features_with_constant = sm.add_constant(data[features])\n",
    "        p_values = sm.OLS(target, features_with_constant).fit().pvalues[1:]\n",
    "        max_p_value = p_values.max()\n",
    "        if(max_p_value >= significance_level):\n",
    "            excluded_feature = p_values.idxmax()\n",
    "            features.remove(excluded_feature)\n",
    "        else:\n",
    "            break \n",
    "    return features"
   ]
  },
  {
   "cell_type": "code",
   "execution_count": 21,
   "id": "888d6ba9-096c-4ec0-b50a-a20835586751",
   "metadata": {},
   "outputs": [
    {
     "data": {
      "text/plain": [
       "['Coal',\n",
       " 'Oil',\n",
       " 'Gas',\n",
       " 'Cement',\n",
       " 'Flaring',\n",
       " 'Other',\n",
       " 'ISO 3166-1 alpha-3_CYP',\n",
       " 'ISO 3166-1 alpha-3_DEU',\n",
       " 'ISO 3166-1 alpha-3_DNK',\n",
       " 'ISO 3166-1 alpha-3_ESP',\n",
       " 'ISO 3166-1 alpha-3_NLD',\n",
       " 'Country_Cyprus',\n",
       " 'Country_Denmark',\n",
       " 'Country_Germany',\n",
       " 'Country_Netherlands',\n",
       " 'Country_Spain']"
      ]
     },
     "execution_count": 21,
     "metadata": {},
     "output_type": "execute_result"
    }
   ],
   "source": [
    "backward_elimination(X,y)"
   ]
  },
  {
   "cell_type": "markdown",
   "id": "06cf7e14-7fce-4405-9b12-4a9a5a18bd44",
   "metadata": {},
   "source": [
    "***Stepwise Selection***"
   ]
  },
  {
   "cell_type": "code",
   "execution_count": 22,
   "id": "f2896119-2fca-4bf8-82ca-72267edd121f",
   "metadata": {},
   "outputs": [],
   "source": [
    "def stepwise_selection(data, target,SL_in=0.05,SL_out = 0.05):\n",
    "    initial_features = data.columns.tolist()\n",
    "    best_features = []\n",
    "    while (len(initial_features)>0):\n",
    "        remaining_features = list(set(initial_features)-set(best_features))\n",
    "        new_pval = pd.Series(dtype='float64', index=remaining_features)\n",
    "        for new_column in remaining_features:\n",
    "            model = sm.OLS(target, sm.add_constant(data[best_features+[new_column]])).fit()\n",
    "            new_pval[new_column] = model.pvalues[new_column]\n",
    "        min_p_value = new_pval.min()\n",
    "        if(min_p_value<SL_in):\n",
    "            best_features.append(new_pval.idxmin())\n",
    "            while(len(best_features)>0):\n",
    "                best_features_with_constant = sm.add_constant(data[best_features])\n",
    "                p_values = sm.OLS(target, best_features_with_constant).fit().pvalues[1:]\n",
    "                max_p_value = p_values.max()\n",
    "                if(max_p_value >= SL_out):\n",
    "                    excluded_feature = p_values.idxmax()\n",
    "                    best_features.remove(excluded_feature)\n",
    "                else:\n",
    "                    break \n",
    "        else:\n",
    "            break\n",
    "    return best_features"
   ]
  },
  {
   "cell_type": "code",
   "execution_count": 23,
   "id": "3b7ab332-619b-4dcc-8dc4-2cae04aebd61",
   "metadata": {},
   "outputs": [
    {
     "data": {
      "text/plain": [
       "['Coal',\n",
       " 'Gas',\n",
       " 'Oil',\n",
       " 'Cement',\n",
       " 'Other',\n",
       " 'Flaring',\n",
       " 'ISO 3166-1 alpha-3_NLD',\n",
       " 'Country_Netherlands',\n",
       " 'Country_Cyprus',\n",
       " 'Country_Denmark',\n",
       " 'ISO 3166-1 alpha-3_CYP',\n",
       " 'ISO 3166-1 alpha-3_DNK',\n",
       " 'Country_Germany',\n",
       " 'ISO 3166-1 alpha-3_DEU',\n",
       " 'ISO 3166-1 alpha-3_ESP',\n",
       " 'Country_Spain']"
      ]
     },
     "execution_count": 23,
     "metadata": {},
     "output_type": "execute_result"
    }
   ],
   "source": [
    "stepwise_selection(X,y)"
   ]
  },
  {
   "cell_type": "markdown",
   "id": "3bdeaa19-143a-4f66-85a2-0b00d522346c",
   "metadata": {},
   "source": [
    "# Metricas"
   ]
  },
  {
   "cell_type": "code",
   "execution_count": 24,
   "id": "34eaf288-fd0c-4463-9f9b-f216ec3151f4",
   "metadata": {
    "id": "VLq1HCao22dh"
   },
   "outputs": [],
   "source": [
    "from sklearn.linear_model import LinearRegression\n",
    "#from sklearn.preprocessing import\n",
    "from sklearn.model_selection import train_test_split\n",
    "from sklearn.metrics import mean_absolute_error, r2_score\n",
    "import statsmodels.api as sm\n",
    "import sys\n",
    "import joblib\n",
    "import warnings\n",
    "warnings.filterwarnings(\"ignore\")\n",
    "\n",
    "sys.modules['sklearn.externals.joblib'] = joblib\n",
    "\n",
    "from mlxtend.feature_selection import SequentialFeatureSelector as SFS"
   ]
  },
  {
   "cell_type": "code",
   "execution_count": 25,
   "id": "10ed4729-f2d0-47b2-889b-f9e76f60b5ef",
   "metadata": {},
   "outputs": [],
   "source": [
    "X_train,X_test,y_train,y_test=train_test_split(X,y,test_size=0.2,random_state=2)\n",
    " "
   ]
  },
  {
   "cell_type": "code",
   "execution_count": 27,
   "id": "ea6ab111-94dd-4393-b7af-7a3789b2cf1b",
   "metadata": {},
   "outputs": [
    {
     "data": {
      "text/html": [
       "<div>\n",
       "<style scoped>\n",
       "    .dataframe tbody tr th:only-of-type {\n",
       "        vertical-align: middle;\n",
       "    }\n",
       "\n",
       "    .dataframe tbody tr th {\n",
       "        vertical-align: top;\n",
       "    }\n",
       "\n",
       "    .dataframe thead th {\n",
       "        text-align: right;\n",
       "    }\n",
       "</style>\n",
       "<table border=\"1\" class=\"dataframe\">\n",
       "  <thead>\n",
       "    <tr style=\"text-align: right;\">\n",
       "      <th></th>\n",
       "      <th>Coal</th>\n",
       "      <th>Oil</th>\n",
       "      <th>Gas</th>\n",
       "      <th>Cement</th>\n",
       "      <th>Flaring</th>\n",
       "    </tr>\n",
       "  </thead>\n",
       "  <tbody>\n",
       "    <tr>\n",
       "      <th>3232</th>\n",
       "      <td>141.879819</td>\n",
       "      <td>88.842090</td>\n",
       "      <td>34.454816</td>\n",
       "      <td>3.462872</td>\n",
       "      <td>7.272496</td>\n",
       "    </tr>\n",
       "    <tr>\n",
       "      <th>3233</th>\n",
       "      <td>146.082840</td>\n",
       "      <td>88.245572</td>\n",
       "      <td>32.786243</td>\n",
       "      <td>3.183033</td>\n",
       "      <td>7.001201</td>\n",
       "    </tr>\n",
       "    <tr>\n",
       "      <th>3234</th>\n",
       "      <td>150.051381</td>\n",
       "      <td>87.916828</td>\n",
       "      <td>33.970472</td>\n",
       "      <td>2.923411</td>\n",
       "      <td>7.303701</td>\n",
       "    </tr>\n",
       "    <tr>\n",
       "      <th>3235</th>\n",
       "      <td>150.098575</td>\n",
       "      <td>90.386578</td>\n",
       "      <td>35.670002</td>\n",
       "      <td>3.004698</td>\n",
       "      <td>7.136743</td>\n",
       "    </tr>\n",
       "    <tr>\n",
       "      <th>3236</th>\n",
       "      <td>151.376241</td>\n",
       "      <td>91.924087</td>\n",
       "      <td>37.032005</td>\n",
       "      <td>3.484276</td>\n",
       "      <td>6.880148</td>\n",
       "    </tr>\n",
       "    <tr>\n",
       "      <th>...</th>\n",
       "      <td>...</td>\n",
       "      <td>...</td>\n",
       "      <td>...</td>\n",
       "      <td>...</td>\n",
       "      <td>...</td>\n",
       "    </tr>\n",
       "    <tr>\n",
       "      <th>63099</th>\n",
       "      <td>14506.973805</td>\n",
       "      <td>12242.627935</td>\n",
       "      <td>7144.928128</td>\n",
       "      <td>1507.923185</td>\n",
       "      <td>391.992176</td>\n",
       "    </tr>\n",
       "    <tr>\n",
       "      <th>63100</th>\n",
       "      <td>14746.830688</td>\n",
       "      <td>12266.016285</td>\n",
       "      <td>7529.846784</td>\n",
       "      <td>1569.218392</td>\n",
       "      <td>412.115746</td>\n",
       "    </tr>\n",
       "    <tr>\n",
       "      <th>63101</th>\n",
       "      <td>14725.978025</td>\n",
       "      <td>12345.653374</td>\n",
       "      <td>7647.528220</td>\n",
       "      <td>1617.506786</td>\n",
       "      <td>439.253991</td>\n",
       "    </tr>\n",
       "    <tr>\n",
       "      <th>63102</th>\n",
       "      <td>14174.564010</td>\n",
       "      <td>11191.808551</td>\n",
       "      <td>7556.290283</td>\n",
       "      <td>1637.537532</td>\n",
       "      <td>407.583673</td>\n",
       "    </tr>\n",
       "    <tr>\n",
       "      <th>63103</th>\n",
       "      <td>14979.598083</td>\n",
       "      <td>11837.159116</td>\n",
       "      <td>7921.829472</td>\n",
       "      <td>1672.592372</td>\n",
       "      <td>416.525563</td>\n",
       "    </tr>\n",
       "  </tbody>\n",
       "</table>\n",
       "<p>1619 rows × 5 columns</p>\n",
       "</div>"
      ],
      "text/plain": [
       "               Coal           Oil          Gas       Cement     Flaring\n",
       "3232     141.879819     88.842090    34.454816     3.462872    7.272496\n",
       "3233     146.082840     88.245572    32.786243     3.183033    7.001201\n",
       "3234     150.051381     87.916828    33.970472     2.923411    7.303701\n",
       "3235     150.098575     90.386578    35.670002     3.004698    7.136743\n",
       "3236     151.376241     91.924087    37.032005     3.484276    6.880148\n",
       "...             ...           ...          ...          ...         ...\n",
       "63099  14506.973805  12242.627935  7144.928128  1507.923185  391.992176\n",
       "63100  14746.830688  12266.016285  7529.846784  1569.218392  412.115746\n",
       "63101  14725.978025  12345.653374  7647.528220  1617.506786  439.253991\n",
       "63102  14174.564010  11191.808551  7556.290283  1637.537532  407.583673\n",
       "63103  14979.598083  11837.159116  7921.829472  1672.592372  416.525563\n",
       "\n",
       "[1619 rows x 5 columns]"
      ]
     },
     "execution_count": 27,
     "metadata": {},
     "output_type": "execute_result"
    }
   ],
   "source": [
    "sfs1=SFS(LinearRegression(),\n",
    "         k_features=5,\n",
    "         forward=True,\n",
    "         floating=False,\n",
    "         scoring='r2',\n",
    "         cv=2)\n",
    "\n",
    "sfs1.fit(X_train,y_train)\n",
    "df1=df[list(sfs1.k_feature_names_)]\n",
    "df1"
   ]
  },
  {
   "cell_type": "code",
   "execution_count": 28,
   "id": "97b11c4c-475a-4a7d-a81a-57f00b88761f",
   "metadata": {},
   "outputs": [
    {
     "data": {
      "text/plain": [
       "('Coal', 'Oil', 'Gas', 'Cement', 'Flaring')"
      ]
     },
     "execution_count": 28,
     "metadata": {},
     "output_type": "execute_result"
    }
   ],
   "source": [
    "sfs1.k_feature_names_"
   ]
  },
  {
   "cell_type": "code",
   "execution_count": 29,
   "id": "3923fc36-257f-4423-8deb-f42be4693b5b",
   "metadata": {},
   "outputs": [],
   "source": [
    "X = df[['Coal',\n",
    " 'Oil',\n",
    " 'Gas',\n",
    " 'Cement',\n",
    " 'Flaring']]\n",
    "\n",
    "X_train,X_test,y_train,y_test=train_test_split(X,y,test_size=0.2,random_state=2)"
   ]
  },
  {
   "cell_type": "code",
   "execution_count": 30,
   "id": "0387d40e-b7da-4729-8bbe-d3781fbe11f2",
   "metadata": {},
   "outputs": [],
   "source": [
    "lr=LinearRegression()"
   ]
  },
  {
   "cell_type": "code",
   "execution_count": 31,
   "id": "b9cbbc77-78d2-47a2-8075-d149977a5342",
   "metadata": {},
   "outputs": [
    {
     "data": {
      "text/plain": [
       "LinearRegression()"
      ]
     },
     "execution_count": 31,
     "metadata": {},
     "output_type": "execute_result"
    }
   ],
   "source": [
    "lr.fit(X_train,y_train)"
   ]
  },
  {
   "cell_type": "code",
   "execution_count": 32,
   "id": "ccbd2a0d-50dc-4e57-94b3-56d4ad49d66f",
   "metadata": {},
   "outputs": [],
   "source": [
    "y_pred = lr.predict(X_test)"
   ]
  },
  {
   "cell_type": "code",
   "execution_count": 33,
   "id": "34059caf-3f3f-4fc6-b45e-56e7099bedb9",
   "metadata": {},
   "outputs": [
    {
     "name": "stdout",
     "output_type": "stream",
     "text": [
      "MAE 3.1212385083989505\n"
     ]
    }
   ],
   "source": [
    "print(\"MAE\",mean_absolute_error(y_test,y_pred))"
   ]
  },
  {
   "cell_type": "code",
   "execution_count": 34,
   "id": "17673cc6-123e-49ea-bce2-6f4fcf42be9c",
   "metadata": {},
   "outputs": [
    {
     "name": "stdout",
     "output_type": "stream",
     "text": [
      "R2 0.9999974218528245\n"
     ]
    }
   ],
   "source": [
    "print(\"R2\",r2_score(y_test,y_pred))"
   ]
  },
  {
   "cell_type": "markdown",
   "id": "ab33afdd-7bd5-4d96-baa3-967bc2d037dd",
   "metadata": {},
   "source": [
    "***R2 se Aproxima bastante bien a 1 por lo indica que el modelo esta bien***"
   ]
  }
 ],
 "metadata": {
  "kernelspec": {
   "display_name": "Python 3 (ipykernel)",
   "language": "python",
   "name": "python3"
  },
  "language_info": {
   "codemirror_mode": {
    "name": "ipython",
    "version": 3
   },
   "file_extension": ".py",
   "mimetype": "text/x-python",
   "name": "python",
   "nbconvert_exporter": "python",
   "pygments_lexer": "ipython3",
   "version": "3.9.13"
  }
 },
 "nbformat": 4,
 "nbformat_minor": 5
}
