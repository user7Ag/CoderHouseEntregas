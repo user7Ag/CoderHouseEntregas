{
 "cells": [
  {
   "cell_type": "markdown",
   "id": "ca5abc09-4172-4b25-9e94-9ce389e5daa0",
   "metadata": {},
   "source": [
    "# En los ultimos 30 años han disminuido las emisiones de Co2 mundialmente ?"
   ]
  },
  {
   "cell_type": "markdown",
   "id": "6c801ab8-3502-432b-8a40-c4df3ded73c2",
   "metadata": {},
   "source": [
    "## Abstract"
   ]
  },
  {
   "cell_type": "markdown",
   "id": "f543529f-e867-4d92-b9d7-018206b974b0",
   "metadata": {},
   "source": [
    "Se presenta un modelo, donde a traves de los datos presentados vamos a poder saber, como las emisiones de Co2 se han comportado a lo largo del tiempo,\n",
    "tambien a traves del modelo vamos a poder estimar si las disminuciones continuaran o descenderan en el tiempo\n"
   ]
  },
  {
   "cell_type": "markdown",
   "id": "8525135d-754e-4a63-83a7-8362fa0acc8e",
   "metadata": {},
   "source": [
    "## Objetivo"
   ]
  },
  {
   "cell_type": "markdown",
   "id": "f9a5e339-f7d7-4b28-b704-6ac854cd43ce",
   "metadata": {},
   "source": [
    "Generar un modelo que pueda predecir si las emisiones disminuiran o aumentaran"
   ]
  },
  {
   "cell_type": "markdown",
   "id": "4bd0dcb0-23b1-4a88-8f1a-2703ffc3845d",
   "metadata": {},
   "source": [
    "Como parte de las iniciativas de los gobiernos, sabemos que se estan realizando campañas y aplicando nuevas politicas para el cese de las emisiones de Co2, queremos saber que tan real es esto en el tiempo"
   ]
  },
  {
   "cell_type": "markdown",
   "id": "d05ad1bc-b98a-4902-994a-37f183bf6cfd",
   "metadata": {},
   "source": [
    "## Problema comercial"
   ]
  },
  {
   "cell_type": "markdown",
   "id": "de246748-1908-49eb-b03f-41dbfa38708c",
   "metadata": {},
   "source": [
    "Sabemos que a pesar de que se quieran aplicar nuevas politicas y camapañas, muchas veces esto no puede ser realizado en una eficacia del 100% real, ya que muchas veces se enfretan a grandes problemas burocracticos"
   ]
  },
  {
   "cell_type": "markdown",
   "id": "573b4447-80dc-4a3a-a34c-3ede13807604",
   "metadata": {},
   "source": [
    "## Librerias"
   ]
  },
  {
   "cell_type": "markdown",
   "id": "0630c2de-f94a-4cce-a18a-5f4b317da758",
   "metadata": {},
   "source": [
    "***Importamos las bibliotecas necesarias***"
   ]
  },
  {
   "cell_type": "code",
   "execution_count": 80,
   "id": "7a3b4385-2cfb-43cd-a897-35999d5bd1a7",
   "metadata": {},
   "outputs": [
    {
     "data": {
      "text/plain": [
       "'1.0.2'"
      ]
     },
     "execution_count": 80,
     "metadata": {},
     "output_type": "execute_result"
    }
   ],
   "source": [
    "import numpy as np\n",
    "import pandas as pd\n",
    "import matplotlib.pyplot as plt\n",
    "import seaborn as sns\n",
    "import statsmodels.api as sm\n",
    "import sklearn\n",
    "sklearn.__version__"
   ]
  },
  {
   "cell_type": "markdown",
   "id": "6c5d86c7-3246-484f-8444-bc62d6f2db2c",
   "metadata": {
    "jp-MarkdownHeadingCollapsed": true,
    "tags": []
   },
   "source": [
    "# Introducción"
   ]
  },
  {
   "cell_type": "markdown",
   "id": "505769f8-b15a-42c3-be9e-5a8ac1594e37",
   "metadata": {},
   "source": [
    "# Contexto \n",
    "\n",
    "En las últimas tres décadas, las emisiones de dióxido de carbono (CO2) a nivel mundial han experimentado un aumento constante. Según el Informe de Evaluación Global del Cambio Climático de 2021 del Grupo Intergubernamental de Expertos sobre el Cambio Climático (IPCC), entre los años 2010 y 2019 las emisiones globales de CO2 aumentaron anualmente en un promedio del 1.5%.\n",
    "\n",
    "Este mismo informe evidencia que las emisiones de gases de efecto invernadero (GEI) de origen humano constituyen la causa principal del calentamiento global que se ha observado en las últimas décadas. Desde la Revolución Industrial, las emisiones de GEI han experimentado un incremento significativo, debido al empleo de combustibles fósiles como el petróleo, el gas y el carbón, así como a la deforestación y a la agricultura intensiva.\n",
    "\n",
    "El aumento en las emisiones de CO2 ha llevado a un incremento en la temperatura global promedio, lo que ha generado impactos notorios en el clima, como el aumento del nivel del mar, la acidificación de los océanos y el incremento de eventos climáticos extremos como huracanes, sequías e inundaciones.\n",
    "\n",
    "Con la finalidad de mitigar este problema, diversos países han adoptado medidas para reducir las emisiones de GEI, tales como el fomento de fuentes de energía renovable, la optimización de la eficiencia energética y la adopción de prácticas agrícolas más sostenibles. Sin embargo, a pesar de estos esfuerzos, la reducción de las emisiones globales de GEI sigue siendo un desafío importante.\n",
    "\n",
    "# Contexto analítico\n",
    "\n",
    "En el marco de este estudio, se recopilaron datos sobre las emisiones de CO2 a nivel mundial a partir de un archivo CSV disponible en GitHub. Estos datos fueron extraídos de Kaggle y consisten en emisiones de CO2 por caída país, medidas en unidades métricas por persona. Los datos fueron recolectados a través del World Data Bank.\n",
    "\n",
    "1) Se extraen los datos a partir de un archivo CSV\n",
    "2) Se leen y transforman los mimsos y se preparan los datos para su visualización\n",
    "3) Se procede a realizar un análisis y a construir visualizaciones de los datos para identificar patrones en el conjunto de datos\n",
    "\n",
    "Para el presente trabajo se extrajo información de emisiones de Co2 a nivel mundial.\n",
    "\n",
    "Estos datos fueron extraídos de Kaggle. El Dataset presente consiste en emisiones de Co2 en medida (metricon) per cápita por caída país alrededor del mundo. Estos datos fueron recolectados a través desde World Data Bank.\n",
    "\n",
    "***Links:***\n",
    "\n",
    "https://data.worldbank.org/indicator/EN.ATM.CO2E.PC\n",
    "\n",
    "https://www.kaggle.com/datasets/koustavghosh149/co2-emission-around-the-world\n",
    "\n",
    "# Hipótesis\n",
    "\n",
    "El presente estudio tiene como hipótesis que, mediante el análisis y la visualización de los datos, será posible obtener información valiosa y fiable para determinar si las emisiones de CO2 han disminuido con el tiempo y en qué países se observa una tendencia al alza en los niveles de contaminación a lo largo del tiempo."
   ]
  },
  {
   "cell_type": "markdown",
   "id": "81589fef-7d79-4508-a1d9-d4b647c1c95e",
   "metadata": {},
   "source": [
    "***Obtencion de datos relevantes***"
   ]
  },
  {
   "cell_type": "markdown",
   "id": "0c5e11eb-7cfe-418f-b2cd-89a17b2b5120",
   "metadata": {},
   "source": [
    "Los datos se almacenan en un archivo CSV, en el cual mediante librerias en cojunto con Python nos seran de grana ayuda para otener los mismos\n",
    "\n"
   ]
  },
  {
   "cell_type": "markdown",
   "id": "0d67ead5-6473-4b45-b510-b2649634ea9e",
   "metadata": {},
   "source": [
    "***De que manera se obtienen los datos ?***"
   ]
  },
  {
   "cell_type": "code",
   "execution_count": 81,
   "id": "f617223e-41a6-4b67-b479-589b775b0eb3",
   "metadata": {},
   "outputs": [],
   "source": [
    "url='/Users/user/Downloads/SegundaEntregaCoder/GCB2022v27_MtCO2_flat.csv'\n",
    "df=pd.read_csv('/Users/user/Downloads/SegundaEntregaCoder/GCB2022v27_MtCO2_flat.csv')"
   ]
  },
  {
   "cell_type": "markdown",
   "id": "75ddf179-3115-4a1a-9ed1-4aec166ac798",
   "metadata": {},
   "source": [
    "Se obtienen los datos mediante la funcion df=pd.read_csv llamando a la URL que es la ruta donde se encuentra alojado nuestro CSV"
   ]
  },
  {
   "cell_type": "markdown",
   "id": "f9fe3e16-17a9-4e8f-96c2-2bb7424f5156",
   "metadata": {},
   "source": [
    "# ANALISIS EDA"
   ]
  },
  {
   "cell_type": "markdown",
   "id": "7efae2a0-1359-4259-bb87-0b7584a770f8",
   "metadata": {},
   "source": [
    "***OVERVIEW de la data :***"
   ]
  },
  {
   "cell_type": "markdown",
   "id": "59601e5f-7532-42f2-b8e3-9247bc67c92c",
   "metadata": {},
   "source": [
    "***DATA WRANGLING***"
   ]
  },
  {
   "cell_type": "code",
   "execution_count": 82,
   "id": "e7eb89bf-9b8a-43f2-a06d-40dd01554241",
   "metadata": {},
   "outputs": [
    {
     "name": "stdout",
     "output_type": "stream",
     "text": [
      "<class 'pandas.core.frame.DataFrame'>\n",
      "RangeIndex: 63104 entries, 0 to 63103\n",
      "Data columns (total 11 columns):\n",
      " #   Column              Non-Null Count  Dtype  \n",
      "---  ------              --------------  -----  \n",
      " 0   Country             63104 non-null  object \n",
      " 1   ISO 3166-1 alpha-3  61472 non-null  object \n",
      " 2   Year                63104 non-null  int64  \n",
      " 3   Total               62904 non-null  float64\n",
      " 4   Coal                21744 non-null  float64\n",
      " 5   Oil                 21717 non-null  float64\n",
      " 6   Gas                 21618 non-null  float64\n",
      " 7   Cement              20814 non-null  float64\n",
      " 8   Flaring             21550 non-null  float64\n",
      " 9   Other               1620 non-null   float64\n",
      " 10  Per Capita          18974 non-null  float64\n",
      "dtypes: float64(8), int64(1), object(2)\n",
      "memory usage: 5.3+ MB\n"
     ]
    }
   ],
   "source": [
    "df.info()"
   ]
  },
  {
   "cell_type": "markdown",
   "id": "9cc39de8-7385-4bb9-8773-a1c69dbab525",
   "metadata": {},
   "source": [
    "***La funcion df.shape nos brinda el tamaño de nuestro DataFrame***"
   ]
  },
  {
   "cell_type": "code",
   "execution_count": 83,
   "id": "369cbd6e-67fd-4842-983c-885183ef3da4",
   "metadata": {},
   "outputs": [
    {
     "data": {
      "text/plain": [
       "(63104, 11)"
      ]
     },
     "execution_count": 83,
     "metadata": {},
     "output_type": "execute_result"
    }
   ],
   "source": [
    "df.shape"
   ]
  },
  {
   "cell_type": "markdown",
   "id": "2b4b8b53-a96f-4876-ac73-774984347406",
   "metadata": {},
   "source": [
    "***Con la funcion df.columns las columnas que poseemos***"
   ]
  },
  {
   "cell_type": "code",
   "execution_count": 84,
   "id": "810e6b00-c624-4576-b2a1-2139f4cbdb8c",
   "metadata": {},
   "outputs": [
    {
     "data": {
      "text/plain": [
       "Index(['Country', 'ISO 3166-1 alpha-3', 'Year', 'Total', 'Coal', 'Oil', 'Gas',\n",
       "       'Cement', 'Flaring', 'Other', 'Per Capita'],\n",
       "      dtype='object')"
      ]
     },
     "execution_count": 84,
     "metadata": {},
     "output_type": "execute_result"
    }
   ],
   "source": [
    "df.columns"
   ]
  },
  {
   "cell_type": "markdown",
   "id": "099c0851-4dd6-4c7b-8348-77a4fc17446b",
   "metadata": {},
   "source": [
    "***Tenemos las siguientes columnas***\n",
    "\n",
    "Country: El nombre del pais. (String)\n",
    "\n",
    "ISO 3166-1 alpha-3: El codigo de tres letras para el pais. (String)\n",
    "\n",
    "Year: El año del dato. (Integer)\n",
    "\n",
    "Total: El total de emisiones de Co2 para dicho pais en el el año dado. (Float)\n",
    "\n",
    "Coal: El monto total de emisiones de Co2 de carbon para el pais en el año dado. (Float)\n",
    "\n",
    "Oil: El monto total de emisiones de Co2 de petroleo para el pais en el año dado. (Float)\n",
    "\n",
    "Gas: El monto total de emisiones de Co2 de gas para el pais en el año dado. (Float)\n",
    "\n",
    "Cement: El monto total de emisiones de Co2 de cemento para el pais en el año dado. (Float)\n",
    "\n",
    "Flaring: El monto total de emisiones de Co2 de antorcha para el pais en el año dado. (Float)\n",
    "\n",
    "Other: El monto total de emisiones de Co2 de otras elementos para el pais en el año dado. (Float)\n",
    "\n",
    "Per Capita: El monto total de emisiones de Co2 de Per Capita para el pais en el año dado. (Float)"
   ]
  },
  {
   "cell_type": "markdown",
   "id": "32008e66-91cf-4cf6-8357-5213f0fc59e0",
   "metadata": {},
   "source": [
    "***COMENZAMOS A CORROBORAR VALORES NULOS***"
   ]
  },
  {
   "cell_type": "code",
   "execution_count": 85,
   "id": "3c3517e1-c5e1-4c11-b55a-b889573656c9",
   "metadata": {},
   "outputs": [
    {
     "data": {
      "text/plain": [
       "Country               False\n",
       "ISO 3166-1 alpha-3     True\n",
       "Year                  False\n",
       "Total                  True\n",
       "Coal                   True\n",
       "Oil                    True\n",
       "Gas                    True\n",
       "Cement                 True\n",
       "Flaring                True\n",
       "Other                  True\n",
       "Per Capita             True\n",
       "dtype: bool"
      ]
     },
     "execution_count": 85,
     "metadata": {},
     "output_type": "execute_result"
    }
   ],
   "source": [
    "df.isna().any()"
   ]
  },
  {
   "cell_type": "code",
   "execution_count": 86,
   "id": "218cf05d-50b4-49b4-b872-ce1bcadc4ebb",
   "metadata": {},
   "outputs": [
    {
     "data": {
      "text/plain": [
       "Country                   0\n",
       "ISO 3166-1 alpha-3     1632\n",
       "Year                      0\n",
       "Total                   200\n",
       "Coal                  41360\n",
       "Oil                   41387\n",
       "Gas                   41486\n",
       "Cement                42290\n",
       "Flaring               41554\n",
       "Other                 61484\n",
       "Per Capita            44130\n",
       "dtype: int64"
      ]
     },
     "execution_count": 86,
     "metadata": {},
     "output_type": "execute_result"
    }
   ],
   "source": [
    "df.isna().sum()"
   ]
  },
  {
   "cell_type": "markdown",
   "id": "bc0d429d-ce48-435e-9e92-09e292981566",
   "metadata": {},
   "source": [
    "***Comprobamos de que el dataset no tenga datos NaN, nos damos cuenta que disponemos de muchos datos nulos, los mismos se encuentran en las columnas y su valores son:***\n",
    "\n",
    "ISO 3166-1 alpha-3:    1632\n",
    "\n",
    "Total:                 200\n",
    "\n",
    "Coal:                  41360\n",
    "\n",
    "Oil:                   41387\n",
    "\n",
    "Gas:                   41486\n",
    "\n",
    "Cement:                42290\n",
    "\n",
    "Flaring:               41554\n",
    "\n",
    "Other:                 61484\n",
    "\n",
    "Per Capita:            44130"
   ]
  },
  {
   "cell_type": "markdown",
   "id": "d56d53b0-75b0-433d-a4ae-9e9b90010a56",
   "metadata": {},
   "source": [
    "***Limpiamos valores Nulos***\n",
    "\n",
    "Podria parecer que limpiar los datos nulos simplmente con DropaNa seria un tanto extremo, pero consideramos que en valores de contaminacion no podemos pensar en medianas etc al momento de modificar un dato, ya que si remplazaramos los mismos habrian cambios significativos ya que estamos hablando de emisiones de Co2 y no por ejemplo como podria ser el caso de creditos etc."
   ]
  },
  {
   "cell_type": "markdown",
   "id": "ee525087-2aec-477d-aca6-1c32ef684def",
   "metadata": {},
   "source": [
    "***Eliminamos los datos nulos con la siguiente funcion***"
   ]
  },
  {
   "cell_type": "code",
   "execution_count": 87,
   "id": "d9b02af4-64a9-48ca-b1a8-7728a6f41e3b",
   "metadata": {},
   "outputs": [],
   "source": [
    "df=df.dropna()"
   ]
  },
  {
   "cell_type": "markdown",
   "id": "a45aa9a7-29ec-4a16-8c2e-08b96c126c7c",
   "metadata": {},
   "source": [
    "***Corroboramos no tener datos nulos***"
   ]
  },
  {
   "cell_type": "code",
   "execution_count": 88,
   "id": "10de1443-48be-48fb-ad3e-9be8669892c1",
   "metadata": {},
   "outputs": [
    {
     "data": {
      "text/plain": [
       "Country               0\n",
       "ISO 3166-1 alpha-3    0\n",
       "Year                  0\n",
       "Total                 0\n",
       "Coal                  0\n",
       "Oil                   0\n",
       "Gas                   0\n",
       "Cement                0\n",
       "Flaring               0\n",
       "Other                 0\n",
       "Per Capita            0\n",
       "dtype: int64"
      ]
     },
     "execution_count": 88,
     "metadata": {},
     "output_type": "execute_result"
    }
   ],
   "source": [
    "df.isna().sum()"
   ]
  },
  {
   "cell_type": "markdown",
   "id": "abdfaa92-c84a-460b-b1a0-7dc8c2db00c9",
   "metadata": {},
   "source": [
    "***Procedemos a chequear que no hayan valores duplicados***"
   ]
  },
  {
   "cell_type": "code",
   "execution_count": 89,
   "id": "4f883b4e-6042-4a5f-93be-86bf2b57c994",
   "metadata": {},
   "outputs": [
    {
     "data": {
      "text/plain": [
       "False    1619\n",
       "dtype: int64"
      ]
     },
     "execution_count": 89,
     "metadata": {},
     "output_type": "execute_result"
    }
   ],
   "source": [
    "df.duplicated().value_counts()"
   ]
  },
  {
   "cell_type": "markdown",
   "id": "6dbac7eb-3388-4786-9fae-6aa931d39d72",
   "metadata": {},
   "source": [
    "***Procedemos a eliminar los duplicamos***"
   ]
  },
  {
   "cell_type": "code",
   "execution_count": 90,
   "id": "ca9e7ee6-ee6a-4d9b-a4b2-71ae15fda588",
   "metadata": {},
   "outputs": [],
   "source": [
    "df = df.drop_duplicates()"
   ]
  },
  {
   "cell_type": "markdown",
   "id": "5753ae3c-ad9c-479c-b1e9-8e4812b5176e",
   "metadata": {},
   "source": [
    "***Con esta pequeño condicional nos sercioramos de que no hayan duplicados***"
   ]
  },
  {
   "cell_type": "code",
   "execution_count": 91,
   "id": "363482f1-a828-4b5b-8c21-91fd3d53a8ac",
   "metadata": {},
   "outputs": [
    {
     "name": "stdout",
     "output_type": "stream",
     "text": [
      "No hay duplicados en el DataFrame.\n"
     ]
    }
   ],
   "source": [
    "if df.duplicated().any():\n",
    "    print(\"Hay duplicados en el DataFrame.\")\n",
    "else:\n",
    "    print(\"No hay duplicados en el DataFrame.\")"
   ]
  },
  {
   "cell_type": "markdown",
   "id": "78bd13ec-2dee-437a-bebc-e5f3fe549693",
   "metadata": {},
   "source": [
    "***Mostramos las primeras tres filas del Data Frame***"
   ]
  },
  {
   "cell_type": "code",
   "execution_count": 92,
   "id": "f0a88a50-a5ca-4f52-b35e-770b901dfdd9",
   "metadata": {},
   "outputs": [
    {
     "data": {
      "text/html": [
       "<div>\n",
       "<style scoped>\n",
       "    .dataframe tbody tr th:only-of-type {\n",
       "        vertical-align: middle;\n",
       "    }\n",
       "\n",
       "    .dataframe tbody tr th {\n",
       "        vertical-align: top;\n",
       "    }\n",
       "\n",
       "    .dataframe thead th {\n",
       "        text-align: right;\n",
       "    }\n",
       "</style>\n",
       "<table border=\"1\" class=\"dataframe\">\n",
       "  <thead>\n",
       "    <tr style=\"text-align: right;\">\n",
       "      <th></th>\n",
       "      <th>Country</th>\n",
       "      <th>ISO 3166-1 alpha-3</th>\n",
       "      <th>Year</th>\n",
       "      <th>Total</th>\n",
       "      <th>Coal</th>\n",
       "      <th>Oil</th>\n",
       "      <th>Gas</th>\n",
       "      <th>Cement</th>\n",
       "      <th>Flaring</th>\n",
       "      <th>Other</th>\n",
       "      <th>Per Capita</th>\n",
       "    </tr>\n",
       "  </thead>\n",
       "  <tbody>\n",
       "    <tr>\n",
       "      <th>3232</th>\n",
       "      <td>Australia</td>\n",
       "      <td>AUS</td>\n",
       "      <td>1990</td>\n",
       "      <td>278.154156</td>\n",
       "      <td>141.879819</td>\n",
       "      <td>88.842090</td>\n",
       "      <td>34.454816</td>\n",
       "      <td>3.462872</td>\n",
       "      <td>7.272496</td>\n",
       "      <td>2.242063</td>\n",
       "      <td>16.315938</td>\n",
       "    </tr>\n",
       "    <tr>\n",
       "      <th>3233</th>\n",
       "      <td>Australia</td>\n",
       "      <td>AUS</td>\n",
       "      <td>1991</td>\n",
       "      <td>279.528510</td>\n",
       "      <td>146.082840</td>\n",
       "      <td>88.245572</td>\n",
       "      <td>32.786243</td>\n",
       "      <td>3.183033</td>\n",
       "      <td>7.001201</td>\n",
       "      <td>2.229622</td>\n",
       "      <td>16.184767</td>\n",
       "    </tr>\n",
       "    <tr>\n",
       "      <th>3234</th>\n",
       "      <td>Australia</td>\n",
       "      <td>AUS</td>\n",
       "      <td>1992</td>\n",
       "      <td>284.525345</td>\n",
       "      <td>150.051381</td>\n",
       "      <td>87.916828</td>\n",
       "      <td>33.970472</td>\n",
       "      <td>2.923411</td>\n",
       "      <td>7.303701</td>\n",
       "      <td>2.359551</td>\n",
       "      <td>16.293502</td>\n",
       "    </tr>\n",
       "  </tbody>\n",
       "</table>\n",
       "</div>"
      ],
      "text/plain": [
       "        Country ISO 3166-1 alpha-3  Year       Total        Coal        Oil  \\\n",
       "3232  Australia                AUS  1990  278.154156  141.879819  88.842090   \n",
       "3233  Australia                AUS  1991  279.528510  146.082840  88.245572   \n",
       "3234  Australia                AUS  1992  284.525345  150.051381  87.916828   \n",
       "\n",
       "            Gas    Cement   Flaring     Other  Per Capita  \n",
       "3232  34.454816  3.462872  7.272496  2.242063   16.315938  \n",
       "3233  32.786243  3.183033  7.001201  2.229622   16.184767  \n",
       "3234  33.970472  2.923411  7.303701  2.359551   16.293502  "
      ]
     },
     "execution_count": 92,
     "metadata": {},
     "output_type": "execute_result"
    }
   ],
   "source": [
    "df.head(3)"
   ]
  },
  {
   "cell_type": "markdown",
   "id": "219181c8-1d57-46e9-8c9d-e94b21ea8c43",
   "metadata": {},
   "source": [
    "***Identificamos la correlacion entre variables***"
   ]
  },
  {
   "cell_type": "code",
   "execution_count": 93,
   "id": "c878dadc-61eb-49b9-b31f-4f26cd8d0a75",
   "metadata": {},
   "outputs": [
    {
     "data": {
      "text/plain": [
       "<AxesSubplot:>"
      ]
     },
     "execution_count": 93,
     "metadata": {},
     "output_type": "execute_result"
    },
    {
     "data": {
      "image/png": "[encoded data removed]",
      "text/plain": [
       "<Figure size 640x480 with 2 Axes>"
      ]
     },
     "metadata": {},
     "output_type": "display_data"
    }
   ],
   "source": [
    "correlation_matrix = df.corr() # calcula la matriz de correlación\n",
    "sns.heatmap(correlation_matrix, annot=True) # muestra un mapa de calor de la matriz de correlación"
   ]
  },
  {
   "cell_type": "markdown",
   "id": "cca1514c-8642-4499-b735-f926b4dcc9bc",
   "metadata": {},
   "source": [
    "***PREGUNTAS A ANALIZAR***\n",
    "\n",
    "Que paises son los mayores emisores de Co2 ?\n",
    "\n",
    "Cuáles son los cinco países con mayores emisiones de CO2 en los últimos 35 años ?\n",
    "\n",
    "Cuáles son las principales fuentes de emisiones de CO2 en cada uno de estos países ?\n",
    "\n",
    "Cuál es la tendencia de las emisiones de CO2 en estos países en los últimos años ?"
   ]
  },
  {
   "cell_type": "markdown",
   "id": "b4cc046b-faab-4162-95c0-86f164ee46a1",
   "metadata": {},
   "source": [
    "***GRAFICA TOP 5 PAISES DE MAYORES EMISIONES DE Co2***"
   ]
  },
  {
   "cell_type": "markdown",
   "id": "bfc9d2f2-91d4-462c-bf23-5bf63d1f5c70",
   "metadata": {},
   "source": [
    "# Analisis univariado\n",
    "\n",
    "Realizamos un analisis univariado en el cual graficamos los 5 principales paises emisores de Co2 y un dato global del total de contaminacion de los anteriormente mencionados paises "
   ]
  },
  {
   "cell_type": "code",
   "execution_count": 94,
   "id": "340bcb30-be56-4e39-a07c-2074294e065b",
   "metadata": {},
   "outputs": [
    {
     "data": {
      "text/plain": [
       "<AxesSubplot:>"
      ]
     },
     "execution_count": 94,
     "metadata": {},
     "output_type": "execute_result"
    },
    {
     "data": {
      "image/png": "[encoded data removed]",
      "text/plain": [
       "<Figure size 1000x1000 with 1 Axes>"
      ]
     },
     "metadata": {},
     "output_type": "display_data"
    }
   ],
   "source": [
    "paises=list(df.groupby('Country').sum().sort_values(by='Total', ascending=False).index) \n",
    "valores=list(df.groupby('Country').sum().sort_values(by='Total', ascending=False)['Total']) \n",
    "plt.figure(figsize=(10,10)) \n",
    "sns.set_style('ticks')\n",
    "sns.barplot(x=paises[:6],y= valores[:6])"
   ]
  },
  {
   "cell_type": "markdown",
   "id": "00d95c1a-a456-48d9-9942-76a9550d851b",
   "metadata": {},
   "source": [
    "# Analisis Vibariado\n",
    "\n",
    "***Procederemos a graficar las emisiones de los TOP 5 paises del dataframe a lo largo de 35 años de manera individual, al finalizar con un grafico de lineas graficaremos a los 5 paises para esta manera poder visualizar de mejor manera de que manera se diferencian entre si en sus emisiones***"
   ]
  },
  {
   "cell_type": "markdown",
   "id": "a9057555-f6f0-48b1-8c0a-90e962678c1d",
   "metadata": {},
   "source": [
    "***GRAFICOS DE BARRAS***"
   ]
  },
  {
   "cell_type": "code",
   "execution_count": 95,
   "id": "785b92f6-1730-479a-974c-5c813c58dda7",
   "metadata": {},
   "outputs": [
    {
     "data": {
      "text/plain": [
       "Text(0, 0.5, 'Total')"
      ]
     },
     "execution_count": 95,
     "metadata": {},
     "output_type": "execute_result"
    },
    {
     "data": {
      "image/png": "[encoded data removed]",
      "text/plain": [
       "<Figure size 1500x500 with 1 Axes>"
      ]
     },
     "metadata": {},
     "output_type": "display_data"
    }
   ],
   "source": [
    "usa = df[df['Country']=='USA']\n",
    "USA_data = usa[-35:]\n",
    "plt.figure(figsize=(15,5))\n",
    "sns.barplot(x='Year',y='Total',data=USA_data, color='navy')\n",
    "plt.title('Total de emisiones en Estados Unidos unido por Año', fontsize=16)\n",
    "plt.xlabel('Año', fontsize=14)\n",
    "plt.ylabel('Total', fontsize=14)\n"
   ]
  },
  {
   "cell_type": "markdown",
   "id": "71e21682-06a7-464d-9ba6-ccbe3e19e351",
   "metadata": {},
   "source": [
    "***RESUMEN NUMERICO***\n",
    "\n",
    "Como se puede observar, la producción de energía a partir de combustibles fósiles como el petróleo, el gas natural y el carbón representa más del 75% de la producción total de energía en los Estados Unidos en 2020. Los combustibles fósiles son los principales emisores de CO2, y su uso contribuye significativamente al calentamiento global y el cambio climático.\n",
    "\n",
    "Si bien la producción de energía a partir de fuentes renovables, como la energía hidroeléctrica, eólica y solar, ha aumentado en los últimos años, sigue siendo una pequeña proporción de la producción total de energía. Esto sugiere que, aunque se están realizando avances en la transición hacia fuentes de energía más limpias y renovables, todavía hay un largo camino por recorrer en la reducción de las emisiones de CO2 de los Estados Unidos.\n",
    "\n",
    "Es importante destacar que los Estados Unidos son uno de los mayores emisores de CO2 del mundo, y la reducción de las emisiones de gases de efecto invernadero es una prioridad tanto para el gobierno como para muchas empresas y organizaciones en el país. El compromiso de los Estados Unidos con la energía limpia y la reducción de las emisiones de CO2 es fundamental para abordar el cambio climático a nivel mundial.\n",
    "\n",
    "\n",
    "\n",
    "\n",
    "\n"
   ]
  },
  {
   "cell_type": "code",
   "execution_count": 96,
   "id": "bda25ed7-9c9b-4cb2-9034-13d279ba5251",
   "metadata": {},
   "outputs": [
    {
     "data": {
      "text/plain": [
       "Text(0, 0.5, 'Total')"
      ]
     },
     "execution_count": 96,
     "metadata": {},
     "output_type": "execute_result"
    },
    {
     "data": {
      "image/png": "[encoded data removed]",
      "text/plain": [
       "<Figure size 1500x500 with 1 Axes>"
      ]
     },
     "metadata": {},
     "output_type": "display_data"
    }
   ],
   "source": [
    "china = df[df['Country']=='China']\n",
    "China_data = china[-35:]\n",
    "plt.figure(figsize=(15,5))\n",
    "sns.barplot(x='Year', y='Total', data=China_data, color='navy')\n",
    "plt.title('Total de emisiones en China por Año', fontsize=16)\n",
    "plt.xlabel('Año', fontsize=14)\n",
    "plt.ylabel('Total', fontsize=14)"
   ]
  },
  {
   "cell_type": "markdown",
   "id": "03d6bdfd-c3fe-41b7-a2df-5cb88322cdc0",
   "metadata": {},
   "source": [
    "***RESUMEN NUMERICO***\n",
    "\n",
    "Se puede observar que las emisiones de CO2 de China han experimentado un crecimiento significativo durante este período. En 1990, China emitió alrededor de 2,7 mil millones de toneladas de CO2, mientras que en 2018 las emisiones alcanzaron alrededor de 10,1 mil millones de toneladas, lo que representa un aumento de casi cuatro veces en 28 años.\n",
    "\n",
    "Sin embargo, también es importante tener en cuenta que las emisiones de CO2 de China se han estabilizado en los últimos años y que el país ha implementado una serie de políticas para reducir su huella de carbono, como la promoción de energías renovables y la inversión en tecnologías más limpias. A pesar de esto, China sigue siendo el mayor emisor de CO2 del mundo y, por lo tanto, desempeña un papel clave en la lucha contra el cambio climático a nivel global."
   ]
  },
  {
   "cell_type": "code",
   "execution_count": 97,
   "id": "c44c91dc-18c2-4899-b9bc-15f5916c672e",
   "metadata": {},
   "outputs": [
    {
     "data": {
      "text/plain": [
       "Text(0, 0.5, 'Total')"
      ]
     },
     "execution_count": 97,
     "metadata": {},
     "output_type": "execute_result"
    },
    {
     "data": {
      "image/png": "[encoded data removed]",
      "text/plain": [
       "<Figure size 1500x500 with 1 Axes>"
      ]
     },
     "metadata": {},
     "output_type": "display_data"
    }
   ],
   "source": [
    "russia = df[df['Country']=='Russia']\n",
    "Russia_data = russia[-35:]\n",
    "plt.figure(figsize=(15,5))\n",
    "sns.barplot(x='Year',y='Total',data=Russia_data, color='navy')\n",
    "plt.title('Total de emisiones en Rusia por Año', fontsize=16)\n",
    "plt.xlabel('Año', fontsize=14)\n",
    "plt.ylabel('Total', fontsize=14)"
   ]
  },
  {
   "cell_type": "markdown",
   "id": "b3fc781b-e3b2-4acb-b47c-39b8c9c7e545",
   "metadata": {},
   "source": [
    "***RESUMEN NUMERICO***\n",
    "\n",
    "Se puede observar que las emisiones de CO2 de Rusia han aumentado significativamente desde la década de 1990 donde alcanzo su punto maximo antes de disminuir ligeramente en los últimos años.\n",
    "\n",
    "Rusia es uno de los mayores emisores de CO2 del mundo debido a su dependencia de la industria del petróleo y el gas, que es una de las principales fuentes de emisiones de CO2. También cuenta con una gran cantidad de centrales eléctricas de carbón, lo que contribuye aún más a sus emisiones.\n",
    "\n",
    "Es importante destacar que, a pesar del aumento en las emisiones de CO2, Rusia ha establecido objetivos ambiciosos para reducir sus emisiones de gases de efecto invernadero. En 2020, el gobierno de Rusia anunció planes para reducir las emisiones de gases de efecto invernadero en un 30% para 2030 en comparación con los niveles de 1990.\n",
    "\n",
    "Es importante destacar que la disminución reciente de las emisiones de CO2 de Rusia podría deberse en parte a la crisis económica que afectó al país en la década de 2010, así como a la reducción de la producción de petróleo y gas. A medida que la economía de Rusia se recupera y la producción de petróleo y gas se expande nuevamente, podría haber un aumento en las emisiones de CO2. Por lo tanto, es fundamental que Rusia continúe implementando políticas y estrategias para reducir sus emisiones de gases de efecto invernadero y avanzar hacia una economía más limpia y sostenible."
   ]
  },
  {
   "cell_type": "code",
   "execution_count": 98,
   "id": "ac8a29ae-8661-498c-b4f1-3dd2cb61c7ae",
   "metadata": {},
   "outputs": [
    {
     "data": {
      "text/plain": [
       "Text(0, 0.5, 'Total')"
      ]
     },
     "execution_count": 98,
     "metadata": {},
     "output_type": "execute_result"
    },
    {
     "data": {
      "image/png": "[encoded data removed]",
      "text/plain": [
       "<Figure size 1500x500 with 1 Axes>"
      ]
     },
     "metadata": {},
     "output_type": "display_data"
    }
   ],
   "source": [
    "germany = df[df['Country']=='Germany']\n",
    "Germany_data = germany[-35:]\n",
    "plt.figure(figsize=(15,5))\n",
    "sns.barplot(x='Year',y='Total',data=Germany_data, color='navy')\n",
    "plt.title('Total de emisiones en Alemania por Año', fontsize=16)\n",
    "plt.xlabel('Año', fontsize=14)\n",
    "plt.ylabel('Total', fontsize=14)"
   ]
  },
  {
   "cell_type": "markdown",
   "id": "5cdbd81c-785c-4cb1-b02c-59bab2459b8e",
   "metadata": {},
   "source": [
    "***RESUMEN NUMERICO***\n",
    "\n",
    "Se puede observar que las emisiones de CO2 de Alemania han disminuido en los últimos años después de alcanzar su punto máximo en la década de 1990.\n",
    "\n",
    "Alemania es uno de los mayores emisores de CO2 de Europa debido a su dependencia del carbón y otros combustibles fósiles para la generación de energía y la producción industrial. Sin embargo, en los últimos años, Alemania ha realizado importantes inversiones en energía renovable, lo que ha llevado a una disminución de las emisiones de CO2.\n",
    "\n",
    "En particular, Alemania ha establecido objetivos ambiciosos para la transición energética, con el objetivo de obtener el 80% de su electricidad a partir de fuentes renovables para 2050. Además, Alemania ha implementado políticas para reducir el consumo de energía y mejorar la eficiencia energética en edificios y procesos industriales.\n",
    "\n",
    "Aunque la disminución reciente en las emisiones de CO2 de Alemania es alentadora, sigue siendo un importante emisor de gases de efecto invernadero y aún queda mucho por hacer para alcanzar sus objetivos climáticos. Además, la pandemia de COVID-19 también ha tenido un impacto en la reducción de las emisiones de CO2 de Alemania en 2020, y es importante que el país continúe trabajando en la transición energética y la reducción de emisiones en el futuro.\n",
    "\n",
    "\n",
    "\n",
    "\n"
   ]
  },
  {
   "cell_type": "code",
   "execution_count": 99,
   "id": "aaf1d3d5-0d77-46be-bf2a-fcb21e13a55f",
   "metadata": {},
   "outputs": [
    {
     "data": {
      "text/plain": [
       "Text(0, 0.5, 'Total')"
      ]
     },
     "execution_count": 99,
     "metadata": {},
     "output_type": "execute_result"
    },
    {
     "data": {
      "image/png": "[encoded data removed]",
      "text/plain": [
       "<Figure size 1500x500 with 1 Axes>"
      ]
     },
     "metadata": {},
     "output_type": "display_data"
    }
   ],
   "source": [
    "unitedKingdom = df[df['Country']=='United Kingdom']\n",
    "unitedKingdom_data = unitedKingdom[-35:]\n",
    "plt.figure(figsize=(15,5))\n",
    "sns.barplot(x='Year',y='Total',data=unitedKingdom_data, color='navy')\n",
    "plt.title('Total de emisiones en Reino unido por Año', fontsize=16)\n",
    "plt.xlabel('Año', fontsize=14)\n",
    "plt.ylabel('Total', fontsize=14)"
   ]
  },
  {
   "cell_type": "markdown",
   "id": "88c9f5eb-7e97-4451-8af1-c0063f90653c",
   "metadata": {},
   "source": [
    "Se puede observar que las emisiones de CO2 del Reino Unido han disminuido en los últimos años, alcanzando su punto más bajo en la década de 2020.\n",
    "\n",
    "El Reino Unido es uno de los líderes en la lucha contra el cambio climático y ha establecido objetivos ambiciosos para reducir sus emisiones de gases de efecto invernadero. En 2008, el Reino Unido aprobó la Ley de Cambio Climático, que estableció un objetivo legalmente vinculante para reducir las emisiones de gases de efecto invernadero en un 80% para 2050 en comparación con los niveles de 1990.\n",
    "\n",
    "Para lograr este objetivo, el Reino Unido ha implementado políticas y programas que han llevado a una disminución en las emisiones de CO2. Estos incluyen la inversión en energía renovable, la mejora de la eficiencia energética en edificios y procesos industriales, y la implementación de un impuesto sobre el carbono.\n",
    "\n",
    "Es importante destacar que la disminución reciente en las emisiones de CO2 del Reino Unido también ha sido influenciada por la pandemia de COVID-19, que ha llevado a una reducción temporal en la actividad económica y, por lo tanto, en las emisiones de gases de efecto invernadero.\n",
    "\n",
    "En general, el Reino Unido ha logrado importantes avances en la reducción de sus emisiones de CO2, pero aún queda mucho por hacer para alcanzar sus objetivos climáticos a largo plazo. Es fundamental que el país continúe implementando políticas y estrategias para reducir sus emisiones de gases de efecto invernadero y avanzar hacia una economía más limpia y sostenible."
   ]
  },
  {
   "cell_type": "markdown",
   "id": "baaaba85-3e14-4f0d-b453-694881b566c3",
   "metadata": {},
   "source": [
    "# GRAFICAS LINEALES"
   ]
  },
  {
   "cell_type": "markdown",
   "id": "b32aa9fe-0825-4c6d-8db8-caf4e912a5f6",
   "metadata": {},
   "source": [
    "# Comparación de paises por el total de sus emisiones de Co2"
   ]
  },
  {
   "cell_type": "markdown",
   "id": "5b91133a-2bdf-458d-ba9a-fd1cf7bbb365",
   "metadata": {},
   "source": [
    "***Guía de colores***\n",
    "\n",
    "Naranja: Estados Unidos\n",
    "\n",
    "Azul: China\n",
    "\n",
    "Russia: Verde \n",
    "\n",
    "Alemania: Rojo\n",
    "\n",
    "Reino Unido: Violeta"
   ]
  },
  {
   "cell_type": "code",
   "execution_count": 100,
   "id": "d7cf6574-f86f-4e8e-8ec2-4eb196b174db",
   "metadata": {},
   "outputs": [
    {
     "data": {
      "text/plain": [
       "<AxesSubplot:xlabel='Year', ylabel='Total'>"
      ]
     },
     "execution_count": 100,
     "metadata": {},
     "output_type": "execute_result"
    },
    {
     "data": {
      "image/png": "[encoded data removed]",
      "text/plain": [
       "<Figure size 640x480 with 1 Axes>"
      ]
     },
     "metadata": {},
     "output_type": "display_data"
    }
   ],
   "source": [
    "sns.lineplot(x='Year',y='Total',data=China_data)\n",
    "sns.lineplot(x='Year',y='Total',data=USA_data)\n",
    "sns.lineplot(x='Year',y='Total',data=Russia_data)\n",
    "sns.lineplot(x='Year',y='Total',data=Germany_data)\n",
    "sns.lineplot(x='Year',y='Total',data=unitedKingdom_data)\n",
    "\n",
    "\n"
   ]
  },
  {
   "cell_type": "markdown",
   "id": "a3860ad6-78a5-445a-bc67-3ebe2ed9c817",
   "metadata": {},
   "source": [
    "# Conclusión\n",
    "\n",
    "En el gráfico que se presento, se realiza una comparativa detallada entre los diferentes países en cuanto a sus emisiones de CO2. Se observa que China presenta una tendencia al alza en sus emisiones, mientras que Estados Unidos se mantiene en un mismo rango, con una ligera disminución, siendo el país que más emisiones de CO2 presenta. Por su parte, Rusia presenta una tendencia a la baja con un pico hacia el año 2020. Alemania y el Reino Unido presentan de manera similar sus emisiones, siendo menores en este último.\n",
    "\n",
    "En el año 2019, los países mencionados emitieron en millones de toneladas métricas (Mt) los siguientes valores de CO2:\n",
    "China: 10,175.38 Mt\n",
    "Estados Unidos: 5,416.01 Mt\n",
    "Alemania: 729.41 Mt\n",
    "Reino Unido: 354.45 Mt\n",
    "Rusia: 1,668.77 Mt\n",
    "\n",
    "Por lo tanto, en términos de emisiones absolutas de CO2, China y Estados Unidos son los mayores emisores, seguidos por Rusia, Alemania y el Reino Unido.\n",
    "\n",
    "Sin embargo, cuando se consideran las emisiones per cápita, es decir, las emisiones por persona, la clasificación es diferente. Según datos del Banco Mundial correspondientes a 2019, la emisión de CO2 per cápita en toneladas métricas (t) para los países mencionados fue la siguiente:\n",
    "China: 7.08 t\n",
    "Estados Unidos: 16.24 t\n",
    "Alemania: 8.69 t\n",
    "Reino Unido: 5.25 t\n",
    "Rusia: 11.54 t\n",
    "\n",
    "En términos de emisiones per cápita, Estados Unidos es el mayor emisor, seguido por Rusia, Alemania, China y el Reino Unido. Es importante tener en cuenta que, en general, los países con mayor desarrollo económico suelen presentar mayores emisiones per cápita.\n",
    "\n",
    "Cabe señalar que la emisión de CO2 no es el único factor relevante para evaluar la huella de carbono de un país o región, ya que existen otros gases de efecto invernadero y otros factores ambientales a considerar. Asimismo, es importante considerar el tamaño de la población y la economía de cada país."
   ]
  },
  {
   "cell_type": "markdown",
   "id": "bcb3d176-fade-443a-a390-d4ebe7b76e98",
   "metadata": {},
   "source": [
    "***Aqui debajo agregamos un grafico para tener los datos aun más detallados interactivamente***"
   ]
  },
  {
   "cell_type": "markdown",
   "id": "61be2cd2-9dc9-4edd-9c26-379b2d8de162",
   "metadata": {},
   "source": [
    "Importamos la libreria de plotly.express para realizar la misma"
   ]
  },
  {
   "cell_type": "code",
   "execution_count": 101,
   "id": "74413fbf-a392-4225-a892-0f3f5329e79e",
   "metadata": {},
   "outputs": [],
   "source": [
    "import plotly.express as px"
   ]
  },
  {
   "cell_type": "code",
   "execution_count": 102,
   "id": "dcf85dad-82d5-4f3c-a7c5-e883ad271732",
   "metadata": {},
   "outputs": [
    {
     "data": {
      "application/vnd.plotly.v1+json": {
       "config": {
        "plotlyServerURL": "https://plot.ly"
       },
       "data": [
        {
         "hovertemplate": "Country=Australia<br>Year=%{x}<br>Total=%{y}<extra></extra>",
         "legendgroup": "Australia",
         "marker": {
          "color": "#636efa",
          "symbol": "circle"
         },
         "mode": "markers",
         "name": "Australia",
         "showlegend": true,
         "type": "scattergl",
         "x": [
          1990,
          1991,
          1992,
          1993,
          1994,
          1995,
          1996,
          1997,
          1998,
          1999,
          2000,
          2001,
          2002,
          2003,
          2004,
          2005,
          2006,
          2007,
          2008,
          2009,
          2010,
          2011,
          2012,
          2013,
          2014,
          2015,
          2016,
          2017,
          2018,
          2019,
          2020,
          2021
         ],
         "xaxis": "x",
         "y": [
          278.154156,
          279.52851,
          284.525345,
          288.870537,
          293.696553,
          305.002996,
          311.886129,
          320.28263,
          334.075978,
          343.488633,
          349.635487,
          357.132367,
          361.54081,
          369.279512,
          382.82089,
          386.153533,
          392.384302,
          399.624803,
          404.233067,
          407.065015,
          405.10332,
          403.828773,
          406.15091,
          397.887458,
          393.952876,
          401.793062,
          411.264288,
          414.358312,
          416.283827,
          416.356588,
          399.922128,
          391.187411
         ],
         "yaxis": "y"
        },
        {
         "hovertemplate": "Country=Austria<br>Year=%{x}<br>Total=%{y}<extra></extra>",
         "legendgroup": "Austria",
         "marker": {
          "color": "#EF553B",
          "symbol": "circle"
         },
         "mode": "markers",
         "name": "Austria",
         "showlegend": true,
         "type": "scattergl",
         "x": [
          1990,
          1991,
          1992,
          1993,
          1994,
          1995,
          1996,
          1997,
          1998,
          1999,
          2000,
          2001,
          2002,
          2003,
          2004,
          2005,
          2006,
          2007,
          2008,
          2009,
          2010,
          2011,
          2012,
          2013,
          2014,
          2015,
          2016,
          2017,
          2018,
          2019,
          2020,
          2021
         ],
         "xaxis": "x",
         "y": [
          62.145248,
          65.743938,
          60.243908,
          60.67057,
          61.045756,
          64.023072,
          67.367013,
          67.263597,
          66.898315,
          65.651039,
          66.14978,
          70.149508,
          71.953612,
          77.460983,
          77.678295,
          79.078106,
          76.806465,
          74.10678,
          73.481909,
          67.298655,
          72.006411,
          69.893113,
          67.26591,
          67.759445,
          64.16,
          66.348823,
          67.210743,
          69.592825,
          66.55718,
          67.936185,
          62.037447,
          64.625588
         ],
         "yaxis": "y"
        },
        {
         "hovertemplate": "Country=Belarus<br>Year=%{x}<br>Total=%{y}<extra></extra>",
         "legendgroup": "Belarus",
         "marker": {
          "color": "#00cc96",
          "symbol": "circle"
         },
         "mode": "markers",
         "name": "Belarus",
         "showlegend": true,
         "type": "scattergl",
         "x": [
          1990,
          1991,
          1992,
          1993,
          1994,
          1995,
          1996,
          1997,
          1998,
          1999,
          2000,
          2001,
          2002,
          2003,
          2004,
          2005,
          2006,
          2007,
          2008,
          2009,
          2010,
          2011,
          2012,
          2013,
          2014,
          2015,
          2016,
          2017,
          2018,
          2019,
          2020,
          2021
         ],
         "xaxis": "x",
         "y": [
          108.345055,
          104.071656,
          93.482974,
          80.561815,
          67.879399,
          60.905642,
          61.734784,
          61.588415,
          60.073447,
          57.965507,
          54.905983,
          54.002981,
          53.844143,
          55.087987,
          58.253531,
          59.310285,
          61.743587,
          60.218141,
          62.836408,
          60.577745,
          62.44512,
          61.307589,
          62.545264,
          64.125556,
          63.648873,
          58.798911,
          58.134483,
          59.262285,
          62.094328,
          62.039493,
          58.592041,
          59.602457
         ],
         "yaxis": "y"
        },
        {
         "hovertemplate": "Country=Belgium<br>Year=%{x}<br>Total=%{y}<extra></extra>",
         "legendgroup": "Belgium",
         "marker": {
          "color": "#ab63fa",
          "symbol": "circle"
         },
         "mode": "markers",
         "name": "Belgium",
         "showlegend": true,
         "type": "scattergl",
         "x": [
          1990,
          1991,
          1992,
          1993,
          1994,
          1995,
          1996,
          1997,
          1998,
          1999,
          2000,
          2001,
          2002,
          2003,
          2004,
          2005,
          2006,
          2007,
          2008,
          2009,
          2010,
          2011,
          2012,
          2013,
          2014,
          2015,
          2016,
          2017,
          2018,
          2019,
          2020,
          2021
         ],
         "xaxis": "x",
         "y": [
          120.292644,
          123.362363,
          122.48807,
          121.422702,
          124.795264,
          125.933051,
          129.474969,
          123.983505,
          130.212392,
          124.704147,
          126.719535,
          126.063796,
          126.860502,
          128.24564,
          128.778889,
          125.636389,
          123.880438,
          120.477002,
          120.175599,
          107.732357,
          114.557864,
          105.020115,
          102.355635,
          102.666433,
          96.887002,
          101.061722,
          99.601625,
          99.126283,
          99.873631,
          99.432619,
          90.368008,
          95.722285
         ],
         "yaxis": "y"
        },
        {
         "hovertemplate": "Country=Brazil<br>Year=%{x}<br>Total=%{y}<extra></extra>",
         "legendgroup": "Brazil",
         "marker": {
          "color": "#FFA15A",
          "symbol": "circle"
         },
         "mode": "markers",
         "name": "Brazil",
         "showlegend": true,
         "type": "scattergl",
         "x": [
          1990,
          1991,
          1992,
          1993,
          1994,
          1995,
          1996,
          1997,
          1998,
          1999,
          2000,
          2001,
          2002,
          2003,
          2004,
          2005,
          2006,
          2007,
          2008,
          2009,
          2010,
          2011,
          2012,
          2013,
          2014,
          2015,
          2016,
          2017,
          2018,
          2019,
          2020,
          2021
         ],
         "xaxis": "x",
         "y": [
          218.658,
          229.394,
          233.601,
          244.306,
          254.002,
          268.678,
          289.311,
          306.949,
          317.359,
          327.256,
          340.183,
          346.166,
          347.765,
          344.645,
          361.434,
          364.371,
          368.871,
          390.573,
          412.638,
          389.775,
          440.269,
          462.58,
          498.309,
          532.418,
          557.901,
          529.353,
          492.748,
          497.412678,
          477.10213,
          475.104581,
          442.306003,
          488.88107
         ],
         "yaxis": "y"
        },
        {
         "hovertemplate": "Country=Bulgaria<br>Year=%{x}<br>Total=%{y}<extra></extra>",
         "legendgroup": "Bulgaria",
         "marker": {
          "color": "#19d3f3",
          "symbol": "circle"
         },
         "mode": "markers",
         "name": "Bulgaria",
         "showlegend": true,
         "type": "scattergl",
         "x": [
          1990,
          1991,
          1992,
          1993,
          1994,
          1995,
          1996,
          1997,
          1998,
          1999,
          2000,
          2001,
          2002,
          2003,
          2004,
          2005,
          2006,
          2007,
          2008,
          2009,
          2010,
          2011,
          2012,
          2013,
          2014,
          2015,
          2016,
          2017,
          2018,
          2019,
          2020,
          2021
         ],
         "xaxis": "x",
         "y": [
          76.699197,
          61.516959,
          57.366293,
          58.426648,
          56.40459,
          57.951033,
          58.501566,
          55.855871,
          53.174794,
          46.3789,
          45.464332,
          48.980165,
          46.155491,
          50.532395,
          49.583352,
          50.654402,
          51.891855,
          55.737583,
          54.076123,
          45.812407,
          47.858926,
          53.174763,
          48.338905,
          42.678602,
          45.266301,
          48.260534,
          45.48431,
          47.569757,
          43.616065,
          42.255765,
          36.967113,
          42.56021
         ],
         "yaxis": "y"
        },
        {
         "hovertemplate": "Country=Canada<br>Year=%{x}<br>Total=%{y}<extra></extra>",
         "legendgroup": "Canada",
         "marker": {
          "color": "#FF6692",
          "symbol": "circle"
         },
         "mode": "markers",
         "name": "Canada",
         "showlegend": true,
         "type": "scattergl",
         "x": [
          1990,
          1991,
          1992,
          1993,
          1994,
          1995,
          1996,
          1997,
          1998,
          1999,
          2000,
          2001,
          2002,
          2003,
          2004,
          2005,
          2006,
          2007,
          2008,
          2009,
          2010,
          2011,
          2012,
          2013,
          2014,
          2015,
          2016,
          2017,
          2018,
          2019,
          2020,
          2021
         ],
         "xaxis": "x",
         "y": [
          458.218336,
          449.95972,
          463.75864,
          464.311598,
          478.726314,
          491.386794,
          507.510733,
          521.839964,
          529.649543,
          544.06378,
          566.690447,
          558.777507,
          564.050931,
          581.30532,
          579.592044,
          574.653628,
          568.450936,
          593.515764,
          576.558336,
          543.96759,
          556.560518,
          567.054133,
          568.223147,
          572.613311,
          569.839687,
          574.29819,
          560.525313,
          571.544619,
          584.369116,
          584.714184,
          534.863824,
          545.634517
         ],
         "yaxis": "y"
        },
        {
         "hovertemplate": "Country=China<br>Year=%{x}<br>Total=%{y}<extra></extra>",
         "legendgroup": "China",
         "marker": {
          "color": "#B6E880",
          "symbol": "circle"
         },
         "mode": "markers",
         "name": "China",
         "showlegend": true,
         "type": "scattergl",
         "x": [
          1960,
          1961,
          1962,
          1963,
          1964,
          1965,
          1966,
          1967,
          1968,
          1969,
          1970,
          1971,
          1972,
          1973,
          1974,
          1975,
          1976,
          1977,
          1978,
          1979,
          1980,
          1981,
          1982,
          1983,
          1984,
          1985,
          1986,
          1987,
          1988,
          1989,
          1990,
          1991,
          1992,
          1993,
          1994,
          1995,
          1996,
          1997,
          1998,
          1999,
          2000,
          2001,
          2002,
          2003,
          2004,
          2005,
          2006,
          2007,
          2008,
          2009,
          2010,
          2011,
          2012,
          2013,
          2014,
          2015,
          2016,
          2017,
          2018,
          2019,
          2020,
          2021
         ],
         "xaxis": "x",
         "y": [
          798.799921,
          570.630187,
          459.618074,
          456.779449,
          460.637094,
          500.286364,
          549.459318,
          460.225895,
          495.506566,
          607.683366,
          807.952627,
          909.2097,
          968.645596,
          1008.292576,
          1028.099867,
          1183.214956,
          1226.421277,
          1340.831115,
          1492.777845,
          1525.661148,
          1494.495884,
          1476.487854,
          1606.585013,
          1694.216811,
          1844.828012,
          1998.082904,
          2104.213354,
          2257.738539,
          2425.893553,
          2463.654367,
          2484.85482,
          2606.096182,
          2730.787587,
          2921.650956,
          3100.002045,
          3357.908888,
          3503.233703,
          3510.169286,
          3360.455433,
          3552.842067,
          3644.464203,
          3723.730766,
          4112.459057,
          4827.445998,
          5223.754656,
          5876.55534,
          6488.803816,
          6978.611952,
          7496.832207,
          7886.532768,
          8616.652695,
          9528.555734,
          9779.281618,
          9956.308273,
          9998.621253,
          9866.904318,
          9764.979745,
          10011.107108,
          10353.876989,
          10740.996069,
          10956.213369,
          11472.369171
         ],
         "yaxis": "y"
        },
        {
         "hovertemplate": "Country=Croatia<br>Year=%{x}<br>Total=%{y}<extra></extra>",
         "legendgroup": "Croatia",
         "marker": {
          "color": "#FF97FF",
          "symbol": "circle"
         },
         "mode": "markers",
         "name": "Croatia",
         "showlegend": true,
         "type": "scattergl",
         "x": [
          1990,
          1991,
          1992,
          1993,
          1994,
          1995,
          1996,
          1997,
          1998,
          1999,
          2000,
          2001,
          2002,
          2003,
          2004,
          2005,
          2006,
          2007,
          2008,
          2009,
          2010,
          2011,
          2012,
          2013,
          2014,
          2015,
          2016,
          2017,
          2018,
          2019,
          2020,
          2021
         ],
         "xaxis": "x",
         "y": [
          22.979789,
          16.987509,
          16.372593,
          16.80918,
          16.054021,
          16.817667,
          17.34487,
          18.558618,
          19.013422,
          20.024746,
          19.662487,
          20.785304,
          21.88946,
          23.215261,
          22.887891,
          23.343921,
          23.549946,
          24.862861,
          23.594994,
          21.804455,
          21.016283,
          20.649618,
          19.087403,
          18.432191,
          17.681566,
          17.824705,
          18.109014,
          18.743995,
          17.724152,
          17.857446,
          16.870528,
          17.701451
         ],
         "yaxis": "y"
        },
        {
         "hovertemplate": "Country=Cyprus<br>Year=%{x}<br>Total=%{y}<extra></extra>",
         "legendgroup": "Cyprus",
         "marker": {
          "color": "#FECB52",
          "symbol": "circle"
         },
         "mode": "markers",
         "name": "Cyprus",
         "showlegend": true,
         "type": "scattergl",
         "x": [
          1990,
          1991,
          1992,
          1993,
          1994,
          1995,
          1996,
          1997,
          1998,
          1999,
          2000,
          2001,
          2002,
          2003,
          2004,
          2005,
          2006,
          2007,
          2008,
          2009,
          2010,
          2011,
          2012,
          2013,
          2014,
          2015,
          2016,
          2017,
          2018,
          2019,
          2020,
          2021
         ],
         "xaxis": "x",
         "y": [
          4.653217,
          5.142773,
          5.517491,
          5.760916,
          6.002476,
          5.874107,
          6.224288,
          6.31209,
          6.609144,
          6.875935,
          7.122416,
          6.996583,
          7.185924,
          7.576801,
          7.803428,
          7.957711,
          8.185408,
          8.504782,
          8.717247,
          8.471739,
          8.102698,
          7.789403,
          7.264032,
          6.583978,
          6.952145,
          6.972964,
          7.375415,
          7.525365,
          7.342546,
          7.343176,
          7.269578,
          7.600422
         ],
         "yaxis": "y"
        },
        {
         "hovertemplate": "Country=Czech Republic<br>Year=%{x}<br>Total=%{y}<extra></extra>",
         "legendgroup": "Czech Republic",
         "marker": {
          "color": "#636efa",
          "symbol": "circle"
         },
         "mode": "markers",
         "name": "Czech Republic",
         "showlegend": true,
         "type": "scattergl",
         "x": [
          1990,
          1991,
          1992,
          1993,
          1994,
          1995,
          1996,
          1997,
          1998,
          1999,
          2000,
          2001,
          2002,
          2003,
          2004,
          2005,
          2006,
          2007,
          2008,
          2009,
          2010,
          2011,
          2012,
          2013,
          2014,
          2015,
          2016,
          2017,
          2018,
          2019,
          2020,
          2021
         ],
         "xaxis": "x",
         "y": [
          164.210748,
          148.879301,
          145.710611,
          140.129093,
          132.673276,
          131.627143,
          135.004354,
          130.834167,
          125.427259,
          116.569943,
          127.155962,
          127.030014,
          123.94689,
          127.478649,
          128.247534,
          125.688561,
          126.566097,
          128.369906,
          122.912256,
          115.013223,
          117.482148,
          115.185836,
          111.280674,
          106.711393,
          104.228848,
          104.995655,
          106.655719,
          107.747749,
          106.337972,
          101.012964,
          91.853879,
          97.138329
         ],
         "yaxis": "y"
        },
        {
         "hovertemplate": "Country=Denmark<br>Year=%{x}<br>Total=%{y}<extra></extra>",
         "legendgroup": "Denmark",
         "marker": {
          "color": "#EF553B",
          "symbol": "circle"
         },
         "mode": "markers",
         "name": "Denmark",
         "showlegend": true,
         "type": "scattergl",
         "x": [
          1990,
          1991,
          1992,
          1993,
          1994,
          1995,
          1996,
          1997,
          1998,
          1999,
          2000,
          2001,
          2002,
          2003,
          2004,
          2005,
          2006,
          2007,
          2008,
          2009,
          2010,
          2011,
          2012,
          2013,
          2014,
          2015,
          2016,
          2017,
          2018,
          2019,
          2020,
          2021
         ],
         "xaxis": "x",
         "y": [
          53.584858,
          64.200048,
          58.390817,
          60.637233,
          64.69811,
          61.614373,
          74.868583,
          65.468792,
          61.237958,
          58.652424,
          54.306122,
          55.896359,
          55.553625,
          60.645144,
          55.099645,
          51.534638,
          59.487502,
          54.709152,
          51.256206,
          48.851236,
          49.203676,
          44.248111,
          39.870932,
          41.772984,
          37.577747,
          35.227979,
          37.033259,
          34.78027,
          34.724976,
          30.955444,
          28.282029,
          29.576956
         ],
         "yaxis": "y"
        },
        {
         "hovertemplate": "Country=Estonia<br>Year=%{x}<br>Total=%{y}<extra></extra>",
         "legendgroup": "Estonia",
         "marker": {
          "color": "#00cc96",
          "symbol": "circle"
         },
         "mode": "markers",
         "name": "Estonia",
         "showlegend": true,
         "type": "scattergl",
         "x": [
          1990,
          1991,
          1992,
          1993,
          1994,
          1995,
          1996,
          1997,
          1998,
          1999,
          2000,
          2001,
          2002,
          2003,
          2004,
          2005,
          2006,
          2007,
          2008,
          2009,
          2010,
          2011,
          2012,
          2013,
          2014,
          2015,
          2016,
          2017,
          2018,
          2019,
          2020,
          2021
         ],
         "xaxis": "x",
         "y": [
          36.922213,
          34.138629,
          24.422898,
          19.439861,
          20.046154,
          18.066413,
          19.042308,
          18.684563,
          16.94219,
          15.955205,
          15.500382,
          15.900311,
          15.383117,
          17.278976,
          17.342298,
          17.109785,
          16.454333,
          19.966375,
          17.890232,
          14.440645,
          19.002517,
          18.984222,
          17.794827,
          19.697905,
          18.860397,
          15.8469,
          17.559353,
          18.762487,
          17.935074,
          12.38019,
          9.34301,
          10.449021
         ],
         "yaxis": "y"
        },
        {
         "hovertemplate": "Country=Finland<br>Year=%{x}<br>Total=%{y}<extra></extra>",
         "legendgroup": "Finland",
         "marker": {
          "color": "#ab63fa",
          "symbol": "circle"
         },
         "mode": "markers",
         "name": "Finland",
         "showlegend": true,
         "type": "scattergl",
         "x": [
          1990,
          1991,
          1992,
          1993,
          1994,
          1995,
          1996,
          1997,
          1998,
          1999,
          2000,
          2001,
          2002,
          2003,
          2004,
          2005,
          2006,
          2007,
          2008,
          2009,
          2010,
          2011,
          2012,
          2013,
          2014,
          2015,
          2016,
          2017,
          2018,
          2019,
          2020,
          2021
         ],
         "xaxis": "x",
         "y": [
          56.914337,
          55.18876,
          54.265059,
          56.313366,
          61.732669,
          58.115518,
          64.033059,
          62.696172,
          59.351464,
          58.866897,
          57.009923,
          62.513736,
          65.04097,
          72.654324,
          68.939111,
          57.047316,
          68.37069,
          66.759835,
          58.620999,
          55.905073,
          64.080758,
          56.637171,
          51.145686,
          51.703752,
          47.595831,
          44.099095,
          47.181861,
          44.577796,
          45.796461,
          42.381841,
          37.595927,
          37.602328
         ],
         "yaxis": "y"
        },
        {
         "hovertemplate": "Country=France<br>Year=%{x}<br>Total=%{y}<extra></extra>",
         "legendgroup": "France",
         "marker": {
          "color": "#FFA15A",
          "symbol": "circle"
         },
         "mode": "markers",
         "name": "France",
         "showlegend": true,
         "type": "scattergl",
         "x": [
          1990,
          1991,
          1992,
          1993,
          1994,
          1995,
          1996,
          1997,
          1998,
          1999,
          2000,
          2001,
          2002,
          2003,
          2004,
          2005,
          2006,
          2007,
          2008,
          2009,
          2010,
          2011,
          2012,
          2013,
          2014,
          2015,
          2016,
          2017,
          2018,
          2019,
          2020,
          2021
         ],
         "xaxis": "x",
         "y": [
          393.422903,
          418.367114,
          406.64833,
          388.080145,
          381.908894,
          386.261878,
          401.373092,
          393.94516,
          413.634368,
          412.183132,
          406.828906,
          411.613943,
          407.790504,
          412.534615,
          413.779944,
          416.165831,
          406.462363,
          396.660526,
          390.777557,
          371.045218,
          376.645427,
          354.602482,
          356.912578,
          358.623337,
          327.107281,
          331.579994,
          334.43978,
          337.457549,
          322.526821,
          316.386776,
          280.031523,
          305.96371
         ],
         "yaxis": "y"
        },
        {
         "hovertemplate": "Country=Germany<br>Year=%{x}<br>Total=%{y}<extra></extra>",
         "legendgroup": "Germany",
         "marker": {
          "color": "#19d3f3",
          "symbol": "circle"
         },
         "mode": "markers",
         "name": "Germany",
         "showlegend": true,
         "type": "scattergl",
         "x": [
          1990,
          1991,
          1992,
          1993,
          1994,
          1995,
          1996,
          1997,
          1998,
          1999,
          2000,
          2001,
          2002,
          2003,
          2004,
          2005,
          2006,
          2007,
          2008,
          2009,
          2010,
          2011,
          2012,
          2013,
          2014,
          2015,
          2016,
          2017,
          2018,
          2019,
          2020,
          2021
         ],
         "xaxis": "x",
         "y": [
          1051.979103,
          1013.824095,
          965.541817,
          955.819934,
          939.492314,
          938.613565,
          958.700377,
          930.870087,
          922.812222,
          895.352121,
          899.351824,
          916.144477,
          899.449765,
          900.627666,
          886.637162,
          866.30277,
          877.938802,
          851.222968,
          854.508174,
          789.89998,
          832.540983,
          808.911525,
          813.693048,
          831.207653,
          792.255427,
          795.55657,
          800.339834,
          785.616471,
          754.408432,
          707.149948,
          639.381013,
          674.753566
         ],
         "yaxis": "y"
        },
        {
         "hovertemplate": "Country=Greece<br>Year=%{x}<br>Total=%{y}<extra></extra>",
         "legendgroup": "Greece",
         "marker": {
          "color": "#FF6692",
          "symbol": "circle"
         },
         "mode": "markers",
         "name": "Greece",
         "showlegend": true,
         "type": "scattergl",
         "x": [
          1990,
          1991,
          1992,
          1993,
          1994,
          1995,
          1996,
          1997,
          1998,
          1999,
          2000,
          2001,
          2002,
          2003,
          2004,
          2005,
          2006,
          2007,
          2008,
          2009,
          2010,
          2011,
          2012,
          2013,
          2014,
          2015,
          2016,
          2017,
          2018,
          2019,
          2020,
          2021
         ],
         "xaxis": "x",
         "y": [
          83.43804,
          83.407498,
          84.975654,
          84.284958,
          86.430258,
          86.963204,
          89.114955,
          93.801558,
          98.621793,
          97.934815,
          102.973167,
          105.361862,
          105.00051,
          109.066728,
          109.485277,
          113.888965,
          112.419545,
          114.545692,
          111.080374,
          104.319843,
          97.35415,
          94.505232,
          91.392589,
          81.71326,
          78.639618,
          74.927631,
          71.364164,
          74.84505,
          71.78199,
          65.756232,
          55.610277,
          56.309279
         ],
         "yaxis": "y"
        },
        {
         "hovertemplate": "Country=Hungary<br>Year=%{x}<br>Total=%{y}<extra></extra>",
         "legendgroup": "Hungary",
         "marker": {
          "color": "#B6E880",
          "symbol": "circle"
         },
         "mode": "markers",
         "name": "Hungary",
         "showlegend": true,
         "type": "scattergl",
         "x": [
          1990,
          1991,
          1992,
          1993,
          1994,
          1995,
          1996,
          1997,
          1998,
          1999,
          2000,
          2001,
          2002,
          2003,
          2004,
          2005,
          2006,
          2007,
          2008,
          2009,
          2010,
          2011,
          2012,
          2013,
          2014,
          2015,
          2016,
          2017,
          2018,
          2019,
          2020,
          2021
         ],
         "xaxis": "x",
         "y": [
          73.225536,
          69.656248,
          62.084832,
          63.389271,
          61.786556,
          61.391314,
          63.024782,
          61.623559,
          61.163666,
          61.663743,
          58.365151,
          59.968212,
          59.004707,
          61.756177,
          60.129554,
          60.276272,
          59.633211,
          58.553668,
          57.248107,
          51.464055,
          52.068732,
          50.191329,
          46.757481,
          43.611553,
          43.729844,
          46.65347,
          47.113086,
          49.515229,
          49.463319,
          49.234646,
          47.284497,
          48.454619
         ],
         "yaxis": "y"
        },
        {
         "hovertemplate": "Country=Iceland<br>Year=%{x}<br>Total=%{y}<extra></extra>",
         "legendgroup": "Iceland",
         "marker": {
          "color": "#FF97FF",
          "symbol": "circle"
         },
         "mode": "markers",
         "name": "Iceland",
         "showlegend": true,
         "type": "scattergl",
         "x": [
          1990,
          1991,
          1992,
          1993,
          1994,
          1995,
          1996,
          1997,
          1998,
          1999,
          2000,
          2001,
          2002,
          2003,
          2004,
          2005,
          2006,
          2007,
          2008,
          2009,
          2010,
          2011,
          2012,
          2013,
          2014,
          2015,
          2016,
          2017,
          2018,
          2019,
          2020
         ],
         "xaxis": "x",
         "y": [
          2.215856,
          2.096309,
          2.242604,
          2.393481,
          2.342135,
          2.459567,
          2.513641,
          2.60959,
          2.628704,
          2.831173,
          2.923141,
          2.855336,
          2.982484,
          2.976171,
          3.100137,
          2.968443,
          3.144668,
          3.483689,
          3.801137,
          3.719715,
          3.616621,
          3.494164,
          3.49087,
          3.48008,
          3.436352,
          3.533853,
          3.485184,
          3.60162,
          3.658953,
          3.546263,
          3.328876
         ],
         "yaxis": "y"
        },
        {
         "hovertemplate": "Country=Ireland<br>Year=%{x}<br>Total=%{y}<extra></extra>",
         "legendgroup": "Ireland",
         "marker": {
          "color": "#FECB52",
          "symbol": "circle"
         },
         "mode": "markers",
         "name": "Ireland",
         "showlegend": true,
         "type": "scattergl",
         "x": [
          1990,
          1991,
          1992,
          1993,
          1994,
          1995,
          1996,
          1997,
          1998,
          1999,
          2000,
          2001,
          2002,
          2003,
          2004,
          2005,
          2006,
          2007,
          2008,
          2009,
          2010,
          2011,
          2012,
          2013,
          2014,
          2015,
          2016,
          2017,
          2018,
          2019,
          2020,
          2021
         ],
         "xaxis": "x",
         "y": [
          32.94442,
          33.674307,
          33.495315,
          33.716364,
          34.838447,
          35.852987,
          37.46927,
          38.804985,
          40.708971,
          42.440183,
          45.249116,
          47.607612,
          46.081589,
          45.684109,
          46.166785,
          48.156597,
          47.604659,
          47.664334,
          47.363258,
          42.179308,
          41.793616,
          38.056383,
          38.227157,
          37.28175,
          36.853014,
          38.71804,
          40.369543,
          39.078033,
          39.012368,
          37.325663,
          35.153202,
          37.540329
         ],
         "yaxis": "y"
        },
        {
         "hovertemplate": "Country=Italy<br>Year=%{x}<br>Total=%{y}<extra></extra>",
         "legendgroup": "Italy",
         "marker": {
          "color": "#636efa",
          "symbol": "circle"
         },
         "mode": "markers",
         "name": "Italy",
         "showlegend": true,
         "type": "scattergl",
         "x": [
          1990,
          1991,
          1992,
          1993,
          1994,
          1995,
          1996,
          1997,
          1998,
          1999,
          2000,
          2001,
          2002,
          2003,
          2004,
          2005,
          2006,
          2007,
          2008,
          2009,
          2010,
          2011,
          2012,
          2013,
          2014,
          2015,
          2016,
          2017,
          2018,
          2019,
          2020,
          2021
         ],
         "xaxis": "x",
         "y": [
          439.54984,
          439.094125,
          439.31532,
          431.604813,
          425.796827,
          449.826113,
          444.029375,
          449.754151,
          461.945962,
          466.424936,
          470.487187,
          470.568081,
          477.998974,
          495.96164,
          501.563232,
          502.255442,
          496.846732,
          490.566288,
          478.868679,
          424.694439,
          436.117437,
          424.25627,
          403.696912,
          369.67972,
          349.390357,
          361.163177,
          358.182542,
          352.735387,
          349.005042,
          339.233207,
          302.2786,
          328.68732
         ],
         "yaxis": "y"
        },
        {
         "hovertemplate": "Country=Japan<br>Year=%{x}<br>Total=%{y}<extra></extra>",
         "legendgroup": "Japan",
         "marker": {
          "color": "#EF553B",
          "symbol": "circle"
         },
         "mode": "markers",
         "name": "Japan",
         "showlegend": true,
         "type": "scattergl",
         "x": [
          1990,
          1991,
          1992,
          1993,
          1994,
          1995,
          1996,
          1997,
          1998,
          1999,
          2000,
          2001,
          2002,
          2003,
          2004,
          2005,
          2006,
          2007,
          2008,
          2009,
          2010,
          2011,
          2012,
          2013,
          2014,
          2015,
          2016,
          2017,
          2018,
          2019,
          2020,
          2021
         ],
         "xaxis": "x",
         "y": [
          1158.129439,
          1169.777716,
          1179.504316,
          1172.487308,
          1227.513532,
          1239.9094,
          1252.447045,
          1245.13936,
          1205.249923,
          1241.835604,
          1264.594656,
          1249.988539,
          1279.3623,
          1287.691834,
          1283.076662,
          1290.599508,
          1267.623958,
          1303.36203,
          1232.480695,
          1163.375134,
          1215.058103,
          1265.034863,
          1306.182513,
          1315.5687,
          1264.413251,
          1223.605161,
          1203.888206,
          1188.358949,
          1143.411908,
          1106.015486,
          1042.224016,
          1067.398435
         ],
         "yaxis": "y"
        },
        {
         "hovertemplate": "Country=Kazakhstan<br>Year=%{x}<br>Total=%{y}<extra></extra>",
         "legendgroup": "Kazakhstan",
         "marker": {
          "color": "#00cc96",
          "symbol": "circle"
         },
         "mode": "markers",
         "name": "Kazakhstan",
         "showlegend": true,
         "type": "scattergl",
         "x": [
          1990,
          1991,
          1992,
          1993,
          1994,
          1995,
          1996,
          1997,
          1998,
          1999,
          2000,
          2001,
          2002,
          2003,
          2004,
          2005,
          2006,
          2007,
          2008,
          2009,
          2010,
          2011,
          2012,
          2013,
          2014,
          2015,
          2016,
          2017,
          2018,
          2019,
          2020,
          2021
         ],
         "xaxis": "x",
         "y": [
          278.781769,
          269.489798,
          245.215827,
          217.963803,
          184.332707,
          177.082247,
          162.760497,
          154.166198,
          148.818172,
          123.721703,
          147.473712,
          142.295087,
          159.971295,
          177.823927,
          187.304225,
          200.43793,
          220.048086,
          226.128841,
          227.121447,
          221.057174,
          246.982754,
          237.033962,
          243.921902,
          251.452709,
          297.643502,
          301.273154,
          304.839535,
          320.791449,
          331.8207,
          297.569458,
          278.404593,
          276.68346
         ],
         "yaxis": "y"
        },
        {
         "hovertemplate": "Country=Latvia<br>Year=%{x}<br>Total=%{y}<extra></extra>",
         "legendgroup": "Latvia",
         "marker": {
          "color": "#ab63fa",
          "symbol": "circle"
         },
         "mode": "markers",
         "name": "Latvia",
         "showlegend": true,
         "type": "scattergl",
         "x": [
          1990,
          1991,
          1992,
          1993,
          1994,
          1995,
          1996,
          1997,
          1998,
          1999,
          2000,
          2001,
          2002,
          2003,
          2004,
          2005,
          2006,
          2007,
          2008,
          2009,
          2010,
          2011,
          2012,
          2013,
          2014,
          2015,
          2016,
          2017,
          2018,
          2019,
          2020,
          2021
         ],
         "xaxis": "x",
         "y": [
          19.661396,
          17.919401,
          14.193356,
          11.921497,
          10.370008,
          9.133782,
          9.211501,
          8.679764,
          8.305879,
          7.717713,
          7.081469,
          7.496323,
          7.520245,
          7.725858,
          7.730934,
          7.810471,
          8.309829,
          8.637101,
          8.197894,
          7.456006,
          8.554094,
          7.810795,
          7.51941,
          7.368437,
          7.171961,
          7.262099,
          7.210325,
          7.214946,
          7.859363,
          7.648673,
          6.994113,
          7.266214
         ],
         "yaxis": "y"
        },
        {
         "hovertemplate": "Country=Liechtenstein<br>Year=%{x}<br>Total=%{y}<extra></extra>",
         "legendgroup": "Liechtenstein",
         "marker": {
          "color": "#FFA15A",
          "symbol": "circle"
         },
         "mode": "markers",
         "name": "Liechtenstein",
         "showlegend": true,
         "type": "scattergl",
         "x": [
          1990,
          1991,
          1992,
          1993,
          1994,
          1995,
          1996,
          1997,
          1998,
          1999,
          2000,
          2001,
          2002,
          2003,
          2004,
          2005,
          2006,
          2007,
          2008,
          2009,
          2010,
          2011,
          2012,
          2013,
          2014,
          2015,
          2016,
          2017,
          2018,
          2019,
          2020,
          2021
         ],
         "xaxis": "x",
         "y": [
          0.198971,
          0.206329,
          0.20695,
          0.215034,
          0.201111,
          0.204202,
          0.20596,
          0.218376,
          0.229239,
          0.226566,
          0.21686,
          0.214671,
          0.220018,
          0.229355,
          0.229391,
          0.228986,
          0.231121,
          0.200794,
          0.219536,
          0.205375,
          0.19083,
          0.176782,
          0.185325,
          0.192545,
          0.161259,
          0.159774,
          0.149838,
          0.155769,
          0.14295,
          0.149026,
          0.141996,
          0.15095
         ],
         "yaxis": "y"
        },
        {
         "hovertemplate": "Country=Lithuania<br>Year=%{x}<br>Total=%{y}<extra></extra>",
         "legendgroup": "Lithuania",
         "marker": {
          "color": "#19d3f3",
          "symbol": "circle"
         },
         "mode": "markers",
         "name": "Lithuania",
         "showlegend": true,
         "type": "scattergl",
         "x": [
          1990,
          1991,
          1992,
          1993,
          1994,
          1995,
          1996,
          1997,
          1998,
          1999,
          2000,
          2001,
          2002,
          2003,
          2004,
          2005,
          2006,
          2007,
          2008,
          2009,
          2010,
          2011,
          2012,
          2013,
          2014,
          2015,
          2016,
          2017,
          2018,
          2019,
          2020,
          2021
         ],
         "xaxis": "x",
         "y": [
          35.767734,
          37.849997,
          21.201457,
          16.353746,
          15.801144,
          15.091554,
          15.773444,
          15.196349,
          16.030578,
          13.482975,
          11.8764,
          12.627074,
          12.69916,
          12.692601,
          13.287306,
          14.117414,
          14.434081,
          15.824054,
          15.20423,
          13.043233,
          13.946613,
          14.292825,
          14.349487,
          13.355973,
          13.108084,
          13.319679,
          13.351177,
          13.571834,
          13.691349,
          13.923306,
          13.653155,
          13.880837
         ],
         "yaxis": "y"
        },
        {
         "hovertemplate": "Country=Luxembourg<br>Year=%{x}<br>Total=%{y}<extra></extra>",
         "legendgroup": "Luxembourg",
         "marker": {
          "color": "#FF6692",
          "symbol": "circle"
         },
         "mode": "markers",
         "name": "Luxembourg",
         "showlegend": true,
         "type": "scattergl",
         "x": [
          1990,
          1991,
          1992,
          1993,
          1994,
          1995,
          1996,
          1997,
          1998,
          1999,
          2000,
          2001,
          2002,
          2003,
          2004,
          2005,
          2006,
          2007,
          2008,
          2009,
          2010,
          2011,
          2012,
          2013,
          2014,
          2015,
          2016,
          2017,
          2018,
          2019,
          2020,
          2021
         ],
         "xaxis": "x",
         "y": [
          11.823353,
          12.443151,
          12.209723,
          12.354764,
          11.542475,
          9.151729,
          9.201614,
          8.55397,
          7.675949,
          8.127875,
          8.709963,
          9.207531,
          9.983685,
          10.45917,
          11.829091,
          12.087836,
          11.920357,
          11.31778,
          11.184473,
          10.638966,
          11.202164,
          11.102959,
          10.867476,
          10.325364,
          9.828191,
          9.347466,
          9.089235,
          9.261198,
          9.566671,
          9.751728,
          8.096513,
          8.354555
         ],
         "yaxis": "y"
        },
        {
         "hovertemplate": "Country=Malta<br>Year=%{x}<br>Total=%{y}<extra></extra>",
         "legendgroup": "Malta",
         "marker": {
          "color": "#B6E880",
          "symbol": "circle"
         },
         "mode": "markers",
         "name": "Malta",
         "showlegend": true,
         "type": "scattergl",
         "x": [
          1990,
          1991,
          1992,
          1993,
          1994,
          1995,
          1996,
          1997,
          1998,
          1999,
          2000,
          2001,
          2002,
          2003,
          2004,
          2005,
          2006,
          2007,
          2008,
          2009,
          2010,
          2011,
          2012,
          2013,
          2014,
          2015,
          2016,
          2017,
          2018,
          2019,
          2020,
          2021
         ],
         "xaxis": "x",
         "y": [
          2.394194,
          2.238107,
          2.29208,
          2.870399,
          2.647929,
          2.43942,
          2.550535,
          2.556728,
          2.513582,
          2.591822,
          2.507257,
          2.647718,
          2.687784,
          2.960534,
          2.819964,
          2.644672,
          2.661658,
          2.731301,
          2.739894,
          2.527633,
          2.589131,
          2.577198,
          2.726207,
          2.37919,
          2.364387,
          1.665291,
          1.356353,
          1.530878,
          1.546948,
          1.649193,
          1.599576,
          1.724154
         ],
         "yaxis": "y"
        },
        {
         "hovertemplate": "Country=Netherlands<br>Year=%{x}<br>Total=%{y}<extra></extra>",
         "legendgroup": "Netherlands",
         "marker": {
          "color": "#FF97FF",
          "symbol": "circle"
         },
         "mode": "markers",
         "name": "Netherlands",
         "showlegend": true,
         "type": "scattergl",
         "x": [
          1990,
          1991,
          1992,
          1993,
          1994,
          1995,
          1996,
          1997,
          1998,
          1999,
          2000,
          2001,
          2002,
          2003,
          2004,
          2005,
          2006,
          2007,
          2008,
          2009,
          2010,
          2011,
          2012,
          2013,
          2014,
          2015,
          2016,
          2017,
          2018,
          2019,
          2020,
          2021
         ],
         "xaxis": "x",
         "y": [
          161.806917,
          170.227322,
          170.015192,
          170.206051,
          170.787558,
          172.300139,
          181.452353,
          174.492784,
          175.461134,
          169.934487,
          171.08223,
          176.207519,
          175.567735,
          179.005305,
          180.891772,
          176.91731,
          172.092066,
          171.874012,
          174.853119,
          169.529326,
          181.526727,
          168.25966,
          164.688781,
          164.674489,
          157.655585,
          164.142511,
          164.862023,
          162.493965,
          158.62784,
          153.032807,
          137.849518,
          141.045431
         ],
         "yaxis": "y"
        },
        {
         "hovertemplate": "Country=New Zealand<br>Year=%{x}<br>Total=%{y}<extra></extra>",
         "legendgroup": "New Zealand",
         "marker": {
          "color": "#FECB52",
          "symbol": "circle"
         },
         "mode": "markers",
         "name": "New Zealand",
         "showlegend": true,
         "type": "scattergl",
         "x": [
          1990,
          1991,
          1992,
          1993,
          1994,
          1995,
          1996,
          1997,
          1998,
          1999,
          2000,
          2001,
          2002,
          2003,
          2004,
          2005,
          2006,
          2007,
          2008,
          2009,
          2010,
          2011,
          2012,
          2013,
          2014,
          2015,
          2016,
          2017,
          2018,
          2019,
          2020,
          2021
         ],
         "xaxis": "x",
         "y": [
          25.502507,
          26.182595,
          28.166921,
          27.761185,
          27.900043,
          28.003492,
          29.304544,
          31.278675,
          29.85854,
          31.46559,
          32.246009,
          34.379213,
          34.542293,
          36.241474,
          35.836298,
          37.42407,
          37.33016,
          36.410664,
          37.509257,
          34.620669,
          34.811084,
          34.265851,
          35.94509,
          35.241004,
          35.438926,
          35.813107,
          34.152639,
          35.688127,
          35.704539,
          37.121034,
          34.456753,
          33.789825
         ],
         "yaxis": "y"
        },
        {
         "hovertemplate": "Country=Norway<br>Year=%{x}<br>Total=%{y}<extra></extra>",
         "legendgroup": "Norway",
         "marker": {
          "color": "#636efa",
          "symbol": "circle"
         },
         "mode": "markers",
         "name": "Norway",
         "showlegend": true,
         "type": "scattergl",
         "x": [
          1990,
          1991,
          1992,
          1993,
          1994,
          1995,
          1996,
          1997,
          1998,
          1999,
          2000,
          2001,
          2002,
          2003,
          2004,
          2005,
          2006,
          2007,
          2008,
          2009,
          2010,
          2011,
          2012,
          2013,
          2014,
          2015,
          2016,
          2017,
          2018,
          2019,
          2020,
          2021
         ],
         "xaxis": "x",
         "y": [
          35.097,
          33.535,
          34.455,
          36,
          37.905,
          38.508,
          41.572,
          41.734,
          41.871,
          42.636,
          42.147,
          43.526,
          42.592,
          43.98,
          44.307,
          43.342,
          43.926,
          45.666,
          44.795,
          43.225,
          45.691,
          44.791,
          44.3,
          44.586,
          45.046,
          45.59,
          44.765,
          44.242,
          44.393,
          42.784,
          41.196,
          40.918553
         ],
         "yaxis": "y"
        },
        {
         "hovertemplate": "Country=Poland<br>Year=%{x}<br>Total=%{y}<extra></extra>",
         "legendgroup": "Poland",
         "marker": {
          "color": "#EF553B",
          "symbol": "circle"
         },
         "mode": "markers",
         "name": "Poland",
         "showlegend": true,
         "type": "scattergl",
         "x": [
          1990,
          1991,
          1992,
          1993,
          1994,
          1995,
          1996,
          1997,
          1998,
          1999,
          2000,
          2001,
          2002,
          2003,
          2004,
          2005,
          2006,
          2007,
          2008,
          2009,
          2010,
          2011,
          2012,
          2013,
          2014,
          2015,
          2016,
          2017,
          2018,
          2019,
          2020,
          2021
         ],
         "xaxis": "x",
         "y": [
          376.813577,
          373.834442,
          364.748781,
          365.448045,
          360.522221,
          362.892258,
          377.577851,
          367.524628,
          339.365274,
          329.552343,
          317.719195,
          313.849975,
          306.610293,
          319.624035,
          324.436208,
          323.409481,
          337.317578,
          336.731479,
          330.485117,
          316.868513,
          334.916988,
          334.337154,
          326.734935,
          322.651181,
          310.3191,
          313.455719,
          324.381233,
          337.734951,
          337.048486,
          318.487666,
          303.523082,
          328.579763
         ],
         "yaxis": "y"
        },
        {
         "hovertemplate": "Country=Portugal<br>Year=%{x}<br>Total=%{y}<extra></extra>",
         "legendgroup": "Portugal",
         "marker": {
          "color": "#00cc96",
          "symbol": "circle"
         },
         "mode": "markers",
         "name": "Portugal",
         "showlegend": true,
         "type": "scattergl",
         "x": [
          1990,
          1991,
          1992,
          1993,
          1994,
          1995,
          1996,
          1997,
          1998,
          1999,
          2000,
          2001,
          2002,
          2003,
          2004,
          2005,
          2006,
          2007,
          2008,
          2009,
          2010,
          2011,
          2012,
          2013,
          2014,
          2015,
          2016,
          2017,
          2018,
          2019,
          2020,
          2021
         ],
         "xaxis": "x",
         "y": [
          45.325085,
          47.14164,
          50.969942,
          49.483611,
          50.261173,
          54.524438,
          51.815227,
          54.69441,
          59.247501,
          66.899642,
          65.685547,
          65.237192,
          69.643312,
          64.53789,
          67.385154,
          69.717987,
          64.923915,
          62.437402,
          60.106794,
          57.20748,
          53.001358,
          51.801576,
          49.959709,
          48.163477,
          47.945815,
          52.270289,
          50.442234,
          55.210185,
          51.459107,
          47.618826,
          41.799894,
          40.797216
         ],
         "yaxis": "y"
        },
        {
         "hovertemplate": "Country=South Korea<br>Year=%{x}<br>Total=%{y}<extra></extra>",
         "legendgroup": "South Korea",
         "marker": {
          "color": "#ab63fa",
          "symbol": "circle"
         },
         "mode": "markers",
         "name": "South Korea",
         "showlegend": true,
         "type": "scattergl",
         "x": [
          1990,
          1991,
          1992,
          1993,
          1994,
          1995,
          1996,
          1997,
          1998,
          1999,
          2000,
          2001,
          2002,
          2003,
          2004,
          2005,
          2006,
          2007,
          2008,
          2009,
          2010,
          2011,
          2012,
          2013,
          2014,
          2015,
          2016,
          2017,
          2018,
          2019,
          2020,
          2021
         ],
         "xaxis": "x",
         "y": [
          250.510837,
          275.688225,
          299.905413,
          330.173952,
          355.694835,
          383.665454,
          421.058363,
          444.989603,
          378.052437,
          410.537126,
          439.980692,
          455.630633,
          476.06488,
          485.212785,
          491.389426,
          498.688299,
          503.478183,
          521.708715,
          532.650764,
          537.819831,
          594.33911,
          623.442837,
          627.943034,
          634.580703,
          629.366484,
          634.177278,
          637.914084,
          654.537269,
          670.168699,
          646.102263,
          597.634242,
          616.074996
         ],
         "yaxis": "y"
        },
        {
         "hovertemplate": "Country=Romania<br>Year=%{x}<br>Total=%{y}<extra></extra>",
         "legendgroup": "Romania",
         "marker": {
          "color": "#FFA15A",
          "symbol": "circle"
         },
         "mode": "markers",
         "name": "Romania",
         "showlegend": true,
         "type": "scattergl",
         "x": [
          1990,
          1991,
          1992,
          1993,
          1994,
          1995,
          1996,
          1997,
          1998,
          1999,
          2000,
          2001,
          2002,
          2003,
          2004,
          2005,
          2006,
          2007,
          2008,
          2009,
          2010,
          2011,
          2012,
          2013,
          2014,
          2015,
          2016,
          2017,
          2018,
          2019,
          2020,
          2021
         ],
         "xaxis": "x",
         "y": [
          173.46387,
          141.91528,
          131.509918,
          122.278576,
          120.542332,
          125.582627,
          128.935578,
          117.96281,
          104.398871,
          88.357129,
          92.668296,
          98.150928,
          98.356844,
          102.844232,
          102.109621,
          100.241794,
          103.180297,
          107.886681,
          105.851799,
          87.002447,
          84.632654,
          91.754477,
          90.239246,
          78.929516,
          78.453481,
          77.996265,
          77.011532,
          80.042942,
          80.516214,
          77.030616,
          74.138009,
          79.32686
         ],
         "yaxis": "y"
        },
        {
         "hovertemplate": "Country=Russia<br>Year=%{x}<br>Total=%{y}<extra></extra>",
         "legendgroup": "Russia",
         "marker": {
          "color": "#19d3f3",
          "symbol": "circle"
         },
         "mode": "markers",
         "name": "Russia",
         "showlegend": true,
         "type": "scattergl",
         "x": [
          1990,
          1991,
          1992,
          1993,
          1994,
          1995,
          1996,
          1997,
          1998,
          1999,
          2000,
          2001,
          2002,
          2003,
          2004,
          2005,
          2006,
          2007,
          2008,
          2009,
          2010,
          2011,
          2012,
          2013,
          2014,
          2015,
          2016,
          2017,
          2018,
          2019,
          2020,
          2021
         ],
         "xaxis": "x",
         "y": [
          2534.86506,
          2405.531915,
          1965.610204,
          1865.939469,
          1646.941737,
          1618.95117,
          1586.172896,
          1481.61877,
          1464.542998,
          1493.155061,
          1478.184753,
          1514.713521,
          1505.520171,
          1535.293112,
          1541.753926,
          1559.08276,
          1618.246151,
          1618.586183,
          1646.969024,
          1539.305658,
          1626.187553,
          1679.278427,
          1694.576422,
          1632.716418,
          1631.662227,
          1629.713151,
          1624.756335,
          1654.154022,
          1700.45284,
          1692.363414,
          1624.221431,
          1755.54739
         ],
         "yaxis": "y"
        },
        {
         "hovertemplate": "Country=Slovakia<br>Year=%{x}<br>Total=%{y}<extra></extra>",
         "legendgroup": "Slovakia",
         "marker": {
          "color": "#FF6692",
          "symbol": "circle"
         },
         "mode": "markers",
         "name": "Slovakia",
         "showlegend": true,
         "type": "scattergl",
         "x": [
          1990,
          1991,
          1992,
          1993,
          1994,
          1995,
          1996,
          1997,
          1998,
          1999,
          2000,
          2001,
          2002,
          2003,
          2004,
          2005,
          2006,
          2007,
          2008,
          2009,
          2010,
          2011,
          2012,
          2013,
          2014,
          2015,
          2016,
          2017,
          2018,
          2019,
          2020,
          2021
         ],
         "xaxis": "x",
         "y": [
          61.470187,
          53.283798,
          48.884203,
          46.348516,
          43.754326,
          44.142329,
          44.023477,
          44.095513,
          43.824664,
          43.035493,
          41.135935,
          43.220929,
          41.960933,
          42.293771,
          42.780235,
          42.788856,
          42.552108,
          40.968268,
          41.359045,
          37.622061,
          38.403931,
          37.984837,
          35.910395,
          35.565563,
          33.656215,
          34.468229,
          34.912876,
          36.112652,
          36.102971,
          33.776188,
          31.094728,
          35.308218
         ],
         "yaxis": "y"
        },
        {
         "hovertemplate": "Country=Slovenia<br>Year=%{x}<br>Total=%{y}<extra></extra>",
         "legendgroup": "Slovenia",
         "marker": {
          "color": "#B6E880",
          "symbol": "circle"
         },
         "mode": "markers",
         "name": "Slovenia",
         "showlegend": true,
         "type": "scattergl",
         "x": [
          1990,
          1991,
          1992,
          1993,
          1994,
          1995,
          1996,
          1997,
          1998,
          1999,
          2000,
          2001,
          2002,
          2003,
          2004,
          2005,
          2006,
          2007,
          2008,
          2009,
          2010,
          2011,
          2012,
          2013,
          2014,
          2015,
          2016,
          2017,
          2018,
          2019,
          2020,
          2021
         ],
         "xaxis": "x",
         "y": [
          15.094849,
          13.974238,
          13.88342,
          14.247177,
          14.636503,
          15.35418,
          15.999325,
          16.50685,
          16.038877,
          15.41235,
          15.05369,
          16.302567,
          16.564489,
          16.271331,
          16.704502,
          16.932322,
          17.178324,
          17.342812,
          18.278409,
          16.204024,
          16.459522,
          16.358579,
          15.760511,
          15.133322,
          13.56817,
          13.653307,
          14.464584,
          14.622025,
          14.526712,
          14.048142,
          12.866237,
          12.54933
         ],
         "yaxis": "y"
        },
        {
         "hovertemplate": "Country=Spain<br>Year=%{x}<br>Total=%{y}<extra></extra>",
         "legendgroup": "Spain",
         "marker": {
          "color": "#FF97FF",
          "symbol": "circle"
         },
         "mode": "markers",
         "name": "Spain",
         "showlegend": true,
         "type": "scattergl",
         "x": [
          1990,
          1991,
          1992,
          1993,
          1994,
          1995,
          1996,
          1997,
          1998,
          1999,
          2000,
          2001,
          2002,
          2003,
          2004,
          2005,
          2006,
          2007,
          2008,
          2009,
          2010,
          2011,
          2012,
          2013,
          2014,
          2015,
          2016,
          2017,
          2018,
          2019,
          2020,
          2021
         ],
         "xaxis": "x",
         "y": [
          231.328439,
          241.074298,
          249.939228,
          241.298918,
          253.803789,
          267.577468,
          255.04906,
          267.589849,
          276.184605,
          299.72214,
          311.674624,
          313.620597,
          333.730307,
          338.04587,
          354.827957,
          370.065779,
          361.12033,
          368.985581,
          337.182422,
          297.7478,
          284.282684,
          285.132255,
          279.384956,
          253.102713,
          255.4591,
          272.16466,
          261.227657,
          275.053205,
          270.052271,
          251.825149,
          213.339721,
          233.649543
         ],
         "yaxis": "y"
        },
        {
         "hovertemplate": "Country=Sweden<br>Year=%{x}<br>Total=%{y}<extra></extra>",
         "legendgroup": "Sweden",
         "marker": {
          "color": "#FECB52",
          "symbol": "circle"
         },
         "mode": "markers",
         "name": "Sweden",
         "showlegend": true,
         "type": "scattergl",
         "x": [
          1990,
          1991,
          1992,
          1993,
          1994,
          1995,
          1996,
          1997,
          1998,
          1999,
          2000,
          2001,
          2002,
          2003,
          2004,
          2005,
          2006,
          2007,
          2008,
          2009,
          2010,
          2011,
          2012,
          2013,
          2014,
          2015,
          2016,
          2017,
          2018,
          2019,
          2020,
          2021
         ],
         "xaxis": "x",
         "y": [
          57.58009,
          57.950551,
          57.6889,
          57.725985,
          60.186577,
          59.605074,
          63.521837,
          58.425368,
          58.893226,
          56.031844,
          54.890663,
          55.821961,
          56.791591,
          57.371496,
          56.682884,
          54.066087,
          53.885099,
          53.151971,
          51.070465,
          47.421459,
          53.287345,
          49.405178,
          46.918582,
          45.351341,
          43.477929,
          43.741733,
          43.415985,
          42.704238,
          42.094909,
          40.982492,
          36.515101,
          35.848949
         ],
         "yaxis": "y"
        },
        {
         "hovertemplate": "Country=Switzerland<br>Year=%{x}<br>Total=%{y}<extra></extra>",
         "legendgroup": "Switzerland",
         "marker": {
          "color": "#636efa",
          "symbol": "circle"
         },
         "mode": "markers",
         "name": "Switzerland",
         "showlegend": true,
         "type": "scattergl",
         "x": [
          1990,
          1991,
          1992,
          1993,
          1994,
          1995,
          1996,
          1997,
          1998,
          1999,
          2000,
          2001,
          2002,
          2003,
          2004,
          2005,
          2006,
          2007,
          2008,
          2009,
          2010,
          2011,
          2012,
          2013,
          2014,
          2015,
          2016,
          2017,
          2018,
          2019,
          2020,
          2021
         ],
         "xaxis": "x",
         "y": [
          44.159882,
          46.133385,
          46.016512,
          43.61187,
          42.676629,
          43.419264,
          44.107436,
          43.047483,
          44.622854,
          44.445646,
          43.622369,
          45.077498,
          43.463863,
          44.647716,
          45.238267,
          45.778558,
          45.373349,
          43.368761,
          44.710572,
          43.538552,
          45.045709,
          40.985233,
          42.253032,
          43.187726,
          39.233632,
          38.73182,
          39.185341,
          38.178641,
          36.873818,
          36.733064,
          34.240967,
          34.931692
         ],
         "yaxis": "y"
        },
        {
         "hovertemplate": "Country=Taiwan<br>Year=%{x}<br>Total=%{y}<extra></extra>",
         "legendgroup": "Taiwan",
         "marker": {
          "color": "#EF553B",
          "symbol": "circle"
         },
         "mode": "markers",
         "name": "Taiwan",
         "showlegend": true,
         "type": "scattergl",
         "x": [
          1990,
          1991,
          1992,
          1993,
          1994,
          1995,
          1996,
          1997,
          1998,
          1999,
          2000,
          2001,
          2002,
          2003,
          2004,
          2005,
          2006,
          2007,
          2008,
          2009,
          2010,
          2011,
          2012,
          2013,
          2014,
          2015,
          2016,
          2017,
          2018,
          2019,
          2020,
          2021
         ],
         "xaxis": "x",
         "y": [
          124.079,
          133.597,
          142.182,
          153.801,
          161.168,
          168.88,
          176.787,
          190.548,
          200.163,
          207.799,
          226.983,
          229.927,
          237.65,
          248.401,
          257.883,
          266.46,
          276.159,
          279.8,
          266.595,
          252.505,
          270.148,
          276.283,
          272.756,
          273.797,
          276.311,
          275.836,
          279.705,
          284.821,
          282.843,
          273.515,
          264.267187,
          282.856073
         ],
         "yaxis": "y"
        },
        {
         "hovertemplate": "Country=Turkey<br>Year=%{x}<br>Total=%{y}<extra></extra>",
         "legendgroup": "Turkey",
         "marker": {
          "color": "#00cc96",
          "symbol": "circle"
         },
         "mode": "markers",
         "name": "Turkey",
         "showlegend": true,
         "type": "scattergl",
         "x": [
          1990,
          1991,
          1992,
          1993,
          1994,
          1995,
          1996,
          1997,
          1998,
          1999,
          2000,
          2001,
          2002,
          2003,
          2004,
          2005,
          2006,
          2007,
          2008,
          2009,
          2010,
          2011,
          2012,
          2013,
          2014,
          2015,
          2016,
          2017,
          2018,
          2019,
          2020,
          2021
         ],
         "xaxis": "x",
         "y": [
          151.664532,
          158.140727,
          164.061435,
          171.133724,
          167.560891,
          181.481826,
          199.582745,
          212.037409,
          212.069926,
          207.857771,
          229.858207,
          213.483471,
          221.148221,
          236.68329,
          244.688735,
          264.768615,
          282.266691,
          313.578157,
          310.532303,
          316.319322,
          316.036475,
          341.862344,
          355.88264,
          347.152667,
          363.866339,
          384.330489,
          405.304505,
          430.220402,
          422.568908,
          401.719742,
          413.433085,
          446.204185
         ],
         "yaxis": "y"
        },
        {
         "hovertemplate": "Country=Ukraine<br>Year=%{x}<br>Total=%{y}<extra></extra>",
         "legendgroup": "Ukraine",
         "marker": {
          "color": "#ab63fa",
          "symbol": "circle"
         },
         "mode": "markers",
         "name": "Ukraine",
         "showlegend": true,
         "type": "scattergl",
         "x": [
          1990,
          1991,
          1992,
          1993,
          1994,
          1995,
          1996,
          1997,
          1998,
          1999,
          2000,
          2001,
          2002,
          2003,
          2004,
          2005,
          2006,
          2007,
          2008,
          2009,
          2010,
          2011,
          2012,
          2013,
          2014,
          2015,
          2016,
          2017,
          2018,
          2019,
          2020,
          2021
         ],
         "xaxis": "x",
         "y": [
          705.830043,
          632.536676,
          589.060298,
          510.199583,
          419.266344,
          389.864657,
          351.408793,
          340.242725,
          328.576744,
          298.178287,
          285.321939,
          303.561756,
          295.673973,
          306.998709,
          310.270626,
          313.066891,
          332.613143,
          336.351221,
          325.536205,
          277.296698,
          294.110664,
          307.956066,
          303.976228,
          297.251191,
          257.510818,
          223.824094,
          234.008459,
          223.087077,
          231.674691,
          222.056698,
          206.941159,
          201.857716
         ],
         "yaxis": "y"
        },
        {
         "hovertemplate": "Country=United Kingdom<br>Year=%{x}<br>Total=%{y}<extra></extra>",
         "legendgroup": "United Kingdom",
         "marker": {
          "color": "#FFA15A",
          "symbol": "circle"
         },
         "mode": "markers",
         "name": "United Kingdom",
         "showlegend": true,
         "type": "scattergl",
         "x": [
          1990,
          1991,
          1992,
          1993,
          1994,
          1995,
          1996,
          1997,
          1998,
          1999,
          2000,
          2001,
          2002,
          2003,
          2004,
          2005,
          2006,
          2007,
          2008,
          2009,
          2010,
          2011,
          2012,
          2013,
          2014,
          2015,
          2016,
          2017,
          2018,
          2019,
          2020,
          2021
         ],
         "xaxis": "x",
         "y": [
          601.945078,
          609.412673,
          593.845922,
          579.612537,
          574.01689,
          566.158959,
          586.760676,
          562.708106,
          568.543698,
          561.649574,
          569.033716,
          577.970573,
          560.2732,
          571.618782,
          573.429762,
          570.33837,
          567.845659,
          559.566476,
          544.932405,
          494.107701,
          511.904582,
          469.713315,
          487.476776,
          477.611268,
          438.807081,
          422.460794,
          399.430131,
          387.367141,
          379.729755,
          364.753306,
          326.263199,
          346.773181
         ],
         "yaxis": "y"
        },
        {
         "hovertemplate": "Country=USA<br>Year=%{x}<br>Total=%{y}<extra></extra>",
         "legendgroup": "USA",
         "marker": {
          "color": "#19d3f3",
          "symbol": "circle"
         },
         "mode": "markers",
         "name": "USA",
         "showlegend": true,
         "type": "scattergl",
         "x": [
          1904,
          1905,
          1906,
          1907,
          1908,
          1909,
          1910,
          1911,
          1912,
          1913,
          1914,
          1915,
          1916,
          1917,
          1918,
          1919,
          1920,
          1921,
          1922,
          1923,
          1924,
          1925,
          1926,
          1927,
          1928,
          1929,
          1930,
          1931,
          1932,
          1933,
          1934,
          1935,
          1936,
          1937,
          1938,
          1939,
          1940,
          1941,
          1942,
          1943,
          1944,
          1945,
          1946,
          1947,
          1948,
          1949,
          1950,
          1951,
          1952,
          1953,
          1954,
          1955,
          1956,
          1957,
          1958,
          1959,
          1960,
          1961,
          1962,
          1963,
          1964,
          1965,
          1966,
          1967,
          1968,
          1969,
          1970,
          1971,
          1972,
          1973,
          1974,
          1975,
          1976,
          1977,
          1978,
          1979,
          1980,
          1981,
          1982,
          1983,
          1984,
          1985,
          1986,
          1987,
          1988,
          1989,
          1990,
          1991,
          1992,
          1993,
          1994,
          1995,
          1996,
          1997,
          1998,
          1999,
          2000,
          2001,
          2002,
          2003,
          2004,
          2005,
          2006,
          2007,
          2008,
          2009,
          2010,
          2011,
          2012,
          2013,
          2014,
          2015,
          2016,
          2017,
          2018,
          2019,
          2020,
          2021
         ],
         "xaxis": "x",
         "y": [
          882.057539,
          986.482442,
          1035.471247,
          1203.861422,
          1052.812895,
          1165.706127,
          1271.582074,
          1258.666567,
          1343.565524,
          1442.542088,
          1317.980254,
          1367.697,
          1518.980682,
          1670.970621,
          1747.718115,
          1479.158854,
          1738.245746,
          1423.668621,
          1435.758303,
          1896.735797,
          1698.320274,
          1758.185375,
          1906.048416,
          1862.839089,
          1830.964925,
          1963.506247,
          1744.916289,
          1484.959144,
          1257.814095,
          1348.876843,
          1436.238662,
          1492.320967,
          1713.411699,
          1792.609877,
          1515.749834,
          1670.920467,
          1874.985099,
          2043.5849,
          2198.264975,
          2272.05905,
          2444.903503,
          2359.55147,
          2257.493764,
          2485.854436,
          2582.558492,
          2164.862411,
          2541.485265,
          2618.711623,
          2551.219405,
          2612.97111,
          2489.462061,
          2728.511904,
          2859.994777,
          2835.772132,
          2747.107657,
          2831.923117,
          2897.31526,
          2886.8727,
          2993.902031,
          3126.48747,
          3264.313805,
          3399.546756,
          3571.421314,
          3705.460953,
          3840.919556,
          4035.14534,
          4339.686007,
          4365.465254,
          4573.015379,
          4785.048993,
          4621.045771,
          4478.225949,
          4747.762413,
          4889.607301,
          4941.361664,
          5008.578779,
          4808.520356,
          4686.369198,
          4447.255938,
          4429.374051,
          4662.141491,
          4652.579989,
          4663.369645,
          4825.650651,
          5050.475381,
          5132.134279,
          5122.496248,
          5064.987175,
          5175.219975,
          5274.36263,
          5365.578825,
          5427.798477,
          5616.430864,
          5691.864597,
          5737.12937,
          5810.331395,
          6016.350574,
          5911.988517,
          5952.698581,
          6015.804219,
          6117.962686,
          6137.603445,
          6057.163161,
          6135.287208,
          5918.868654,
          5482.977899,
          5681.392035,
          5546.628958,
          5345.454261,
          5480.926097,
          5528.871276,
          5376.577933,
          5251.757629,
          5210.957584,
          5376.657233,
          5259.143836,
          4715.691109,
          5007.335889
         ],
         "yaxis": "y"
        },
        {
         "hovertemplate": "Country=Global<br>Year=%{x}<br>Total=%{y}<extra></extra>",
         "legendgroup": "Global",
         "marker": {
          "color": "#FF6692",
          "symbol": "circle"
         },
         "mode": "markers",
         "name": "Global",
         "showlegend": true,
         "type": "scattergl",
         "x": [
          1990,
          1991,
          1992,
          1993,
          1994,
          1995,
          1996,
          1997,
          1998,
          1999,
          2000,
          2001,
          2002,
          2003,
          2004,
          2005,
          2006,
          2007,
          2008,
          2009,
          2010,
          2011,
          2012,
          2013,
          2014,
          2015,
          2016,
          2017,
          2018,
          2019,
          2020,
          2021
         ],
         "xaxis": "x",
         "y": [
          22757.480501,
          23244.805747,
          22580.023401,
          22812.899822,
          22969.498357,
          23458.713064,
          24159.382272,
          24302.583028,
          24213.260513,
          24732.388369,
          25453.622139,
          25668.048326,
          26281.037468,
          27651.596453,
          28636.695037,
          29614.602256,
          30593.116788,
          31506.7892,
          32085.836322,
          31564.030692,
          33364.346496,
          34487.011618,
          35006.267581,
          35319.201624,
          35577.534774,
          35558.565735,
          35524.193212,
          36096.739276,
          36826.5066,
          37082.558969,
          35264.085734,
          37123.850352
         ],
         "yaxis": "y"
        }
       ],
       "layout": {
        "autosize": true,
        "legend": {
         "title": {
          "text": "Country"
         },
         "tracegroupgap": 0
        },
        "margin": {
         "t": 60
        },
        "template": {
         "data": {
          "bar": [
           {
            "error_x": {
             "color": "#2a3f5f"
            },
            "error_y": {
             "color": "#2a3f5f"
            },
            "marker": {
             "line": {
              "color": "#E5ECF6",
              "width": 0.5
             },
             "pattern": {
              "fillmode": "overlay",
              "size": 10,
              "solidity": 0.2
             }
            },
            "type": "bar"
           }
          ],
          "barpolar": [
           {
            "marker": {
             "line": {
              "color": "#E5ECF6",
              "width": 0.5
             },
             "pattern": {
              "fillmode": "overlay",
              "size": 10,
              "solidity": 0.2
             }
            },
            "type": "barpolar"
           }
          ],
          "carpet": [
           {
            "aaxis": {
             "endlinecolor": "#2a3f5f",
             "gridcolor": "white",
             "linecolor": "white",
             "minorgridcolor": "white",
             "startlinecolor": "#2a3f5f"
            },
            "baxis": {
             "endlinecolor": "#2a3f5f",
             "gridcolor": "white",
             "linecolor": "white",
             "minorgridcolor": "white",
             "startlinecolor": "#2a3f5f"
            },
            "type": "carpet"
           }
          ],
          "choropleth": [
           {
            "colorbar": {
             "outlinewidth": 0,
             "ticks": ""
            },
            "type": "choropleth"
           }
          ],
          "contour": [
           {
            "colorbar": {
             "outlinewidth": 0,
             "ticks": ""
            },
            "colorscale": [
             [
              0,
              "#0d0887"
             ],
             [
              0.1111111111111111,
              "#46039f"
             ],
             [
              0.2222222222222222,
              "#7201a8"
             ],
             [
              0.3333333333333333,
              "#9c179e"
             ],
             [
              0.4444444444444444,
              "#bd3786"
             ],
             [
              0.5555555555555556,
              "#d8576b"
             ],
             [
              0.6666666666666666,
              "#ed7953"
             ],
             [
              0.7777777777777778,
              "#fb9f3a"
             ],
             [
              0.8888888888888888,
              "#fdca26"
             ],
             [
              1,
              "#f0f921"
             ]
            ],
            "type": "contour"
           }
          ],
          "contourcarpet": [
           {
            "colorbar": {
             "outlinewidth": 0,
             "ticks": ""
            },
            "type": "contourcarpet"
           }
          ],
          "heatmap": [
           {
            "colorbar": {
             "outlinewidth": 0,
             "ticks": ""
            },
            "colorscale": [
             [
              0,
              "#0d0887"
             ],
             [
              0.1111111111111111,
              "#46039f"
             ],
             [
              0.2222222222222222,
              "#7201a8"
             ],
             [
              0.3333333333333333,
              "#9c179e"
             ],
             [
              0.4444444444444444,
              "#bd3786"
             ],
             [
              0.5555555555555556,
              "#d8576b"
             ],
             [
              0.6666666666666666,
              "#ed7953"
             ],
             [
              0.7777777777777778,
              "#fb9f3a"
             ],
             [
              0.8888888888888888,
              "#fdca26"
             ],
             [
              1,
              "#f0f921"
             ]
            ],
            "type": "heatmap"
           }
          ],
          "heatmapgl": [
           {
            "colorbar": {
             "outlinewidth": 0,
             "ticks": ""
            },
            "colorscale": [
             [
              0,
              "#0d0887"
             ],
             [
              0.1111111111111111,
              "#46039f"
             ],
             [
              0.2222222222222222,
              "#7201a8"
             ],
             [
              0.3333333333333333,
              "#9c179e"
             ],
             [
              0.4444444444444444,
              "#bd3786"
             ],
             [
              0.5555555555555556,
              "#d8576b"
             ],
             [
              0.6666666666666666,
              "#ed7953"
             ],
             [
              0.7777777777777778,
              "#fb9f3a"
             ],
             [
              0.8888888888888888,
              "#fdca26"
             ],
             [
              1,
              "#f0f921"
             ]
            ],
            "type": "heatmapgl"
           }
          ],
          "histogram": [
           {
            "marker": {
             "pattern": {
              "fillmode": "overlay",
              "size": 10,
              "solidity": 0.2
             }
            },
            "type": "histogram"
           }
          ],
          "histogram2d": [
           {
            "colorbar": {
             "outlinewidth": 0,
             "ticks": ""
            },
            "colorscale": [
             [
              0,
              "#0d0887"
             ],
             [
              0.1111111111111111,
              "#46039f"
             ],
             [
              0.2222222222222222,
              "#7201a8"
             ],
             [
              0.3333333333333333,
              "#9c179e"
             ],
             [
              0.4444444444444444,
              "#bd3786"
             ],
             [
              0.5555555555555556,
              "#d8576b"
             ],
             [
              0.6666666666666666,
              "#ed7953"
             ],
             [
              0.7777777777777778,
              "#fb9f3a"
             ],
             [
              0.8888888888888888,
              "#fdca26"
             ],
             [
              1,
              "#f0f921"
             ]
            ],
            "type": "histogram2d"
           }
          ],
          "histogram2dcontour": [
           {
            "colorbar": {
             "outlinewidth": 0,
             "ticks": ""
            },
            "colorscale": [
             [
              0,
              "#0d0887"
             ],
             [
              0.1111111111111111,
              "#46039f"
             ],
             [
              0.2222222222222222,
              "#7201a8"
             ],
             [
              0.3333333333333333,
              "#9c179e"
             ],
             [
              0.4444444444444444,
              "#bd3786"
             ],
             [
              0.5555555555555556,
              "#d8576b"
             ],
             [
              0.6666666666666666,
              "#ed7953"
             ],
             [
              0.7777777777777778,
              "#fb9f3a"
             ],
             [
              0.8888888888888888,
              "#fdca26"
             ],
             [
              1,
              "#f0f921"
             ]
            ],
            "type": "histogram2dcontour"
           }
          ],
          "mesh3d": [
           {
            "colorbar": {
             "outlinewidth": 0,
             "ticks": ""
            },
            "type": "mesh3d"
           }
          ],
          "parcoords": [
           {
            "line": {
             "colorbar": {
              "outlinewidth": 0,
              "ticks": ""
             }
            },
            "type": "parcoords"
           }
          ],
          "pie": [
           {
            "automargin": true,
            "type": "pie"
           }
          ],
          "scatter": [
           {
            "fillpattern": {
             "fillmode": "overlay",
             "size": 10,
             "solidity": 0.2
            },
            "type": "scatter"
           }
          ],
          "scatter3d": [
           {
            "line": {
             "colorbar": {
              "outlinewidth": 0,
              "ticks": ""
             }
            },
            "marker": {
             "colorbar": {
              "outlinewidth": 0,
              "ticks": ""
             }
            },
            "type": "scatter3d"
           }
          ],
          "scattercarpet": [
           {
            "marker": {
             "colorbar": {
              "outlinewidth": 0,
              "ticks": ""
             }
            },
            "type": "scattercarpet"
           }
          ],
          "scattergeo": [
           {
            "marker": {
             "colorbar": {
              "outlinewidth": 0,
              "ticks": ""
             }
            },
            "type": "scattergeo"
           }
          ],
          "scattergl": [
           {
            "marker": {
             "colorbar": {
              "outlinewidth": 0,
              "ticks": ""
             }
            },
            "type": "scattergl"
           }
          ],
          "scattermapbox": [
           {
            "marker": {
             "colorbar": {
              "outlinewidth": 0,
              "ticks": ""
             }
            },
            "type": "scattermapbox"
           }
          ],
          "scatterpolar": [
           {
            "marker": {
             "colorbar": {
              "outlinewidth": 0,
              "ticks": ""
             }
            },
            "type": "scatterpolar"
           }
          ],
          "scatterpolargl": [
           {
            "marker": {
             "colorbar": {
              "outlinewidth": 0,
              "ticks": ""
             }
            },
            "type": "scatterpolargl"
           }
          ],
          "scatterternary": [
           {
            "marker": {
             "colorbar": {
              "outlinewidth": 0,
              "ticks": ""
             }
            },
            "type": "scatterternary"
           }
          ],
          "surface": [
           {
            "colorbar": {
             "outlinewidth": 0,
             "ticks": ""
            },
            "colorscale": [
             [
              0,
              "#0d0887"
             ],
             [
              0.1111111111111111,
              "#46039f"
             ],
             [
              0.2222222222222222,
              "#7201a8"
             ],
             [
              0.3333333333333333,
              "#9c179e"
             ],
             [
              0.4444444444444444,
              "#bd3786"
             ],
             [
              0.5555555555555556,
              "#d8576b"
             ],
             [
              0.6666666666666666,
              "#ed7953"
             ],
             [
              0.7777777777777778,
              "#fb9f3a"
             ],
             [
              0.8888888888888888,
              "#fdca26"
             ],
             [
              1,
              "#f0f921"
             ]
            ],
            "type": "surface"
           }
          ],
          "table": [
           {
            "cells": {
             "fill": {
              "color": "#EBF0F8"
             },
             "line": {
              "color": "white"
             }
            },
            "header": {
             "fill": {
              "color": "#C8D4E3"
             },
             "line": {
              "color": "white"
             }
            },
            "type": "table"
           }
          ]
         },
         "layout": {
          "annotationdefaults": {
           "arrowcolor": "#2a3f5f",
           "arrowhead": 0,
           "arrowwidth": 1
          },
          "autotypenumbers": "strict",
          "coloraxis": {
           "colorbar": {
            "outlinewidth": 0,
            "ticks": ""
           }
          },
          "colorscale": {
           "diverging": [
            [
             0,
             "#8e0152"
            ],
            [
             0.1,
             "#c51b7d"
            ],
            [
             0.2,
             "#de77ae"
            ],
            [
             0.3,
             "#f1b6da"
            ],
            [
             0.4,
             "#fde0ef"
            ],
            [
             0.5,
             "#f7f7f7"
            ],
            [
             0.6,
             "#e6f5d0"
            ],
            [
             0.7,
             "#b8e186"
            ],
            [
             0.8,
             "#7fbc41"
            ],
            [
             0.9,
             "#4d9221"
            ],
            [
             1,
             "#276419"
            ]
           ],
           "sequential": [
            [
             0,
             "#0d0887"
            ],
            [
             0.1111111111111111,
             "#46039f"
            ],
            [
             0.2222222222222222,
             "#7201a8"
            ],
            [
             0.3333333333333333,
             "#9c179e"
            ],
            [
             0.4444444444444444,
             "#bd3786"
            ],
            [
             0.5555555555555556,
             "#d8576b"
            ],
            [
             0.6666666666666666,
             "#ed7953"
            ],
            [
             0.7777777777777778,
             "#fb9f3a"
            ],
            [
             0.8888888888888888,
             "#fdca26"
            ],
            [
             1,
             "#f0f921"
            ]
           ],
           "sequentialminus": [
            [
             0,
             "#0d0887"
            ],
            [
             0.1111111111111111,
             "#46039f"
            ],
            [
             0.2222222222222222,
             "#7201a8"
            ],
            [
             0.3333333333333333,
             "#9c179e"
            ],
            [
             0.4444444444444444,
             "#bd3786"
            ],
            [
             0.5555555555555556,
             "#d8576b"
            ],
            [
             0.6666666666666666,
             "#ed7953"
            ],
            [
             0.7777777777777778,
             "#fb9f3a"
            ],
            [
             0.8888888888888888,
             "#fdca26"
            ],
            [
             1,
             "#f0f921"
            ]
           ]
          },
          "colorway": [
           "#636efa",
           "#EF553B",
           "#00cc96",
           "#ab63fa",
           "#FFA15A",
           "#19d3f3",
           "#FF6692",
           "#B6E880",
           "#FF97FF",
           "#FECB52"
          ],
          "font": {
           "color": "#2a3f5f"
          },
          "geo": {
           "bgcolor": "white",
           "lakecolor": "white",
           "landcolor": "#E5ECF6",
           "showlakes": true,
           "showland": true,
           "subunitcolor": "white"
          },
          "hoverlabel": {
           "align": "left"
          },
          "hovermode": "closest",
          "mapbox": {
           "style": "light"
          },
          "paper_bgcolor": "white",
          "plot_bgcolor": "#E5ECF6",
          "polar": {
           "angularaxis": {
            "gridcolor": "white",
            "linecolor": "white",
            "ticks": ""
           },
           "bgcolor": "#E5ECF6",
           "radialaxis": {
            "gridcolor": "white",
            "linecolor": "white",
            "ticks": ""
           }
          },
          "scene": {
           "xaxis": {
            "backgroundcolor": "#E5ECF6",
            "gridcolor": "white",
            "gridwidth": 2,
            "linecolor": "white",
            "showbackground": true,
            "ticks": "",
            "zerolinecolor": "white"
           },
           "yaxis": {
            "backgroundcolor": "#E5ECF6",
            "gridcolor": "white",
            "gridwidth": 2,
            "linecolor": "white",
            "showbackground": true,
            "ticks": "",
            "zerolinecolor": "white"
           },
           "zaxis": {
            "backgroundcolor": "#E5ECF6",
            "gridcolor": "white",
            "gridwidth": 2,
            "linecolor": "white",
            "showbackground": true,
            "ticks": "",
            "zerolinecolor": "white"
           }
          },
          "shapedefaults": {
           "line": {
            "color": "#2a3f5f"
           }
          },
          "ternary": {
           "aaxis": {
            "gridcolor": "white",
            "linecolor": "white",
            "ticks": ""
           },
           "baxis": {
            "gridcolor": "white",
            "linecolor": "white",
            "ticks": ""
           },
           "bgcolor": "#E5ECF6",
           "caxis": {
            "gridcolor": "white",
            "linecolor": "white",
            "ticks": ""
           }
          },
          "title": {
           "x": 0.05
          },
          "xaxis": {
           "automargin": true,
           "gridcolor": "white",
           "linecolor": "white",
           "ticks": "",
           "title": {
            "standoff": 15
           },
           "zerolinecolor": "white",
           "zerolinewidth": 2
          },
          "yaxis": {
           "automargin": true,
           "gridcolor": "white",
           "linecolor": "white",
           "ticks": "",
           "title": {
            "standoff": 15
           },
           "zerolinecolor": "white",
           "zerolinewidth": 2
          }
         }
        },
        "xaxis": {
         "anchor": "y",
         "autorange": true,
         "domain": [
          0,
          1
         ],
         "range": [
          1896.7134559535334,
          2028.2865440464666
         ],
         "title": {
          "text": "Year"
         },
         "type": "linear"
        },
        "yaxis": {
         "anchor": "x",
         "autorange": true,
         "domain": [
          0,
          1
         ],
         "range": [
          -2874.265868834646,
          39998.25821683465
         ],
         "title": {
          "text": "Total"
         },
         "type": "linear"
        }
       }
      },
      "image/png": "[encoded data removed]",
      "text/html": [
       "<div>                            <div id=\"b24d124c-3b10-4a0a-abf3-9ce684cdfe99\" class=\"plotly-graph-div\" style=\"height:525px; width:100%;\"></div>            <script type=\"text/javascript\">                require([\"plotly\"], function(Plotly) {                    window.PLOTLYENV=window.PLOTLYENV || {};                                    if (document.getElementById(\"b24d124c-3b10-4a0a-abf3-9ce684cdfe99\")) {                    Plotly.newPlot(                        \"b24d124c-3b10-4a0a-abf3-9ce684cdfe99\",                        [{\"hovertemplate\":\"Country=Australia<br>Year=%{x}<br>Total=%{y}<extra></extra>\",\"legendgroup\":\"Australia\",\"marker\":{\"color\":\"#636efa\",\"symbol\":\"circle\"},\"mode\":\"markers\",\"name\":\"Australia\",\"showlegend\":true,\"x\":[1990,1991,1992,1993,1994,1995,1996,1997,1998,1999,2000,2001,2002,2003,2004,2005,2006,2007,2008,2009,2010,2011,2012,2013,2014,2015,2016,2017,2018,2019,2020,2021],\"xaxis\":\"x\",\"y\":[278.154156,279.52851,284.525345,288.870537,293.696553,305.002996,311.886129,320.28263,334.075978,343.488633,349.635487,357.132367,361.54081,369.279512,382.82089,386.153533,392.384302,399.624803,404.233067,407.065015,405.10332,403.828773,406.15091,397.887458,393.952876,401.793062,411.264288,414.358312,416.283827,416.356588,399.922128,391.187411],\"yaxis\":\"y\",\"type\":\"scattergl\"},{\"hovertemplate\":\"Country=Austria<br>Year=%{x}<br>Total=%{y}<extra></extra>\",\"legendgroup\":\"Austria\",\"marker\":{\"color\":\"#EF553B\",\"symbol\":\"circle\"},\"mode\":\"markers\",\"name\":\"Austria\",\"showlegend\":true,\"x\":[1990,1991,1992,1993,1994,1995,1996,1997,1998,1999,2000,2001,2002,2003,2004,2005,2006,2007,2008,2009,2010,2011,2012,2013,2014,2015,2016,2017,2018,2019,2020,2021],\"xaxis\":\"x\",\"y\":[62.145248,65.743938,60.243908,60.67057,61.045756,64.023072,67.367013,67.263597,66.898315,65.651039,66.14978,70.149508,71.953612,77.460983,77.678295,79.078106,76.806465,74.10678,73.481909,67.298655,72.006411,69.893113,67.26591,67.759445,64.16,66.348823,67.210743,69.592825,66.55718,67.936185,62.037447,64.625588],\"yaxis\":\"y\",\"type\":\"scattergl\"},{\"hovertemplate\":\"Country=Belarus<br>Year=%{x}<br>Total=%{y}<extra></extra>\",\"legendgroup\":\"Belarus\",\"marker\":{\"color\":\"#00cc96\",\"symbol\":\"circle\"},\"mode\":\"markers\",\"name\":\"Belarus\",\"showlegend\":true,\"x\":[1990,1991,1992,1993,1994,1995,1996,1997,1998,1999,2000,2001,2002,2003,2004,2005,2006,2007,2008,2009,2010,2011,2012,2013,2014,2015,2016,2017,2018,2019,2020,2021],\"xaxis\":\"x\",\"y\":[108.345055,104.071656,93.482974,80.561815,67.879399,60.905642,61.734784,61.588415,60.073447,57.965507,54.905983,54.002981,53.844143,55.087987,58.253531,59.310285,61.743587,60.218141,62.836408,60.577745,62.44512,61.307589,62.545264,64.125556,63.648873,58.798911,58.134483,59.262285,62.094328,62.039493,58.592041,59.602457],\"yaxis\":\"y\",\"type\":\"scattergl\"},{\"hovertemplate\":\"Country=Belgium<br>Year=%{x}<br>Total=%{y}<extra></extra>\",\"legendgroup\":\"Belgium\",\"marker\":{\"color\":\"#ab63fa\",\"symbol\":\"circle\"},\"mode\":\"markers\",\"name\":\"Belgium\",\"showlegend\":true,\"x\":[1990,1991,1992,1993,1994,1995,1996,1997,1998,1999,2000,2001,2002,2003,2004,2005,2006,2007,2008,2009,2010,2011,2012,2013,2014,2015,2016,2017,2018,2019,2020,2021],\"xaxis\":\"x\",\"y\":[120.292644,123.362363,122.48807,121.422702,124.795264,125.933051,129.474969,123.983505,130.212392,124.704147,126.719535,126.063796,126.860502,128.24564,128.778889,125.636389,123.880438,120.477002,120.175599,107.732357,114.557864,105.020115,102.355635,102.666433,96.887002,101.061722,99.601625,99.126283,99.873631,99.432619,90.368008,95.722285],\"yaxis\":\"y\",\"type\":\"scattergl\"},{\"hovertemplate\":\"Country=Brazil<br>Year=%{x}<br>Total=%{y}<extra></extra>\",\"legendgroup\":\"Brazil\",\"marker\":{\"color\":\"#FFA15A\",\"symbol\":\"circle\"},\"mode\":\"markers\",\"name\":\"Brazil\",\"showlegend\":true,\"x\":[1990,1991,1992,1993,1994,1995,1996,1997,1998,1999,2000,2001,2002,2003,2004,2005,2006,2007,2008,2009,2010,2011,2012,2013,2014,2015,2016,2017,2018,2019,2020,2021],\"xaxis\":\"x\",\"y\":[218.658,229.394,233.601,244.306,254.002,268.678,289.311,306.949,317.359,327.256,340.183,346.166,347.765,344.645,361.434,364.371,368.871,390.573,412.638,389.775,440.269,462.58,498.309,532.418,557.901,529.353,492.748,497.412678,477.10213,475.104581,442.306003,488.88107],\"yaxis\":\"y\",\"type\":\"scattergl\"},{\"hovertemplate\":\"Country=Bulgaria<br>Year=%{x}<br>Total=%{y}<extra></extra>\",\"legendgroup\":\"Bulgaria\",\"marker\":{\"color\":\"#19d3f3\",\"symbol\":\"circle\"},\"mode\":\"markers\",\"name\":\"Bulgaria\",\"showlegend\":true,\"x\":[1990,1991,1992,1993,1994,1995,1996,1997,1998,1999,2000,2001,2002,2003,2004,2005,2006,2007,2008,2009,2010,2011,2012,2013,2014,2015,2016,2017,2018,2019,2020,2021],\"xaxis\":\"x\",\"y\":[76.699197,61.516959,57.366293,58.426648,56.40459,57.951033,58.501566,55.855871,53.174794,46.3789,45.464332,48.980165,46.155491,50.532395,49.583352,50.654402,51.891855,55.737583,54.076123,45.812407,47.858926,53.174763,48.338905,42.678602,45.266301,48.260534,45.48431,47.569757,43.616065,42.255765,36.967113,42.56021],\"yaxis\":\"y\",\"type\":\"scattergl\"},{\"hovertemplate\":\"Country=Canada<br>Year=%{x}<br>Total=%{y}<extra></extra>\",\"legendgroup\":\"Canada\",\"marker\":{\"color\":\"#FF6692\",\"symbol\":\"circle\"},\"mode\":\"markers\",\"name\":\"Canada\",\"showlegend\":true,\"x\":[1990,1991,1992,1993,1994,1995,1996,1997,1998,1999,2000,2001,2002,2003,2004,2005,2006,2007,2008,2009,2010,2011,2012,2013,2014,2015,2016,2017,2018,2019,2020,2021],\"xaxis\":\"x\",\"y\":[458.218336,449.95972,463.75864,464.311598,478.726314,491.386794,507.510733,521.839964,529.649543,544.06378,566.690447,558.777507,564.050931,581.30532,579.592044,574.653628,568.450936,593.515764,576.558336,543.96759,556.560518,567.054133,568.223147,572.613311,569.839687,574.29819,560.525313,571.544619,584.369116,584.714184,534.863824,545.634517],\"yaxis\":\"y\",\"type\":\"scattergl\"},{\"hovertemplate\":\"Country=China<br>Year=%{x}<br>Total=%{y}<extra></extra>\",\"legendgroup\":\"China\",\"marker\":{\"color\":\"#B6E880\",\"symbol\":\"circle\"},\"mode\":\"markers\",\"name\":\"China\",\"showlegend\":true,\"x\":[1960,1961,1962,1963,1964,1965,1966,1967,1968,1969,1970,1971,1972,1973,1974,1975,1976,1977,1978,1979,1980,1981,1982,1983,1984,1985,1986,1987,1988,1989,1990,1991,1992,1993,1994,1995,1996,1997,1998,1999,2000,2001,2002,2003,2004,2005,2006,2007,2008,2009,2010,2011,2012,2013,2014,2015,2016,2017,2018,2019,2020,2021],\"xaxis\":\"x\",\"y\":[798.799921,570.630187,459.618074,456.779449,460.637094,500.286364,549.459318,460.225895,495.506566,607.683366,807.952627,909.2097,968.645596,1008.292576,1028.099867,1183.214956,1226.421277,1340.831115,1492.777845,1525.661148,1494.495884,1476.487854,1606.585013,1694.216811,1844.828012,1998.082904,2104.213354,2257.738539,2425.893553,2463.654367,2484.85482,2606.096182,2730.787587,2921.650956,3100.002045,3357.908888,3503.233703,3510.169286,3360.455433,3552.842067,3644.464203,3723.730766,4112.459057,4827.445998,5223.754656,5876.55534,6488.803816,6978.611952,7496.832207,7886.532768,8616.652695,9528.555734,9779.281618,9956.308273,9998.621253,9866.904318,9764.979745,10011.107108,10353.876989,10740.996069,10956.213369,11472.369171],\"yaxis\":\"y\",\"type\":\"scattergl\"},{\"hovertemplate\":\"Country=Croatia<br>Year=%{x}<br>Total=%{y}<extra></extra>\",\"legendgroup\":\"Croatia\",\"marker\":{\"color\":\"#FF97FF\",\"symbol\":\"circle\"},\"mode\":\"markers\",\"name\":\"Croatia\",\"showlegend\":true,\"x\":[1990,1991,1992,1993,1994,1995,1996,1997,1998,1999,2000,2001,2002,2003,2004,2005,2006,2007,2008,2009,2010,2011,2012,2013,2014,2015,2016,2017,2018,2019,2020,2021],\"xaxis\":\"x\",\"y\":[22.979789,16.987509,16.372593,16.80918,16.054021,16.817667,17.34487,18.558618,19.013422,20.024746,19.662487,20.785304,21.88946,23.215261,22.887891,23.343921,23.549946,24.862861,23.594994,21.804455,21.016283,20.649618,19.087403,18.432191,17.681566,17.824705,18.109014,18.743995,17.724152,17.857446,16.870528,17.701451],\"yaxis\":\"y\",\"type\":\"scattergl\"},{\"hovertemplate\":\"Country=Cyprus<br>Year=%{x}<br>Total=%{y}<extra></extra>\",\"legendgroup\":\"Cyprus\",\"marker\":{\"color\":\"#FECB52\",\"symbol\":\"circle\"},\"mode\":\"markers\",\"name\":\"Cyprus\",\"showlegend\":true,\"x\":[1990,1991,1992,1993,1994,1995,1996,1997,1998,1999,2000,2001,2002,2003,2004,2005,2006,2007,2008,2009,2010,2011,2012,2013,2014,2015,2016,2017,2018,2019,2020,2021],\"xaxis\":\"x\",\"y\":[4.653217,5.142773,5.517491,5.760916,6.002476,5.874107,6.224288,6.31209,6.609144,6.875935,7.122416,6.996583,7.185924,7.576801,7.803428,7.957711,8.185408,8.504782,8.717247,8.471739,8.102698,7.789403,7.264032,6.583978,6.952145,6.972964,7.375415,7.525365,7.342546,7.343176,7.269578,7.600422],\"yaxis\":\"y\",\"type\":\"scattergl\"},{\"hovertemplate\":\"Country=Czech Republic<br>Year=%{x}<br>Total=%{y}<extra></extra>\",\"legendgroup\":\"Czech Republic\",\"marker\":{\"color\":\"#636efa\",\"symbol\":\"circle\"},\"mode\":\"markers\",\"name\":\"Czech Republic\",\"showlegend\":true,\"x\":[1990,1991,1992,1993,1994,1995,1996,1997,1998,1999,2000,2001,2002,2003,2004,2005,2006,2007,2008,2009,2010,2011,2012,2013,2014,2015,2016,2017,2018,2019,2020,2021],\"xaxis\":\"x\",\"y\":[164.210748,148.879301,145.710611,140.129093,132.673276,131.627143,135.004354,130.834167,125.427259,116.569943,127.155962,127.030014,123.94689,127.478649,128.247534,125.688561,126.566097,128.369906,122.912256,115.013223,117.482148,115.185836,111.280674,106.711393,104.228848,104.995655,106.655719,107.747749,106.337972,101.012964,91.853879,97.138329],\"yaxis\":\"y\",\"type\":\"scattergl\"},{\"hovertemplate\":\"Country=Denmark<br>Year=%{x}<br>Total=%{y}<extra></extra>\",\"legendgroup\":\"Denmark\",\"marker\":{\"color\":\"#EF553B\",\"symbol\":\"circle\"},\"mode\":\"markers\",\"name\":\"Denmark\",\"showlegend\":true,\"x\":[1990,1991,1992,1993,1994,1995,1996,1997,1998,1999,2000,2001,2002,2003,2004,2005,2006,2007,2008,2009,2010,2011,2012,2013,2014,2015,2016,2017,2018,2019,2020,2021],\"xaxis\":\"x\",\"y\":[53.584858,64.200048,58.390817,60.637233,64.69811,61.614373,74.868583,65.468792,61.237958,58.652424,54.306122,55.896359,55.553625,60.645144,55.099645,51.534638,59.487502,54.709152,51.256206,48.851236,49.203676,44.248111,39.870932,41.772984,37.577747,35.227979,37.033259,34.78027,34.724976,30.955444,28.282029,29.576956],\"yaxis\":\"y\",\"type\":\"scattergl\"},{\"hovertemplate\":\"Country=Estonia<br>Year=%{x}<br>Total=%{y}<extra></extra>\",\"legendgroup\":\"Estonia\",\"marker\":{\"color\":\"#00cc96\",\"symbol\":\"circle\"},\"mode\":\"markers\",\"name\":\"Estonia\",\"showlegend\":true,\"x\":[1990,1991,1992,1993,1994,1995,1996,1997,1998,1999,2000,2001,2002,2003,2004,2005,2006,2007,2008,2009,2010,2011,2012,2013,2014,2015,2016,2017,2018,2019,2020,2021],\"xaxis\":\"x\",\"y\":[36.922213,34.138629,24.422898,19.439861,20.046154,18.066413,19.042308,18.684563,16.94219,15.955205,15.500382,15.900311,15.383117,17.278976,17.342298,17.109785,16.454333,19.966375,17.890232,14.440645,19.002517,18.984222,17.794827,19.697905,18.860397,15.8469,17.559353,18.762487,17.935074,12.38019,9.34301,10.449021],\"yaxis\":\"y\",\"type\":\"scattergl\"},{\"hovertemplate\":\"Country=Finland<br>Year=%{x}<br>Total=%{y}<extra></extra>\",\"legendgroup\":\"Finland\",\"marker\":{\"color\":\"#ab63fa\",\"symbol\":\"circle\"},\"mode\":\"markers\",\"name\":\"Finland\",\"showlegend\":true,\"x\":[1990,1991,1992,1993,1994,1995,1996,1997,1998,1999,2000,2001,2002,2003,2004,2005,2006,2007,2008,2009,2010,2011,2012,2013,2014,2015,2016,2017,2018,2019,2020,2021],\"xaxis\":\"x\",\"y\":[56.914337,55.18876,54.265059,56.313366,61.732669,58.115518,64.033059,62.696172,59.351464,58.866897,57.009923,62.513736,65.04097,72.654324,68.939111,57.047316,68.37069,66.759835,58.620999,55.905073,64.080758,56.637171,51.145686,51.703752,47.595831,44.099095,47.181861,44.577796,45.796461,42.381841,37.595927,37.602328],\"yaxis\":\"y\",\"type\":\"scattergl\"},{\"hovertemplate\":\"Country=France<br>Year=%{x}<br>Total=%{y}<extra></extra>\",\"legendgroup\":\"France\",\"marker\":{\"color\":\"#FFA15A\",\"symbol\":\"circle\"},\"mode\":\"markers\",\"name\":\"France\",\"showlegend\":true,\"x\":[1990,1991,1992,1993,1994,1995,1996,1997,1998,1999,2000,2001,2002,2003,2004,2005,2006,2007,2008,2009,2010,2011,2012,2013,2014,2015,2016,2017,2018,2019,2020,2021],\"xaxis\":\"x\",\"y\":[393.422903,418.367114,406.64833,388.080145,381.908894,386.261878,401.373092,393.94516,413.634368,412.183132,406.828906,411.613943,407.790504,412.534615,413.779944,416.165831,406.462363,396.660526,390.777557,371.045218,376.645427,354.602482,356.912578,358.623337,327.107281,331.579994,334.43978,337.457549,322.526821,316.386776,280.031523,305.96371],\"yaxis\":\"y\",\"type\":\"scattergl\"},{\"hovertemplate\":\"Country=Germany<br>Year=%{x}<br>Total=%{y}<extra></extra>\",\"legendgroup\":\"Germany\",\"marker\":{\"color\":\"#19d3f3\",\"symbol\":\"circle\"},\"mode\":\"markers\",\"name\":\"Germany\",\"showlegend\":true,\"x\":[1990,1991,1992,1993,1994,1995,1996,1997,1998,1999,2000,2001,2002,2003,2004,2005,2006,2007,2008,2009,2010,2011,2012,2013,2014,2015,2016,2017,2018,2019,2020,2021],\"xaxis\":\"x\",\"y\":[1051.979103,1013.824095,965.541817,955.819934,939.492314,938.613565,958.700377,930.870087,922.812222,895.352121,899.351824,916.144477,899.449765,900.627666,886.637162,866.30277,877.938802,851.222968,854.508174,789.89998,832.540983,808.911525,813.693048,831.207653,792.255427,795.55657,800.339834,785.616471,754.408432,707.149948,639.381013,674.753566],\"yaxis\":\"y\",\"type\":\"scattergl\"},{\"hovertemplate\":\"Country=Greece<br>Year=%{x}<br>Total=%{y}<extra></extra>\",\"legendgroup\":\"Greece\",\"marker\":{\"color\":\"#FF6692\",\"symbol\":\"circle\"},\"mode\":\"markers\",\"name\":\"Greece\",\"showlegend\":true,\"x\":[1990,1991,1992,1993,1994,1995,1996,1997,1998,1999,2000,2001,2002,2003,2004,2005,2006,2007,2008,2009,2010,2011,2012,2013,2014,2015,2016,2017,2018,2019,2020,2021],\"xaxis\":\"x\",\"y\":[83.43804,83.407498,84.975654,84.284958,86.430258,86.963204,89.114955,93.801558,98.621793,97.934815,102.973167,105.361862,105.00051,109.066728,109.485277,113.888965,112.419545,114.545692,111.080374,104.319843,97.35415,94.505232,91.392589,81.71326,78.639618,74.927631,71.364164,74.84505,71.78199,65.756232,55.610277,56.309279],\"yaxis\":\"y\",\"type\":\"scattergl\"},{\"hovertemplate\":\"Country=Hungary<br>Year=%{x}<br>Total=%{y}<extra></extra>\",\"legendgroup\":\"Hungary\",\"marker\":{\"color\":\"#B6E880\",\"symbol\":\"circle\"},\"mode\":\"markers\",\"name\":\"Hungary\",\"showlegend\":true,\"x\":[1990,1991,1992,1993,1994,1995,1996,1997,1998,1999,2000,2001,2002,2003,2004,2005,2006,2007,2008,2009,2010,2011,2012,2013,2014,2015,2016,2017,2018,2019,2020,2021],\"xaxis\":\"x\",\"y\":[73.225536,69.656248,62.084832,63.389271,61.786556,61.391314,63.024782,61.623559,61.163666,61.663743,58.365151,59.968212,59.004707,61.756177,60.129554,60.276272,59.633211,58.553668,57.248107,51.464055,52.068732,50.191329,46.757481,43.611553,43.729844,46.65347,47.113086,49.515229,49.463319,49.234646,47.284497,48.454619],\"yaxis\":\"y\",\"type\":\"scattergl\"},{\"hovertemplate\":\"Country=Iceland<br>Year=%{x}<br>Total=%{y}<extra></extra>\",\"legendgroup\":\"Iceland\",\"marker\":{\"color\":\"#FF97FF\",\"symbol\":\"circle\"},\"mode\":\"markers\",\"name\":\"Iceland\",\"showlegend\":true,\"x\":[1990,1991,1992,1993,1994,1995,1996,1997,1998,1999,2000,2001,2002,2003,2004,2005,2006,2007,2008,2009,2010,2011,2012,2013,2014,2015,2016,2017,2018,2019,2020],\"xaxis\":\"x\",\"y\":[2.215856,2.096309,2.242604,2.393481,2.342135,2.459567,2.513641,2.60959,2.628704,2.831173,2.923141,2.855336,2.982484,2.976171,3.100137,2.968443,3.144668,3.483689,3.801137,3.719715,3.616621,3.494164,3.49087,3.48008,3.436352,3.533853,3.485184,3.60162,3.658953,3.546263,3.328876],\"yaxis\":\"y\",\"type\":\"scattergl\"},{\"hovertemplate\":\"Country=Ireland<br>Year=%{x}<br>Total=%{y}<extra></extra>\",\"legendgroup\":\"Ireland\",\"marker\":{\"color\":\"#FECB52\",\"symbol\":\"circle\"},\"mode\":\"markers\",\"name\":\"Ireland\",\"showlegend\":true,\"x\":[1990,1991,1992,1993,1994,1995,1996,1997,1998,1999,2000,2001,2002,2003,2004,2005,2006,2007,2008,2009,2010,2011,2012,2013,2014,2015,2016,2017,2018,2019,2020,2021],\"xaxis\":\"x\",\"y\":[32.94442,33.674307,33.495315,33.716364,34.838447,35.852987,37.46927,38.804985,40.708971,42.440183,45.249116,47.607612,46.081589,45.684109,46.166785,48.156597,47.604659,47.664334,47.363258,42.179308,41.793616,38.056383,38.227157,37.28175,36.853014,38.71804,40.369543,39.078033,39.012368,37.325663,35.153202,37.540329],\"yaxis\":\"y\",\"type\":\"scattergl\"},{\"hovertemplate\":\"Country=Italy<br>Year=%{x}<br>Total=%{y}<extra></extra>\",\"legendgroup\":\"Italy\",\"marker\":{\"color\":\"#636efa\",\"symbol\":\"circle\"},\"mode\":\"markers\",\"name\":\"Italy\",\"showlegend\":true,\"x\":[1990,1991,1992,1993,1994,1995,1996,1997,1998,1999,2000,2001,2002,2003,2004,2005,2006,2007,2008,2009,2010,2011,2012,2013,2014,2015,2016,2017,2018,2019,2020,2021],\"xaxis\":\"x\",\"y\":[439.54984,439.094125,439.31532,431.604813,425.796827,449.826113,444.029375,449.754151,461.945962,466.424936,470.487187,470.568081,477.998974,495.96164,501.563232,502.255442,496.846732,490.566288,478.868679,424.694439,436.117437,424.25627,403.696912,369.67972,349.390357,361.163177,358.182542,352.735387,349.005042,339.233207,302.2786,328.68732],\"yaxis\":\"y\",\"type\":\"scattergl\"},{\"hovertemplate\":\"Country=Japan<br>Year=%{x}<br>Total=%{y}<extra></extra>\",\"legendgroup\":\"Japan\",\"marker\":{\"color\":\"#EF553B\",\"symbol\":\"circle\"},\"mode\":\"markers\",\"name\":\"Japan\",\"showlegend\":true,\"x\":[1990,1991,1992,1993,1994,1995,1996,1997,1998,1999,2000,2001,2002,2003,2004,2005,2006,2007,2008,2009,2010,2011,2012,2013,2014,2015,2016,2017,2018,2019,2020,2021],\"xaxis\":\"x\",\"y\":[1158.129439,1169.777716,1179.504316,1172.487308,1227.513532,1239.9094,1252.447045,1245.13936,1205.249923,1241.835604,1264.594656,1249.988539,1279.3623,1287.691834,1283.076662,1290.599508,1267.623958,1303.36203,1232.480695,1163.375134,1215.058103,1265.034863,1306.182513,1315.5687,1264.413251,1223.605161,1203.888206,1188.358949,1143.411908,1106.015486,1042.224016,1067.398435],\"yaxis\":\"y\",\"type\":\"scattergl\"},{\"hovertemplate\":\"Country=Kazakhstan<br>Year=%{x}<br>Total=%{y}<extra></extra>\",\"legendgroup\":\"Kazakhstan\",\"marker\":{\"color\":\"#00cc96\",\"symbol\":\"circle\"},\"mode\":\"markers\",\"name\":\"Kazakhstan\",\"showlegend\":true,\"x\":[1990,1991,1992,1993,1994,1995,1996,1997,1998,1999,2000,2001,2002,2003,2004,2005,2006,2007,2008,2009,2010,2011,2012,2013,2014,2015,2016,2017,2018,2019,2020,2021],\"xaxis\":\"x\",\"y\":[278.781769,269.489798,245.215827,217.963803,184.332707,177.082247,162.760497,154.166198,148.818172,123.721703,147.473712,142.295087,159.971295,177.823927,187.304225,200.43793,220.048086,226.128841,227.121447,221.057174,246.982754,237.033962,243.921902,251.452709,297.643502,301.273154,304.839535,320.791449,331.8207,297.569458,278.404593,276.68346],\"yaxis\":\"y\",\"type\":\"scattergl\"},{\"hovertemplate\":\"Country=Latvia<br>Year=%{x}<br>Total=%{y}<extra></extra>\",\"legendgroup\":\"Latvia\",\"marker\":{\"color\":\"#ab63fa\",\"symbol\":\"circle\"},\"mode\":\"markers\",\"name\":\"Latvia\",\"showlegend\":true,\"x\":[1990,1991,1992,1993,1994,1995,1996,1997,1998,1999,2000,2001,2002,2003,2004,2005,2006,2007,2008,2009,2010,2011,2012,2013,2014,2015,2016,2017,2018,2019,2020,2021],\"xaxis\":\"x\",\"y\":[19.661396,17.919401,14.193356,11.921497,10.370008,9.133782,9.211501,8.679764,8.305879,7.717713,7.081469,7.496323,7.520245,7.725858,7.730934,7.810471,8.309829,8.637101,8.197894,7.456006,8.554094,7.810795,7.51941,7.368437,7.171961,7.262099,7.210325,7.214946,7.859363,7.648673,6.994113,7.266214],\"yaxis\":\"y\",\"type\":\"scattergl\"},{\"hovertemplate\":\"Country=Liechtenstein<br>Year=%{x}<br>Total=%{y}<extra></extra>\",\"legendgroup\":\"Liechtenstein\",\"marker\":{\"color\":\"#FFA15A\",\"symbol\":\"circle\"},\"mode\":\"markers\",\"name\":\"Liechtenstein\",\"showlegend\":true,\"x\":[1990,1991,1992,1993,1994,1995,1996,1997,1998,1999,2000,2001,2002,2003,2004,2005,2006,2007,2008,2009,2010,2011,2012,2013,2014,2015,2016,2017,2018,2019,2020,2021],\"xaxis\":\"x\",\"y\":[0.198971,0.206329,0.20695,0.215034,0.201111,0.204202,0.20596,0.218376,0.229239,0.226566,0.21686,0.214671,0.220018,0.229355,0.229391,0.228986,0.231121,0.200794,0.219536,0.205375,0.19083,0.176782,0.185325,0.192545,0.161259,0.159774,0.149838,0.155769,0.14295,0.149026,0.141996,0.15095],\"yaxis\":\"y\",\"type\":\"scattergl\"},{\"hovertemplate\":\"Country=Lithuania<br>Year=%{x}<br>Total=%{y}<extra></extra>\",\"legendgroup\":\"Lithuania\",\"marker\":{\"color\":\"#19d3f3\",\"symbol\":\"circle\"},\"mode\":\"markers\",\"name\":\"Lithuania\",\"showlegend\":true,\"x\":[1990,1991,1992,1993,1994,1995,1996,1997,1998,1999,2000,2001,2002,2003,2004,2005,2006,2007,2008,2009,2010,2011,2012,2013,2014,2015,2016,2017,2018,2019,2020,2021],\"xaxis\":\"x\",\"y\":[35.767734,37.849997,21.201457,16.353746,15.801144,15.091554,15.773444,15.196349,16.030578,13.482975,11.8764,12.627074,12.69916,12.692601,13.287306,14.117414,14.434081,15.824054,15.20423,13.043233,13.946613,14.292825,14.349487,13.355973,13.108084,13.319679,13.351177,13.571834,13.691349,13.923306,13.653155,13.880837],\"yaxis\":\"y\",\"type\":\"scattergl\"},{\"hovertemplate\":\"Country=Luxembourg<br>Year=%{x}<br>Total=%{y}<extra></extra>\",\"legendgroup\":\"Luxembourg\",\"marker\":{\"color\":\"#FF6692\",\"symbol\":\"circle\"},\"mode\":\"markers\",\"name\":\"Luxembourg\",\"showlegend\":true,\"x\":[1990,1991,1992,1993,1994,1995,1996,1997,1998,1999,2000,2001,2002,2003,2004,2005,2006,2007,2008,2009,2010,2011,2012,2013,2014,2015,2016,2017,2018,2019,2020,2021],\"xaxis\":\"x\",\"y\":[11.823353,12.443151,12.209723,12.354764,11.542475,9.151729,9.201614,8.55397,7.675949,8.127875,8.709963,9.207531,9.983685,10.45917,11.829091,12.087836,11.920357,11.31778,11.184473,10.638966,11.202164,11.102959,10.867476,10.325364,9.828191,9.347466,9.089235,9.261198,9.566671,9.751728,8.096513,8.354555],\"yaxis\":\"y\",\"type\":\"scattergl\"},{\"hovertemplate\":\"Country=Malta<br>Year=%{x}<br>Total=%{y}<extra></extra>\",\"legendgroup\":\"Malta\",\"marker\":{\"color\":\"#B6E880\",\"symbol\":\"circle\"},\"mode\":\"markers\",\"name\":\"Malta\",\"showlegend\":true,\"x\":[1990,1991,1992,1993,1994,1995,1996,1997,1998,1999,2000,2001,2002,2003,2004,2005,2006,2007,2008,2009,2010,2011,2012,2013,2014,2015,2016,2017,2018,2019,2020,2021],\"xaxis\":\"x\",\"y\":[2.394194,2.238107,2.29208,2.870399,2.647929,2.43942,2.550535,2.556728,2.513582,2.591822,2.507257,2.647718,2.687784,2.960534,2.819964,2.644672,2.661658,2.731301,2.739894,2.527633,2.589131,2.577198,2.726207,2.37919,2.364387,1.665291,1.356353,1.530878,1.546948,1.649193,1.599576,1.724154],\"yaxis\":\"y\",\"type\":\"scattergl\"},{\"hovertemplate\":\"Country=Netherlands<br>Year=%{x}<br>Total=%{y}<extra></extra>\",\"legendgroup\":\"Netherlands\",\"marker\":{\"color\":\"#FF97FF\",\"symbol\":\"circle\"},\"mode\":\"markers\",\"name\":\"Netherlands\",\"showlegend\":true,\"x\":[1990,1991,1992,1993,1994,1995,1996,1997,1998,1999,2000,2001,2002,2003,2004,2005,2006,2007,2008,2009,2010,2011,2012,2013,2014,2015,2016,2017,2018,2019,2020,2021],\"xaxis\":\"x\",\"y\":[161.806917,170.227322,170.015192,170.206051,170.787558,172.300139,181.452353,174.492784,175.461134,169.934487,171.08223,176.207519,175.567735,179.005305,180.891772,176.91731,172.092066,171.874012,174.853119,169.529326,181.526727,168.25966,164.688781,164.674489,157.655585,164.142511,164.862023,162.493965,158.62784,153.032807,137.849518,141.045431],\"yaxis\":\"y\",\"type\":\"scattergl\"},{\"hovertemplate\":\"Country=New Zealand<br>Year=%{x}<br>Total=%{y}<extra></extra>\",\"legendgroup\":\"New Zealand\",\"marker\":{\"color\":\"#FECB52\",\"symbol\":\"circle\"},\"mode\":\"markers\",\"name\":\"New Zealand\",\"showlegend\":true,\"x\":[1990,1991,1992,1993,1994,1995,1996,1997,1998,1999,2000,2001,2002,2003,2004,2005,2006,2007,2008,2009,2010,2011,2012,2013,2014,2015,2016,2017,2018,2019,2020,2021],\"xaxis\":\"x\",\"y\":[25.502507,26.182595,28.166921,27.761185,27.900043,28.003492,29.304544,31.278675,29.85854,31.46559,32.246009,34.379213,34.542293,36.241474,35.836298,37.42407,37.33016,36.410664,37.509257,34.620669,34.811084,34.265851,35.94509,35.241004,35.438926,35.813107,34.152639,35.688127,35.704539,37.121034,34.456753,33.789825],\"yaxis\":\"y\",\"type\":\"scattergl\"},{\"hovertemplate\":\"Country=Norway<br>Year=%{x}<br>Total=%{y}<extra></extra>\",\"legendgroup\":\"Norway\",\"marker\":{\"color\":\"#636efa\",\"symbol\":\"circle\"},\"mode\":\"markers\",\"name\":\"Norway\",\"showlegend\":true,\"x\":[1990,1991,1992,1993,1994,1995,1996,1997,1998,1999,2000,2001,2002,2003,2004,2005,2006,2007,2008,2009,2010,2011,2012,2013,2014,2015,2016,2017,2018,2019,2020,2021],\"xaxis\":\"x\",\"y\":[35.097,33.535,34.455,36.0,37.905,38.508,41.572,41.734,41.871,42.636,42.147,43.526,42.592,43.98,44.307,43.342,43.926,45.666,44.795,43.225,45.691,44.791,44.3,44.586,45.046,45.59,44.765,44.242,44.393,42.784,41.196,40.918553],\"yaxis\":\"y\",\"type\":\"scattergl\"},{\"hovertemplate\":\"Country=Poland<br>Year=%{x}<br>Total=%{y}<extra></extra>\",\"legendgroup\":\"Poland\",\"marker\":{\"color\":\"#EF553B\",\"symbol\":\"circle\"},\"mode\":\"markers\",\"name\":\"Poland\",\"showlegend\":true,\"x\":[1990,1991,1992,1993,1994,1995,1996,1997,1998,1999,2000,2001,2002,2003,2004,2005,2006,2007,2008,2009,2010,2011,2012,2013,2014,2015,2016,2017,2018,2019,2020,2021],\"xaxis\":\"x\",\"y\":[376.813577,373.834442,364.748781,365.448045,360.522221,362.892258,377.577851,367.524628,339.365274,329.552343,317.719195,313.849975,306.610293,319.624035,324.436208,323.409481,337.317578,336.731479,330.485117,316.868513,334.916988,334.337154,326.734935,322.651181,310.3191,313.455719,324.381233,337.734951,337.048486,318.487666,303.523082,328.579763],\"yaxis\":\"y\",\"type\":\"scattergl\"},{\"hovertemplate\":\"Country=Portugal<br>Year=%{x}<br>Total=%{y}<extra></extra>\",\"legendgroup\":\"Portugal\",\"marker\":{\"color\":\"#00cc96\",\"symbol\":\"circle\"},\"mode\":\"markers\",\"name\":\"Portugal\",\"showlegend\":true,\"x\":[1990,1991,1992,1993,1994,1995,1996,1997,1998,1999,2000,2001,2002,2003,2004,2005,2006,2007,2008,2009,2010,2011,2012,2013,2014,2015,2016,2017,2018,2019,2020,2021],\"xaxis\":\"x\",\"y\":[45.325085,47.14164,50.969942,49.483611,50.261173,54.524438,51.815227,54.69441,59.247501,66.899642,65.685547,65.237192,69.643312,64.53789,67.385154,69.717987,64.923915,62.437402,60.106794,57.20748,53.001358,51.801576,49.959709,48.163477,47.945815,52.270289,50.442234,55.210185,51.459107,47.618826,41.799894,40.797216],\"yaxis\":\"y\",\"type\":\"scattergl\"},{\"hovertemplate\":\"Country=South Korea<br>Year=%{x}<br>Total=%{y}<extra></extra>\",\"legendgroup\":\"South Korea\",\"marker\":{\"color\":\"#ab63fa\",\"symbol\":\"circle\"},\"mode\":\"markers\",\"name\":\"South Korea\",\"showlegend\":true,\"x\":[1990,1991,1992,1993,1994,1995,1996,1997,1998,1999,2000,2001,2002,2003,2004,2005,2006,2007,2008,2009,2010,2011,2012,2013,2014,2015,2016,2017,2018,2019,2020,2021],\"xaxis\":\"x\",\"y\":[250.510837,275.688225,299.905413,330.173952,355.694835,383.665454,421.058363,444.989603,378.052437,410.537126,439.980692,455.630633,476.06488,485.212785,491.389426,498.688299,503.478183,521.708715,532.650764,537.819831,594.33911,623.442837,627.943034,634.580703,629.366484,634.177278,637.914084,654.537269,670.168699,646.102263,597.634242,616.074996],\"yaxis\":\"y\",\"type\":\"scattergl\"},{\"hovertemplate\":\"Country=Romania<br>Year=%{x}<br>Total=%{y}<extra></extra>\",\"legendgroup\":\"Romania\",\"marker\":{\"color\":\"#FFA15A\",\"symbol\":\"circle\"},\"mode\":\"markers\",\"name\":\"Romania\",\"showlegend\":true,\"x\":[1990,1991,1992,1993,1994,1995,1996,1997,1998,1999,2000,2001,2002,2003,2004,2005,2006,2007,2008,2009,2010,2011,2012,2013,2014,2015,2016,2017,2018,2019,2020,2021],\"xaxis\":\"x\",\"y\":[173.46387,141.91528,131.509918,122.278576,120.542332,125.582627,128.935578,117.96281,104.398871,88.357129,92.668296,98.150928,98.356844,102.844232,102.109621,100.241794,103.180297,107.886681,105.851799,87.002447,84.632654,91.754477,90.239246,78.929516,78.453481,77.996265,77.011532,80.042942,80.516214,77.030616,74.138009,79.32686],\"yaxis\":\"y\",\"type\":\"scattergl\"},{\"hovertemplate\":\"Country=Russia<br>Year=%{x}<br>Total=%{y}<extra></extra>\",\"legendgroup\":\"Russia\",\"marker\":{\"color\":\"#19d3f3\",\"symbol\":\"circle\"},\"mode\":\"markers\",\"name\":\"Russia\",\"showlegend\":true,\"x\":[1990,1991,1992,1993,1994,1995,1996,1997,1998,1999,2000,2001,2002,2003,2004,2005,2006,2007,2008,2009,2010,2011,2012,2013,2014,2015,2016,2017,2018,2019,2020,2021],\"xaxis\":\"x\",\"y\":[2534.86506,2405.531915,1965.610204,1865.939469,1646.941737,1618.95117,1586.172896,1481.61877,1464.542998,1493.155061,1478.184753,1514.713521,1505.520171,1535.293112,1541.753926,1559.08276,1618.246151,1618.586183,1646.969024,1539.305658,1626.187553,1679.278427,1694.576422,1632.716418,1631.662227,1629.713151,1624.756335,1654.154022,1700.45284,1692.363414,1624.221431,1755.54739],\"yaxis\":\"y\",\"type\":\"scattergl\"},{\"hovertemplate\":\"Country=Slovakia<br>Year=%{x}<br>Total=%{y}<extra></extra>\",\"legendgroup\":\"Slovakia\",\"marker\":{\"color\":\"#FF6692\",\"symbol\":\"circle\"},\"mode\":\"markers\",\"name\":\"Slovakia\",\"showlegend\":true,\"x\":[1990,1991,1992,1993,1994,1995,1996,1997,1998,1999,2000,2001,2002,2003,2004,2005,2006,2007,2008,2009,2010,2011,2012,2013,2014,2015,2016,2017,2018,2019,2020,2021],\"xaxis\":\"x\",\"y\":[61.470187,53.283798,48.884203,46.348516,43.754326,44.142329,44.023477,44.095513,43.824664,43.035493,41.135935,43.220929,41.960933,42.293771,42.780235,42.788856,42.552108,40.968268,41.359045,37.622061,38.403931,37.984837,35.910395,35.565563,33.656215,34.468229,34.912876,36.112652,36.102971,33.776188,31.094728,35.308218],\"yaxis\":\"y\",\"type\":\"scattergl\"},{\"hovertemplate\":\"Country=Slovenia<br>Year=%{x}<br>Total=%{y}<extra></extra>\",\"legendgroup\":\"Slovenia\",\"marker\":{\"color\":\"#B6E880\",\"symbol\":\"circle\"},\"mode\":\"markers\",\"name\":\"Slovenia\",\"showlegend\":true,\"x\":[1990,1991,1992,1993,1994,1995,1996,1997,1998,1999,2000,2001,2002,2003,2004,2005,2006,2007,2008,2009,2010,2011,2012,2013,2014,2015,2016,2017,2018,2019,2020,2021],\"xaxis\":\"x\",\"y\":[15.094849,13.974238,13.88342,14.247177,14.636503,15.35418,15.999325,16.50685,16.038877,15.41235,15.05369,16.302567,16.564489,16.271331,16.704502,16.932322,17.178324,17.342812,18.278409,16.204024,16.459522,16.358579,15.760511,15.133322,13.56817,13.653307,14.464584,14.622025,14.526712,14.048142,12.866237,12.54933],\"yaxis\":\"y\",\"type\":\"scattergl\"},{\"hovertemplate\":\"Country=Spain<br>Year=%{x}<br>Total=%{y}<extra></extra>\",\"legendgroup\":\"Spain\",\"marker\":{\"color\":\"#FF97FF\",\"symbol\":\"circle\"},\"mode\":\"markers\",\"name\":\"Spain\",\"showlegend\":true,\"x\":[1990,1991,1992,1993,1994,1995,1996,1997,1998,1999,2000,2001,2002,2003,2004,2005,2006,2007,2008,2009,2010,2011,2012,2013,2014,2015,2016,2017,2018,2019,2020,2021],\"xaxis\":\"x\",\"y\":[231.328439,241.074298,249.939228,241.298918,253.803789,267.577468,255.04906,267.589849,276.184605,299.72214,311.674624,313.620597,333.730307,338.04587,354.827957,370.065779,361.12033,368.985581,337.182422,297.7478,284.282684,285.132255,279.384956,253.102713,255.4591,272.16466,261.227657,275.053205,270.052271,251.825149,213.339721,233.649543],\"yaxis\":\"y\",\"type\":\"scattergl\"},{\"hovertemplate\":\"Country=Sweden<br>Year=%{x}<br>Total=%{y}<extra></extra>\",\"legendgroup\":\"Sweden\",\"marker\":{\"color\":\"#FECB52\",\"symbol\":\"circle\"},\"mode\":\"markers\",\"name\":\"Sweden\",\"showlegend\":true,\"x\":[1990,1991,1992,1993,1994,1995,1996,1997,1998,1999,2000,2001,2002,2003,2004,2005,2006,2007,2008,2009,2010,2011,2012,2013,2014,2015,2016,2017,2018,2019,2020,2021],\"xaxis\":\"x\",\"y\":[57.58009,57.950551,57.6889,57.725985,60.186577,59.605074,63.521837,58.425368,58.893226,56.031844,54.890663,55.821961,56.791591,57.371496,56.682884,54.066087,53.885099,53.151971,51.070465,47.421459,53.287345,49.405178,46.918582,45.351341,43.477929,43.741733,43.415985,42.704238,42.094909,40.982492,36.515101,35.848949],\"yaxis\":\"y\",\"type\":\"scattergl\"},{\"hovertemplate\":\"Country=Switzerland<br>Year=%{x}<br>Total=%{y}<extra></extra>\",\"legendgroup\":\"Switzerland\",\"marker\":{\"color\":\"#636efa\",\"symbol\":\"circle\"},\"mode\":\"markers\",\"name\":\"Switzerland\",\"showlegend\":true,\"x\":[1990,1991,1992,1993,1994,1995,1996,1997,1998,1999,2000,2001,2002,2003,2004,2005,2006,2007,2008,2009,2010,2011,2012,2013,2014,2015,2016,2017,2018,2019,2020,2021],\"xaxis\":\"x\",\"y\":[44.159882,46.133385,46.016512,43.61187,42.676629,43.419264,44.107436,43.047483,44.622854,44.445646,43.622369,45.077498,43.463863,44.647716,45.238267,45.778558,45.373349,43.368761,44.710572,43.538552,45.045709,40.985233,42.253032,43.187726,39.233632,38.73182,39.185341,38.178641,36.873818,36.733064,34.240967,34.931692],\"yaxis\":\"y\",\"type\":\"scattergl\"},{\"hovertemplate\":\"Country=Taiwan<br>Year=%{x}<br>Total=%{y}<extra></extra>\",\"legendgroup\":\"Taiwan\",\"marker\":{\"color\":\"#EF553B\",\"symbol\":\"circle\"},\"mode\":\"markers\",\"name\":\"Taiwan\",\"showlegend\":true,\"x\":[1990,1991,1992,1993,1994,1995,1996,1997,1998,1999,2000,2001,2002,2003,2004,2005,2006,2007,2008,2009,2010,2011,2012,2013,2014,2015,2016,2017,2018,2019,2020,2021],\"xaxis\":\"x\",\"y\":[124.079,133.597,142.182,153.801,161.168,168.88,176.787,190.548,200.163,207.799,226.983,229.927,237.65,248.401,257.883,266.46,276.159,279.8,266.595,252.505,270.148,276.283,272.756,273.797,276.311,275.836,279.705,284.821,282.843,273.515,264.267187,282.856073],\"yaxis\":\"y\",\"type\":\"scattergl\"},{\"hovertemplate\":\"Country=Turkey<br>Year=%{x}<br>Total=%{y}<extra></extra>\",\"legendgroup\":\"Turkey\",\"marker\":{\"color\":\"#00cc96\",\"symbol\":\"circle\"},\"mode\":\"markers\",\"name\":\"Turkey\",\"showlegend\":true,\"x\":[1990,1991,1992,1993,1994,1995,1996,1997,1998,1999,2000,2001,2002,2003,2004,2005,2006,2007,2008,2009,2010,2011,2012,2013,2014,2015,2016,2017,2018,2019,2020,2021],\"xaxis\":\"x\",\"y\":[151.664532,158.140727,164.061435,171.133724,167.560891,181.481826,199.582745,212.037409,212.069926,207.857771,229.858207,213.483471,221.148221,236.68329,244.688735,264.768615,282.266691,313.578157,310.532303,316.319322,316.036475,341.862344,355.88264,347.152667,363.866339,384.330489,405.304505,430.220402,422.568908,401.719742,413.433085,446.204185],\"yaxis\":\"y\",\"type\":\"scattergl\"},{\"hovertemplate\":\"Country=Ukraine<br>Year=%{x}<br>Total=%{y}<extra></extra>\",\"legendgroup\":\"Ukraine\",\"marker\":{\"color\":\"#ab63fa\",\"symbol\":\"circle\"},\"mode\":\"markers\",\"name\":\"Ukraine\",\"showlegend\":true,\"x\":[1990,1991,1992,1993,1994,1995,1996,1997,1998,1999,2000,2001,2002,2003,2004,2005,2006,2007,2008,2009,2010,2011,2012,2013,2014,2015,2016,2017,2018,2019,2020,2021],\"xaxis\":\"x\",\"y\":[705.830043,632.536676,589.060298,510.199583,419.266344,389.864657,351.408793,340.242725,328.576744,298.178287,285.321939,303.561756,295.673973,306.998709,310.270626,313.066891,332.613143,336.351221,325.536205,277.296698,294.110664,307.956066,303.976228,297.251191,257.510818,223.824094,234.008459,223.087077,231.674691,222.056698,206.941159,201.857716],\"yaxis\":\"y\",\"type\":\"scattergl\"},{\"hovertemplate\":\"Country=United Kingdom<br>Year=%{x}<br>Total=%{y}<extra></extra>\",\"legendgroup\":\"United Kingdom\",\"marker\":{\"color\":\"#FFA15A\",\"symbol\":\"circle\"},\"mode\":\"markers\",\"name\":\"United Kingdom\",\"showlegend\":true,\"x\":[1990,1991,1992,1993,1994,1995,1996,1997,1998,1999,2000,2001,2002,2003,2004,2005,2006,2007,2008,2009,2010,2011,2012,2013,2014,2015,2016,2017,2018,2019,2020,2021],\"xaxis\":\"x\",\"y\":[601.945078,609.412673,593.845922,579.612537,574.01689,566.158959,586.760676,562.708106,568.543698,561.649574,569.033716,577.970573,560.2732,571.618782,573.429762,570.33837,567.845659,559.566476,544.932405,494.107701,511.904582,469.713315,487.476776,477.611268,438.807081,422.460794,399.430131,387.367141,379.729755,364.753306,326.263199,346.773181],\"yaxis\":\"y\",\"type\":\"scattergl\"},{\"hovertemplate\":\"Country=USA<br>Year=%{x}<br>Total=%{y}<extra></extra>\",\"legendgroup\":\"USA\",\"marker\":{\"color\":\"#19d3f3\",\"symbol\":\"circle\"},\"mode\":\"markers\",\"name\":\"USA\",\"showlegend\":true,\"x\":[1904,1905,1906,1907,1908,1909,1910,1911,1912,1913,1914,1915,1916,1917,1918,1919,1920,1921,1922,1923,1924,1925,1926,1927,1928,1929,1930,1931,1932,1933,1934,1935,1936,1937,1938,1939,1940,1941,1942,1943,1944,1945,1946,1947,1948,1949,1950,1951,1952,1953,1954,1955,1956,1957,1958,1959,1960,1961,1962,1963,1964,1965,1966,1967,1968,1969,1970,1971,1972,1973,1974,1975,1976,1977,1978,1979,1980,1981,1982,1983,1984,1985,1986,1987,1988,1989,1990,1991,1992,1993,1994,1995,1996,1997,1998,1999,2000,2001,2002,2003,2004,2005,2006,2007,2008,2009,2010,2011,2012,2013,2014,2015,2016,2017,2018,2019,2020,2021],\"xaxis\":\"x\",\"y\":[882.057539,986.482442,1035.471247,1203.861422,1052.812895,1165.706127,1271.582074,1258.666567,1343.565524,1442.542088,1317.980254,1367.697,1518.980682,1670.970621,1747.718115,1479.158854,1738.245746,1423.668621,1435.758303,1896.735797,1698.320274,1758.185375,1906.048416,1862.839089,1830.964925,1963.506247,1744.916289,1484.959144,1257.814095,1348.876843,1436.238662,1492.320967,1713.411699,1792.609877,1515.749834,1670.920467,1874.985099,2043.5849,2198.264975,2272.05905,2444.903503,2359.55147,2257.493764,2485.854436,2582.558492,2164.862411,2541.485265,2618.711623,2551.219405,2612.97111,2489.462061,2728.511904,2859.994777,2835.772132,2747.107657,2831.923117,2897.31526,2886.8727,2993.902031,3126.48747,3264.313805,3399.546756,3571.421314,3705.460953,3840.919556,4035.14534,4339.686007,4365.465254,4573.015379,4785.048993,4621.045771,4478.225949,4747.762413,4889.607301,4941.361664,5008.578779,4808.520356,4686.369198,4447.255938,4429.374051,4662.141491,4652.579989,4663.369645,4825.650651,5050.475381,5132.134279,5122.496248,5064.987175,5175.219975,5274.36263,5365.578825,5427.798477,5616.430864,5691.864597,5737.12937,5810.331395,6016.350574,5911.988517,5952.698581,6015.804219,6117.962686,6137.603445,6057.163161,6135.287208,5918.868654,5482.977899,5681.392035,5546.628958,5345.454261,5480.926097,5528.871276,5376.577933,5251.757629,5210.957584,5376.657233,5259.143836,4715.691109,5007.335889],\"yaxis\":\"y\",\"type\":\"scattergl\"},{\"hovertemplate\":\"Country=Global<br>Year=%{x}<br>Total=%{y}<extra></extra>\",\"legendgroup\":\"Global\",\"marker\":{\"color\":\"#FF6692\",\"symbol\":\"circle\"},\"mode\":\"markers\",\"name\":\"Global\",\"showlegend\":true,\"x\":[1990,1991,1992,1993,1994,1995,1996,1997,1998,1999,2000,2001,2002,2003,2004,2005,2006,2007,2008,2009,2010,2011,2012,2013,2014,2015,2016,2017,2018,2019,2020,2021],\"xaxis\":\"x\",\"y\":[22757.480501,23244.805747,22580.023401,22812.899822,22969.498357,23458.713064,24159.382272,24302.583028,24213.260513,24732.388369,25453.622139,25668.048326,26281.037468,27651.596453,28636.695037,29614.602256,30593.116788,31506.7892,32085.836322,31564.030692,33364.346496,34487.011618,35006.267581,35319.201624,35577.534774,35558.565735,35524.193212,36096.739276,36826.5066,37082.558969,35264.085734,37123.850352],\"yaxis\":\"y\",\"type\":\"scattergl\"}],                        {\"template\":{\"data\":{\"histogram2dcontour\":[{\"type\":\"histogram2dcontour\",\"colorbar\":{\"outlinewidth\":0,\"ticks\":\"\"},\"colorscale\":[[0.0,\"#0d0887\"],[0.1111111111111111,\"#46039f\"],[0.2222222222222222,\"#7201a8\"],[0.3333333333333333,\"#9c179e\"],[0.4444444444444444,\"#bd3786\"],[0.5555555555555556,\"#d8576b\"],[0.6666666666666666,\"#ed7953\"],[0.7777777777777778,\"#fb9f3a\"],[0.8888888888888888,\"#fdca26\"],[1.0,\"#f0f921\"]]}],\"choropleth\":[{\"type\":\"choropleth\",\"colorbar\":{\"outlinewidth\":0,\"ticks\":\"\"}}],\"histogram2d\":[{\"type\":\"histogram2d\",\"colorbar\":{\"outlinewidth\":0,\"ticks\":\"\"},\"colorscale\":[[0.0,\"#0d0887\"],[0.1111111111111111,\"#46039f\"],[0.2222222222222222,\"#7201a8\"],[0.3333333333333333,\"#9c179e\"],[0.4444444444444444,\"#bd3786\"],[0.5555555555555556,\"#d8576b\"],[0.6666666666666666,\"#ed7953\"],[0.7777777777777778,\"#fb9f3a\"],[0.8888888888888888,\"#fdca26\"],[1.0,\"#f0f921\"]]}],\"heatmap\":[{\"type\":\"heatmap\",\"colorbar\":{\"outlinewidth\":0,\"ticks\":\"\"},\"colorscale\":[[0.0,\"#0d0887\"],[0.1111111111111111,\"#46039f\"],[0.2222222222222222,\"#7201a8\"],[0.3333333333333333,\"#9c179e\"],[0.4444444444444444,\"#bd3786\"],[0.5555555555555556,\"#d8576b\"],[0.6666666666666666,\"#ed7953\"],[0.7777777777777778,\"#fb9f3a\"],[0.8888888888888888,\"#fdca26\"],[1.0,\"#f0f921\"]]}],\"heatmapgl\":[{\"type\":\"heatmapgl\",\"colorbar\":{\"outlinewidth\":0,\"ticks\":\"\"},\"colorscale\":[[0.0,\"#0d0887\"],[0.1111111111111111,\"#46039f\"],[0.2222222222222222,\"#7201a8\"],[0.3333333333333333,\"#9c179e\"],[0.4444444444444444,\"#bd3786\"],[0.5555555555555556,\"#d8576b\"],[0.6666666666666666,\"#ed7953\"],[0.7777777777777778,\"#fb9f3a\"],[0.8888888888888888,\"#fdca26\"],[1.0,\"#f0f921\"]]}],\"contourcarpet\":[{\"type\":\"contourcarpet\",\"colorbar\":{\"outlinewidth\":0,\"ticks\":\"\"}}],\"contour\":[{\"type\":\"contour\",\"colorbar\":{\"outlinewidth\":0,\"ticks\":\"\"},\"colorscale\":[[0.0,\"#0d0887\"],[0.1111111111111111,\"#46039f\"],[0.2222222222222222,\"#7201a8\"],[0.3333333333333333,\"#9c179e\"],[0.4444444444444444,\"#bd3786\"],[0.5555555555555556,\"#d8576b\"],[0.6666666666666666,\"#ed7953\"],[0.7777777777777778,\"#fb9f3a\"],[0.8888888888888888,\"#fdca26\"],[1.0,\"#f0f921\"]]}],\"surface\":[{\"type\":\"surface\",\"colorbar\":{\"outlinewidth\":0,\"ticks\":\"\"},\"colorscale\":[[0.0,\"#0d0887\"],[0.1111111111111111,\"#46039f\"],[0.2222222222222222,\"#7201a8\"],[0.3333333333333333,\"#9c179e\"],[0.4444444444444444,\"#bd3786\"],[0.5555555555555556,\"#d8576b\"],[0.6666666666666666,\"#ed7953\"],[0.7777777777777778,\"#fb9f3a\"],[0.8888888888888888,\"#fdca26\"],[1.0,\"#f0f921\"]]}],\"mesh3d\":[{\"type\":\"mesh3d\",\"colorbar\":{\"outlinewidth\":0,\"ticks\":\"\"}}],\"scatter\":[{\"fillpattern\":{\"fillmode\":\"overlay\",\"size\":10,\"solidity\":0.2},\"type\":\"scatter\"}],\"parcoords\":[{\"type\":\"parcoords\",\"line\":{\"colorbar\":{\"outlinewidth\":0,\"ticks\":\"\"}}}],\"scatterpolargl\":[{\"type\":\"scatterpolargl\",\"marker\":{\"colorbar\":{\"outlinewidth\":0,\"ticks\":\"\"}}}],\"bar\":[{\"error_x\":{\"color\":\"#2a3f5f\"},\"error_y\":{\"color\":\"#2a3f5f\"},\"marker\":{\"line\":{\"color\":\"#E5ECF6\",\"width\":0.5},\"pattern\":{\"fillmode\":\"overlay\",\"size\":10,\"solidity\":0.2}},\"type\":\"bar\"}],\"scattergeo\":[{\"type\":\"scattergeo\",\"marker\":{\"colorbar\":{\"outlinewidth\":0,\"ticks\":\"\"}}}],\"scatterpolar\":[{\"type\":\"scatterpolar\",\"marker\":{\"colorbar\":{\"outlinewidth\":0,\"ticks\":\"\"}}}],\"histogram\":[{\"marker\":{\"pattern\":{\"fillmode\":\"overlay\",\"size\":10,\"solidity\":0.2}},\"type\":\"histogram\"}],\"scattergl\":[{\"type\":\"scattergl\",\"marker\":{\"colorbar\":{\"outlinewidth\":0,\"ticks\":\"\"}}}],\"scatter3d\":[{\"type\":\"scatter3d\",\"line\":{\"colorbar\":{\"outlinewidth\":0,\"ticks\":\"\"}},\"marker\":{\"colorbar\":{\"outlinewidth\":0,\"ticks\":\"\"}}}],\"scattermapbox\":[{\"type\":\"scattermapbox\",\"marker\":{\"colorbar\":{\"outlinewidth\":0,\"ticks\":\"\"}}}],\"scatterternary\":[{\"type\":\"scatterternary\",\"marker\":{\"colorbar\":{\"outlinewidth\":0,\"ticks\":\"\"}}}],\"scattercarpet\":[{\"type\":\"scattercarpet\",\"marker\":{\"colorbar\":{\"outlinewidth\":0,\"ticks\":\"\"}}}],\"carpet\":[{\"aaxis\":{\"endlinecolor\":\"#2a3f5f\",\"gridcolor\":\"white\",\"linecolor\":\"white\",\"minorgridcolor\":\"white\",\"startlinecolor\":\"#2a3f5f\"},\"baxis\":{\"endlinecolor\":\"#2a3f5f\",\"gridcolor\":\"white\",\"linecolor\":\"white\",\"minorgridcolor\":\"white\",\"startlinecolor\":\"#2a3f5f\"},\"type\":\"carpet\"}],\"table\":[{\"cells\":{\"fill\":{\"color\":\"#EBF0F8\"},\"line\":{\"color\":\"white\"}},\"header\":{\"fill\":{\"color\":\"#C8D4E3\"},\"line\":{\"color\":\"white\"}},\"type\":\"table\"}],\"barpolar\":[{\"marker\":{\"line\":{\"color\":\"#E5ECF6\",\"width\":0.5},\"pattern\":{\"fillmode\":\"overlay\",\"size\":10,\"solidity\":0.2}},\"type\":\"barpolar\"}],\"pie\":[{\"automargin\":true,\"type\":\"pie\"}]},\"layout\":{\"autotypenumbers\":\"strict\",\"colorway\":[\"#636efa\",\"#EF553B\",\"#00cc96\",\"#ab63fa\",\"#FFA15A\",\"#19d3f3\",\"#FF6692\",\"#B6E880\",\"#FF97FF\",\"#FECB52\"],\"font\":{\"color\":\"#2a3f5f\"},\"hovermode\":\"closest\",\"hoverlabel\":{\"align\":\"left\"},\"paper_bgcolor\":\"white\",\"plot_bgcolor\":\"#E5ECF6\",\"polar\":{\"bgcolor\":\"#E5ECF6\",\"angularaxis\":{\"gridcolor\":\"white\",\"linecolor\":\"white\",\"ticks\":\"\"},\"radialaxis\":{\"gridcolor\":\"white\",\"linecolor\":\"white\",\"ticks\":\"\"}},\"ternary\":{\"bgcolor\":\"#E5ECF6\",\"aaxis\":{\"gridcolor\":\"white\",\"linecolor\":\"white\",\"ticks\":\"\"},\"baxis\":{\"gridcolor\":\"white\",\"linecolor\":\"white\",\"ticks\":\"\"},\"caxis\":{\"gridcolor\":\"white\",\"linecolor\":\"white\",\"ticks\":\"\"}},\"coloraxis\":{\"colorbar\":{\"outlinewidth\":0,\"ticks\":\"\"}},\"colorscale\":{\"sequential\":[[0.0,\"#0d0887\"],[0.1111111111111111,\"#46039f\"],[0.2222222222222222,\"#7201a8\"],[0.3333333333333333,\"#9c179e\"],[0.4444444444444444,\"#bd3786\"],[0.5555555555555556,\"#d8576b\"],[0.6666666666666666,\"#ed7953\"],[0.7777777777777778,\"#fb9f3a\"],[0.8888888888888888,\"#fdca26\"],[1.0,\"#f0f921\"]],\"sequentialminus\":[[0.0,\"#0d0887\"],[0.1111111111111111,\"#46039f\"],[0.2222222222222222,\"#7201a8\"],[0.3333333333333333,\"#9c179e\"],[0.4444444444444444,\"#bd3786\"],[0.5555555555555556,\"#d8576b\"],[0.6666666666666666,\"#ed7953\"],[0.7777777777777778,\"#fb9f3a\"],[0.8888888888888888,\"#fdca26\"],[1.0,\"#f0f921\"]],\"diverging\":[[0,\"#8e0152\"],[0.1,\"#c51b7d\"],[0.2,\"#de77ae\"],[0.3,\"#f1b6da\"],[0.4,\"#fde0ef\"],[0.5,\"#f7f7f7\"],[0.6,\"#e6f5d0\"],[0.7,\"#b8e186\"],[0.8,\"#7fbc41\"],[0.9,\"#4d9221\"],[1,\"#276419\"]]},\"xaxis\":{\"gridcolor\":\"white\",\"linecolor\":\"white\",\"ticks\":\"\",\"title\":{\"standoff\":15},\"zerolinecolor\":\"white\",\"automargin\":true,\"zerolinewidth\":2},\"yaxis\":{\"gridcolor\":\"white\",\"linecolor\":\"white\",\"ticks\":\"\",\"title\":{\"standoff\":15},\"zerolinecolor\":\"white\",\"automargin\":true,\"zerolinewidth\":2},\"scene\":{\"xaxis\":{\"backgroundcolor\":\"#E5ECF6\",\"gridcolor\":\"white\",\"linecolor\":\"white\",\"showbackground\":true,\"ticks\":\"\",\"zerolinecolor\":\"white\",\"gridwidth\":2},\"yaxis\":{\"backgroundcolor\":\"#E5ECF6\",\"gridcolor\":\"white\",\"linecolor\":\"white\",\"showbackground\":true,\"ticks\":\"\",\"zerolinecolor\":\"white\",\"gridwidth\":2},\"zaxis\":{\"backgroundcolor\":\"#E5ECF6\",\"gridcolor\":\"white\",\"linecolor\":\"white\",\"showbackground\":true,\"ticks\":\"\",\"zerolinecolor\":\"white\",\"gridwidth\":2}},\"shapedefaults\":{\"line\":{\"color\":\"#2a3f5f\"}},\"annotationdefaults\":{\"arrowcolor\":\"#2a3f5f\",\"arrowhead\":0,\"arrowwidth\":1},\"geo\":{\"bgcolor\":\"white\",\"landcolor\":\"#E5ECF6\",\"subunitcolor\":\"white\",\"showland\":true,\"showlakes\":true,\"lakecolor\":\"white\"},\"title\":{\"x\":0.05},\"mapbox\":{\"style\":\"light\"}}},\"xaxis\":{\"anchor\":\"y\",\"domain\":[0.0,1.0],\"title\":{\"text\":\"Year\"}},\"yaxis\":{\"anchor\":\"x\",\"domain\":[0.0,1.0],\"title\":{\"text\":\"Total\"}},\"legend\":{\"title\":{\"text\":\"Country\"},\"tracegroupgap\":0},\"margin\":{\"t\":60}},                        {\"responsive\": true}                    ).then(function(){\n",
       "                            \n",
       "var gd = document.getElementById('b24d124c-3b10-4a0a-abf3-9ce684cdfe99');\n",
       "var x = new MutationObserver(function (mutations, observer) {{\n",
       "        var display = window.getComputedStyle(gd).display;\n",
       "        if (!display || display === 'none') {{\n",
       "            console.log([gd, 'removed!']);\n",
       "            Plotly.purge(gd);\n",
       "            observer.disconnect();\n",
       "        }}\n",
       "}});\n",
       "\n",
       "// Listen for the removal of the full notebook cells\n",
       "var notebookContainer = gd.closest('#notebook-container');\n",
       "if (notebookContainer) {{\n",
       "    x.observe(notebookContainer, {childList: true});\n",
       "}}\n",
       "\n",
       "// Listen for the clearing of the current output cell\n",
       "var outputEl = gd.closest('.output');\n",
       "if (outputEl) {{\n",
       "    x.observe(outputEl, {childList: true});\n",
       "}}\n",
       "\n",
       "                        })                };                });            </script>        </div>"
      ]
     },
     "metadata": {},
     "output_type": "display_data"
    }
   ],
   "source": [
    "fig = px.scatter(df, x=\"Year\", y=\"Total\", color ='Country')\n",
    "fig.show()"
   ]
  },
  {
   "cell_type": "markdown",
   "id": "45cf65d2-75d1-4828-a5c3-be4279a8165e",
   "metadata": {},
   "source": [
    "# Graficas de fuentes principales de emsiones de Co2 por cada país del top 5"
   ]
  },
  {
   "cell_type": "markdown",
   "id": "2c50d8a3-ed3a-418b-a265-83deca900375",
   "metadata": {},
   "source": [
    "***Guia de colores***\n",
    "\n",
    "Coal: Azul\n",
    "\n",
    "Oil: Naranja\n",
    "\n",
    "Cement: Rojo\n",
    "\n",
    "Falring: Violeta"
   ]
  },
  {
   "cell_type": "code",
   "execution_count": 103,
   "id": "1e749d14-98e0-4d32-ae5c-f4c2e4bb5b6a",
   "metadata": {},
   "outputs": [
    {
     "data": {
      "text/plain": [
       "<AxesSubplot:xlabel='Total', ylabel='Coal'>"
      ]
     },
     "execution_count": 103,
     "metadata": {},
     "output_type": "execute_result"
    },
    {
     "data": {
      "image/png": "[encoded data removed]",
      "text/plain": [
       "<Figure size 640x480 with 1 Axes>"
      ]
     },
     "metadata": {},
     "output_type": "display_data"
    }
   ],
   "source": [
    "sns.lineplot(x='Total',y='Coal',data=China_data)\n",
    "sns.lineplot(x='Total',y='Oil',data=China_data)\n",
    "sns.lineplot(x='Total',y='Gas',data=China_data)\n",
    "sns.lineplot(x='Total',y='Cement',data=China_data)\n",
    "sns.lineplot(x='Total',y='Flaring',data=China_data)"
   ]
  },
  {
   "cell_type": "markdown",
   "id": "25467e4c-1110-4478-a477-9e5e6ae2144d",
   "metadata": {},
   "source": [
    "***En China se puede observar que Coal (Cobalto) es la mayor fuente de contaminación***"
   ]
  },
  {
   "cell_type": "code",
   "execution_count": 104,
   "id": "fb4734e3-c365-499c-9fa8-41fa47f68013",
   "metadata": {},
   "outputs": [
    {
     "data": {
      "text/plain": [
       "<AxesSubplot:xlabel='Total', ylabel='Coal'>"
      ]
     },
     "execution_count": 104,
     "metadata": {},
     "output_type": "execute_result"
    },
    {
     "data": {
      "image/png": "[encoded data removed]",
      "text/plain": [
       "<Figure size 640x480 with 1 Axes>"
      ]
     },
     "metadata": {},
     "output_type": "display_data"
    }
   ],
   "source": [
    "sns.lineplot(x='Total',y='Coal',data=USA_data)\n",
    "sns.lineplot(x='Total',y='Oil',data=USA_data)\n",
    "sns.lineplot(x='Total',y='Gas',data=USA_data)\n",
    "sns.lineplot(x='Total',y='Cement',data=USA_data)\n",
    "sns.lineplot(x='Total',y='Flaring',data=USA_data)"
   ]
  },
  {
   "cell_type": "markdown",
   "id": "95dbc89c-1d92-4441-bd67-c3ebe0bf7a37",
   "metadata": {},
   "source": [
    "***En Estados Unidos se puede observar que Oil (Petroleo) es la mayor fuente de contaminación***"
   ]
  },
  {
   "cell_type": "code",
   "execution_count": 105,
   "id": "61cb44cb-9fd3-4101-be32-04eab2c3c5af",
   "metadata": {},
   "outputs": [
    {
     "data": {
      "text/plain": [
       "<AxesSubplot:xlabel='Total', ylabel='Coal'>"
      ]
     },
     "execution_count": 105,
     "metadata": {},
     "output_type": "execute_result"
    },
    {
     "data": {
      "image/png": "[encoded data removed]",
      "text/plain": [
       "<Figure size 640x480 with 1 Axes>"
      ]
     },
     "metadata": {},
     "output_type": "display_data"
    }
   ],
   "source": [
    "sns.lineplot(x='Total',y='Coal',data=Russia_data)\n",
    "sns.lineplot(x='Total',y='Oil',data=Russia_data)\n",
    "sns.lineplot(x='Total',y='Gas',data=Russia_data)\n",
    "sns.lineplot(x='Total',y='Cement',data=Russia_data)\n",
    "sns.lineplot(x='Total',y='Flaring',data=Russia_data)"
   ]
  },
  {
   "cell_type": "markdown",
   "id": "46402ac1-2ed0-4677-a92d-fb2048f3e27c",
   "metadata": {},
   "source": [
    "***En Rusia se puede observar que Oil (Petroleo) es la mayor fuente de contaminación***"
   ]
  },
  {
   "cell_type": "code",
   "execution_count": 106,
   "id": "826e24d0-a68f-437d-aa09-4716b118b175",
   "metadata": {},
   "outputs": [
    {
     "data": {
      "text/plain": [
       "<AxesSubplot:xlabel='Total', ylabel='Coal'>"
      ]
     },
     "execution_count": 106,
     "metadata": {},
     "output_type": "execute_result"
    },
    {
     "data": {
      "image/png": "[encoded data removed]",
      "text/plain": [
       "<Figure size 640x480 with 1 Axes>"
      ]
     },
     "metadata": {},
     "output_type": "display_data"
    }
   ],
   "source": [
    "sns.lineplot(x='Total',y='Coal',data=Germany_data)\n",
    "sns.lineplot(x='Total',y='Oil',data=Germany_data)\n",
    "sns.lineplot(x='Total',y='Gas',data=Germany_data)\n",
    "sns.lineplot(x='Total',y='Cement',data=Germany_data)\n",
    "sns.lineplot(x='Total',y='Flaring',data=Germany_data)"
   ]
  },
  {
   "cell_type": "markdown",
   "id": "89be88cf-aa5f-422b-97ce-5892365669db",
   "metadata": {},
   "source": [
    "***En Alemania se puede observar que Coal (Cobalto) es la mayor fuente de contaminación***"
   ]
  },
  {
   "cell_type": "code",
   "execution_count": 107,
   "id": "88d97409-7604-4122-9173-e460da17e287",
   "metadata": {},
   "outputs": [
    {
     "data": {
      "text/plain": [
       "<AxesSubplot:xlabel='Total', ylabel='Coal'>"
      ]
     },
     "execution_count": 107,
     "metadata": {},
     "output_type": "execute_result"
    },
    {
     "data": {
      "image/png": "[encoded data removed]",
      "text/plain": [
       "<Figure size 640x480 with 1 Axes>"
      ]
     },
     "metadata": {},
     "output_type": "display_data"
    }
   ],
   "source": [
    "sns.lineplot(x='Total',y='Coal',data=unitedKingdom_data)\n",
    "sns.lineplot(x='Total',y='Oil',data=unitedKingdom_data)\n",
    "sns.lineplot(x='Total',y='Gas',data=unitedKingdom_data)\n",
    "sns.lineplot(x='Total',y='Cement',data=unitedKingdom_data)\n",
    "sns.lineplot(x='Total',y='Flaring',data=unitedKingdom_data)"
   ]
  },
  {
   "cell_type": "markdown",
   "id": "25b95609-4899-432b-85fa-73cdb317c6dd",
   "metadata": {},
   "source": [
    "***En Reino Unido se puede observar que Coal (Cobalto) es la mayor fuente de contaminación***"
   ]
  },
  {
   "cell_type": "markdown",
   "id": "423409a7-2eaf-4749-b7cb-43bdd26644d9",
   "metadata": {},
   "source": [
    "# Comenzamos a aplicar IA"
   ]
  },
  {
   "cell_type": "markdown",
   "id": "8d770901-0e42-4711-b303-a9089022d342",
   "metadata": {},
   "source": [
    "Primeramente nos encargamos que los datos que posean valores numericos, en este caso binarios con la funcion get_dummies"
   ]
  },
  {
   "cell_type": "code",
   "execution_count": 108,
   "id": "9fe85b39-af56-4d3e-a24a-800b60dc8b79",
   "metadata": {},
   "outputs": [],
   "source": [
    "df=pd.get_dummies(df, columns=['ISO 3166-1 alpha-3'], drop_first=True)\n",
    "df=pd.get_dummies(df, columns=['Country'], drop_first=True)"
   ]
  },
  {
   "cell_type": "markdown",
   "id": "0c4d1853-2aae-419f-ae6a-fa9b2baf52b5",
   "metadata": {},
   "source": [
    "Separamos los datos de entrenamientos que en este caso es el Total"
   ]
  },
  {
   "cell_type": "code",
   "execution_count": 109,
   "id": "17de88e1-3f4c-4df5-ac0a-104b429ce1f2",
   "metadata": {},
   "outputs": [],
   "source": [
    "X = df.drop('Total', axis=1)       # feature matrix\n",
    "y = df['Total']               # target feature"
   ]
  },
  {
   "cell_type": "markdown",
   "id": "ab7c9800-516b-4a31-908f-3dfe55e4bb18",
   "metadata": {},
   "source": [
    "Procedemos a ver que nos apartamos el eje Y el cual es de nuestro interes"
   ]
  },
  {
   "cell_type": "code",
   "execution_count": 110,
   "id": "5955db89-a8d5-454d-bd57-ccca8b8add24",
   "metadata": {},
   "outputs": [
    {
     "data": {
      "text/plain": [
       "3232       278.154156\n",
       "3233       279.528510\n",
       "3234       284.525345\n",
       "3235       288.870537\n",
       "3236       293.696553\n",
       "             ...     \n",
       "63099    36096.739276\n",
       "63100    36826.506600\n",
       "63101    37082.558969\n",
       "63102    35264.085734\n",
       "63103    37123.850352\n",
       "Name: Total, Length: 1619, dtype: float64"
      ]
     },
     "execution_count": 110,
     "metadata": {},
     "output_type": "execute_result"
    }
   ],
   "source": [
    "y"
   ]
  },
  {
   "cell_type": "markdown",
   "id": "3439aa49-fbb3-440d-b4db-4ff25e4ca875",
   "metadata": {},
   "source": [
    "# Metodo\n",
    "\n",
    "Elegimos un metodo de regresion ya que el target sobre el que trabajo es total"
   ]
  },
  {
   "cell_type": "markdown",
   "id": "b8b2a421-4b56-4cf7-ae7e-532397e403dd",
   "metadata": {},
   "source": [
    "# Metricas"
   ]
  },
  {
   "cell_type": "code",
   "execution_count": 111,
   "id": "9858e600-d394-4719-bd8c-c7d7b577ce04",
   "metadata": {
    "id": "VLq1HCao22dh"
   },
   "outputs": [],
   "source": [
    "from sklearn.linear_model import LinearRegression\n",
    "#from sklearn.preprocessing import\n",
    "from sklearn.model_selection import train_test_split\n",
    "from sklearn.metrics import mean_absolute_error, r2_score\n",
    "import statsmodels.api as sm\n",
    "import sys\n",
    "import joblib\n",
    "import warnings\n",
    "warnings.filterwarnings(\"ignore\")\n",
    "from sklearn.metrics import mean_squared_error\n",
    "\n",
    "sys.modules['sklearn.externals.joblib'] = joblib\n",
    "\n",
    "from mlxtend.feature_selection import SequentialFeatureSelector as SFS"
   ]
  },
  {
   "cell_type": "code",
   "execution_count": 112,
   "id": "3c520236-1121-42cc-9118-abca65db9ad0",
   "metadata": {},
   "outputs": [],
   "source": [
    "X_train,X_test,y_train,y_test=train_test_split(X,y,test_size=0.2,random_state=2)\n",
    " "
   ]
  },
  {
   "cell_type": "code",
   "execution_count": 113,
   "id": "7e945ff0-b2b4-40ed-98bb-a29cafaa8cda",
   "metadata": {},
   "outputs": [
    {
     "data": {
      "text/html": [
       "<div>\n",
       "<style scoped>\n",
       "    .dataframe tbody tr th:only-of-type {\n",
       "        vertical-align: middle;\n",
       "    }\n",
       "\n",
       "    .dataframe tbody tr th {\n",
       "        vertical-align: top;\n",
       "    }\n",
       "\n",
       "    .dataframe thead th {\n",
       "        text-align: right;\n",
       "    }\n",
       "</style>\n",
       "<table border=\"1\" class=\"dataframe\">\n",
       "  <thead>\n",
       "    <tr style=\"text-align: right;\">\n",
       "      <th></th>\n",
       "      <th>Coal</th>\n",
       "      <th>Oil</th>\n",
       "      <th>Gas</th>\n",
       "      <th>Cement</th>\n",
       "      <th>Flaring</th>\n",
       "    </tr>\n",
       "  </thead>\n",
       "  <tbody>\n",
       "    <tr>\n",
       "      <th>3232</th>\n",
       "      <td>141.879819</td>\n",
       "      <td>88.842090</td>\n",
       "      <td>34.454816</td>\n",
       "      <td>3.462872</td>\n",
       "      <td>7.272496</td>\n",
       "    </tr>\n",
       "    <tr>\n",
       "      <th>3233</th>\n",
       "      <td>146.082840</td>\n",
       "      <td>88.245572</td>\n",
       "      <td>32.786243</td>\n",
       "      <td>3.183033</td>\n",
       "      <td>7.001201</td>\n",
       "    </tr>\n",
       "    <tr>\n",
       "      <th>3234</th>\n",
       "      <td>150.051381</td>\n",
       "      <td>87.916828</td>\n",
       "      <td>33.970472</td>\n",
       "      <td>2.923411</td>\n",
       "      <td>7.303701</td>\n",
       "    </tr>\n",
       "    <tr>\n",
       "      <th>3235</th>\n",
       "      <td>150.098575</td>\n",
       "      <td>90.386578</td>\n",
       "      <td>35.670002</td>\n",
       "      <td>3.004698</td>\n",
       "      <td>7.136743</td>\n",
       "    </tr>\n",
       "    <tr>\n",
       "      <th>3236</th>\n",
       "      <td>151.376241</td>\n",
       "      <td>91.924087</td>\n",
       "      <td>37.032005</td>\n",
       "      <td>3.484276</td>\n",
       "      <td>6.880148</td>\n",
       "    </tr>\n",
       "    <tr>\n",
       "      <th>...</th>\n",
       "      <td>...</td>\n",
       "      <td>...</td>\n",
       "      <td>...</td>\n",
       "      <td>...</td>\n",
       "      <td>...</td>\n",
       "    </tr>\n",
       "    <tr>\n",
       "      <th>63099</th>\n",
       "      <td>14506.973805</td>\n",
       "      <td>12242.627935</td>\n",
       "      <td>7144.928128</td>\n",
       "      <td>1507.923185</td>\n",
       "      <td>391.992176</td>\n",
       "    </tr>\n",
       "    <tr>\n",
       "      <th>63100</th>\n",
       "      <td>14746.830688</td>\n",
       "      <td>12266.016285</td>\n",
       "      <td>7529.846784</td>\n",
       "      <td>1569.218392</td>\n",
       "      <td>412.115746</td>\n",
       "    </tr>\n",
       "    <tr>\n",
       "      <th>63101</th>\n",
       "      <td>14725.978025</td>\n",
       "      <td>12345.653374</td>\n",
       "      <td>7647.528220</td>\n",
       "      <td>1617.506786</td>\n",
       "      <td>439.253991</td>\n",
       "    </tr>\n",
       "    <tr>\n",
       "      <th>63102</th>\n",
       "      <td>14174.564010</td>\n",
       "      <td>11191.808551</td>\n",
       "      <td>7556.290283</td>\n",
       "      <td>1637.537532</td>\n",
       "      <td>407.583673</td>\n",
       "    </tr>\n",
       "    <tr>\n",
       "      <th>63103</th>\n",
       "      <td>14979.598083</td>\n",
       "      <td>11837.159116</td>\n",
       "      <td>7921.829472</td>\n",
       "      <td>1672.592372</td>\n",
       "      <td>416.525563</td>\n",
       "    </tr>\n",
       "  </tbody>\n",
       "</table>\n",
       "<p>1619 rows × 5 columns</p>\n",
       "</div>"
      ],
      "text/plain": [
       "               Coal           Oil          Gas       Cement     Flaring\n",
       "3232     141.879819     88.842090    34.454816     3.462872    7.272496\n",
       "3233     146.082840     88.245572    32.786243     3.183033    7.001201\n",
       "3234     150.051381     87.916828    33.970472     2.923411    7.303701\n",
       "3235     150.098575     90.386578    35.670002     3.004698    7.136743\n",
       "3236     151.376241     91.924087    37.032005     3.484276    6.880148\n",
       "...             ...           ...          ...          ...         ...\n",
       "63099  14506.973805  12242.627935  7144.928128  1507.923185  391.992176\n",
       "63100  14746.830688  12266.016285  7529.846784  1569.218392  412.115746\n",
       "63101  14725.978025  12345.653374  7647.528220  1617.506786  439.253991\n",
       "63102  14174.564010  11191.808551  7556.290283  1637.537532  407.583673\n",
       "63103  14979.598083  11837.159116  7921.829472  1672.592372  416.525563\n",
       "\n",
       "[1619 rows x 5 columns]"
      ]
     },
     "execution_count": 113,
     "metadata": {},
     "output_type": "execute_result"
    }
   ],
   "source": [
    "sfs1=SFS(LinearRegression(),\n",
    "         k_features=5,\n",
    "         forward=True,\n",
    "         floating=False,\n",
    "         scoring='r2',\n",
    "         cv=2)\n",
    "\n",
    "sfs1.fit(X_train,y_train)\n",
    "df1=df[list(sfs1.k_feature_names_)]\n",
    "df1"
   ]
  },
  {
   "cell_type": "code",
   "execution_count": 114,
   "id": "02c83a5b-e566-41a5-bbc5-8014c736c88c",
   "metadata": {},
   "outputs": [
    {
     "data": {
      "text/plain": [
       "('Coal', 'Oil', 'Gas', 'Cement', 'Flaring')"
      ]
     },
     "execution_count": 114,
     "metadata": {},
     "output_type": "execute_result"
    }
   ],
   "source": [
    "sfs1.k_feature_names_"
   ]
  },
  {
   "cell_type": "markdown",
   "id": "d47907fe-4cc6-4eba-9185-52f8403bfbf0",
   "metadata": {},
   "source": [
    "***Entrenamiento***"
   ]
  },
  {
   "cell_type": "code",
   "execution_count": 115,
   "id": "37026fba-cb79-43b2-a238-b091e8e107da",
   "metadata": {},
   "outputs": [
    {
     "name": "stdout",
     "output_type": "stream",
     "text": [
      "Coeficientes: [1.01395156 1.00887364 0.97764948 1.06460015 1.13453866]\n",
      "Intercepto: 1.0850332035811334\n",
      "R^2: 0.9999974218528245\n"
     ]
    }
   ],
   "source": [
    "X = df[['Coal',\n",
    " 'Oil',\n",
    " 'Gas',\n",
    " 'Cement',\n",
    " 'Flaring']]\n",
    "\n",
    "X_train,X_test,y_train,y_test=train_test_split(X,y,test_size=0.2,random_state=2)\n",
    "\n",
    "reg = LinearRegression()\n",
    "\n",
    "reg.fit(X_train, y_train)\n",
    "\n",
    "y_pred = reg.predict(X_test)\n",
    "\n",
    "print('Coeficientes:', reg.coef_)\n",
    "print('Intercepto:', reg.intercept_)\n",
    "print('R^2:', reg.score(X_test, y_test))"
   ]
  },
  {
   "cell_type": "code",
   "execution_count": 116,
   "id": "2c1f0bac-a1b6-4b37-b84c-7a4da59e89ac",
   "metadata": {},
   "outputs": [],
   "source": [
    "lr=LinearRegression()"
   ]
  },
  {
   "cell_type": "code",
   "execution_count": 117,
   "id": "5235fcb5-e473-42dc-9a95-46bc7863d228",
   "metadata": {},
   "outputs": [
    {
     "data": {
      "text/plain": [
       "LinearRegression()"
      ]
     },
     "execution_count": 117,
     "metadata": {},
     "output_type": "execute_result"
    }
   ],
   "source": [
    "lr.fit(X_train,y_train)"
   ]
  },
  {
   "cell_type": "markdown",
   "id": "6925badd-01d3-4579-a2ea-09e78956e27a",
   "metadata": {},
   "source": [
    "***Test***"
   ]
  },
  {
   "cell_type": "code",
   "execution_count": 118,
   "id": "1f16e0ed-6e3f-435f-8ec7-ba09f0d2c5ab",
   "metadata": {},
   "outputs": [],
   "source": [
    "y_pred = lr.predict(X_test)"
   ]
  },
  {
   "cell_type": "markdown",
   "id": "d118f836-39a7-4bc3-9a77-af951602d8cc",
   "metadata": {},
   "source": [
    "***CALCULAMOS MAE***"
   ]
  },
  {
   "cell_type": "code",
   "execution_count": 119,
   "id": "f7db0645-79d1-4538-979e-ef13cba0b60b",
   "metadata": {},
   "outputs": [
    {
     "name": "stdout",
     "output_type": "stream",
     "text": [
      "MAE 3.1212385083989505\n"
     ]
    }
   ],
   "source": [
    "print(\"MAE\",mean_absolute_error(y_test,y_pred))"
   ]
  },
  {
   "cell_type": "markdown",
   "id": "aab4381b-27eb-4f03-baef-46ea6b9447d9",
   "metadata": {},
   "source": [
    "***CALCULAMOS R2***"
   ]
  },
  {
   "cell_type": "code",
   "execution_count": 120,
   "id": "2f9089d2-b2be-4007-9e42-08c47e324429",
   "metadata": {},
   "outputs": [
    {
     "name": "stdout",
     "output_type": "stream",
     "text": [
      "R2 0.9999974218528245\n"
     ]
    }
   ],
   "source": [
    "print(\"R2\",r2_score(y_test,y_pred))"
   ]
  },
  {
   "cell_type": "markdown",
   "id": "32183034-4e84-462a-a849-e56d59b3be1c",
   "metadata": {},
   "source": [
    "***R2 se Aproxima bastante bien a 1 por lo indica que el modelo esta bien***"
   ]
  },
  {
   "cell_type": "markdown",
   "id": "e440ad0e-84ae-4604-841d-3d67fe9c1ba3",
   "metadata": {},
   "source": [
    "***CALCULAMOS MSE***"
   ]
  },
  {
   "cell_type": "code",
   "execution_count": 121,
   "id": "072d8bff-8a97-4cbd-9546-7b2b0ca32d0d",
   "metadata": {},
   "outputs": [
    {
     "name": "stdout",
     "output_type": "stream",
     "text": [
      "MSE 42.77550163111203\n"
     ]
    }
   ],
   "source": [
    "print(\"MSE\",mean_squared_error(y_test,y_pred))"
   ]
  },
  {
   "cell_type": "markdown",
   "id": "9f5161cb-48d3-4800-a917-8d82e0240f4c",
   "metadata": {},
   "source": [
    "# Evaluando modelos ML"
   ]
  },
  {
   "cell_type": "markdown",
   "id": "d2523abc-0b31-4e87-85d4-eeded9ba5e1a",
   "metadata": {},
   "source": [
    "***Resultados de Test***\n",
    "\n",
    "MAE 3.1212385083989505\n",
    "\n",
    "R2 0.9999974218528245\n",
    "\n",
    "MSE 42.77550163111203\n"
   ]
  },
  {
   "cell_type": "markdown",
   "id": "2230660f-0fa2-4d56-8c64-1c27b5e66a21",
   "metadata": {},
   "source": [
    "***Resultados de Entrenamiento*** \n",
    "\n",
    "Coeficientes: [1.01395156 1.00887364 0.97764948 1.06460015 1.13453866]\n",
    "\n",
    "Intercepto: 1.0850332035811334\n",
    "\n",
    "R2: 0.9999974218528245"
   ]
  },
  {
   "cell_type": "markdown",
   "id": "4823268a-c3c4-42f3-b81f-fa43442f1bee",
   "metadata": {},
   "source": [
    "***A modo de prueba probamos Random Forest***"
   ]
  },
  {
   "cell_type": "markdown",
   "id": "9db5ca4c-3cda-4559-bc64-623594bd9876",
   "metadata": {},
   "source": [
    "***Importamos las bibliotecas necesarias***"
   ]
  },
  {
   "cell_type": "code",
   "execution_count": 122,
   "id": "0ed39c28-90ac-4c2b-a321-839098b1337f",
   "metadata": {},
   "outputs": [],
   "source": [
    "from sklearn.ensemble import RandomForestClassifier\n",
    "from sklearn.datasets import make_classification\n",
    "from sklearn.model_selection import train_test_split\n"
   ]
  },
  {
   "cell_type": "markdown",
   "id": "5e1e699c-86ef-458e-9684-93421207a748",
   "metadata": {},
   "source": [
    "A continuación, generamos algunos datos de ejemplo utilizando la función make_classification"
   ]
  },
  {
   "cell_type": "code",
   "execution_count": 123,
   "id": "7c56d5ad-f655-40c2-a05e-c1209e6817bf",
   "metadata": {},
   "outputs": [],
   "source": [
    "X, y = make_classification(n_samples=1000, n_features=4,\n",
    "                            n_informative=2, n_redundant=0,\n",
    "                            random_state=42)\n"
   ]
  },
  {
   "cell_type": "markdown",
   "id": "a58834b4-b8c1-40dc-8d10-b9684a53053d",
   "metadata": {},
   "source": [
    "A continuación, dividimos los datos en conjuntos de entrenamiento y prueba"
   ]
  },
  {
   "cell_type": "code",
   "execution_count": 124,
   "id": "737d0b70-e88a-4601-a6c0-067a48d78b25",
   "metadata": {},
   "outputs": [],
   "source": [
    "X_train, X_test, y_train, y_test = train_test_split(X, y, random_state=42)\n"
   ]
  },
  {
   "cell_type": "markdown",
   "id": "4d829038-820b-4acf-bb84-9667f3567d73",
   "metadata": {},
   "source": [
    "Luego, creamos el modelo de Random Forest"
   ]
  },
  {
   "cell_type": "code",
   "execution_count": 125,
   "id": "f048f757-3a53-478f-a294-893480c57977",
   "metadata": {},
   "outputs": [],
   "source": [
    "clf = RandomForestClassifier(n_estimators=100, max_depth=2, random_state=42)\n"
   ]
  },
  {
   "cell_type": "markdown",
   "id": "7a234cec-22c1-4275-8240-6795507a1d4f",
   "metadata": {},
   "source": [
    "A continuación, ajustamos el modelo utilizando los datos de entrenamiento"
   ]
  },
  {
   "cell_type": "code",
   "execution_count": 126,
   "id": "7f204fb6-b109-4bb6-9066-96b4b7e188b1",
   "metadata": {},
   "outputs": [
    {
     "data": {
      "text/plain": [
       "RandomForestClassifier(max_depth=2, random_state=42)"
      ]
     },
     "execution_count": 126,
     "metadata": {},
     "output_type": "execute_result"
    }
   ],
   "source": [
    "clf.fit(X_train, y_train)\n"
   ]
  },
  {
   "cell_type": "markdown",
   "id": "f67df164-0155-450b-aae8-4eb0e8ee4591",
   "metadata": {},
   "source": [
    "Finalmente, podemos utilizar el modelo para hacer predicciones en los datos de prueba y evaluar su rendimiento:\n",
    "\n"
   ]
  },
  {
   "cell_type": "code",
   "execution_count": 127,
   "id": "3672b6a0-2286-4c32-b70a-50e7322df6ed",
   "metadata": {},
   "outputs": [
    {
     "name": "stdout",
     "output_type": "stream",
     "text": [
      "Accuracy: 0.89\n"
     ]
    }
   ],
   "source": [
    "y_pred = clf.predict(X_test)\n",
    "accuracy = clf.score(X_test, y_test)\n",
    "print(f\"Accuracy: {accuracy:.2f}\")\n"
   ]
  },
  {
   "cell_type": "markdown",
   "id": "8cf0b437-a872-4ca2-a92f-62e760db6feb",
   "metadata": {},
   "source": [
    "# Conclusión\n",
    "\n",
    "La comparación entre el conjunto de entrenamiento y el conjunto de prueba es una práctica común en la evaluación del desempeño de modelos de aprendizaje automático, con el objetivo de determinar la capacidad de generalización del modelo a nuevos datos. En este sentido, los resultados obtenidos indican que el modelo presenta un valor muy elevado de R2 tanto para el conjunto de entrenamiento como para el conjunto de prueba, lo que sugiere que el modelo se ajusta satisfactoriamente a los datos y es capaz de explicar gran parte de la variabilidad en ellos.\n",
    "\n",
    "No obstante, el valor de MAE y MSE para el conjunto de prueba es superior al valor correspondiente para el conjunto de entrenamiento, lo que indica la posibilidad de que el modelo esté sobreajustando los datos de entrenamiento y no sea capaz de generalizar adecuadamente a nuevos datos. En otras palabras, es posible que el modelo haya memorizado los datos de entrenamiento en lugar de aprender la relación entre las variables predictoras y la variable objetivo.\n",
    "\n",
    "Es fundamental destacar que, si bien el modelo presenta un buen ajuste en ambos conjuntos de datos, es esencial considerar el valor de MAE y MSE para el conjunto de prueba a fin de evaluar la capacidad de generalización del modelo y asegurarse de que no esté sobreajustando los datos de entrenamiento. En este sentido, resulta necesario aplicar técnicas como la regularización, la reducción del número de variables predictoras o la adición de más datos de entrenamiento para evitar el sobreajuste del modelo.\n",
    "\n",
    "En relación al uso del algoritmo Random Forest, los resultados muestran un Accuracy del 89%, lo que indica que el modelo ha sido capaz de clasificar correctamente el 89% de las muestras de prueba. Cabe destacar que, en este contexto, el modelo utiliza varios árboles de decisión para llevar a cabo la clasificación, y el Accuracy se refiere a la proporción de muestras de prueba clasificadas correctamente por el modelo en comparación con el total de muestras de prueba.\n",
    "\n",
    "\n",
    "\n",
    "\n",
    "\n"
   ]
  }
 ],
 "metadata": {
  "kernelspec": {
   "display_name": "Python 3 (ipykernel)",
   "language": "python",
   "name": "python3"
  },
  "language_info": {
   "codemirror_mode": {
    "name": "ipython",
    "version": 3
   },
   "file_extension": ".py",
   "mimetype": "text/x-python",
   "name": "python",
   "nbconvert_exporter": "python",
   "pygments_lexer": "ipython3",
   "version": "3.9.13"
  }
 },
 "nbformat": 4,
 "nbformat_minor": 5
}
